{
 "cells": [
  {
   "cell_type": "code",
   "execution_count": 1,
   "id": "ca07bf3a",
   "metadata": {},
   "outputs": [],
   "source": [
    "import torch\n",
    "from torch.utils.data import Dataset, DataLoader\n",
    "import torch.nn as nn\n",
    "import torch.nn.functional as F\n",
    "import os, os.path\n",
    "import numpy as np\n",
    "import pickle\n",
    "from glob import glob\n",
    "from tqdm import tqdm\n",
    "import csv\n",
    "import matplotlib.pyplot as plt"
   ]
  },
  {
   "cell_type": "code",
   "execution_count": 2,
   "id": "e8fb55d4",
   "metadata": {},
   "outputs": [],
   "source": [
    "class ArgoverseDataset(Dataset):\n",
    "    '''Dataset Class for Argoverse'''\n",
    "\n",
    "    def __init__(self, data_path: str, transform=None):\n",
    "        super(ArgoverseDataset, self).__init__()\n",
    "        self.data_path = data_path\n",
    "        self.transform = transform\n",
    "\n",
    "        self.pkl_list = glob(os.path.join(self.data_path, \"*\"))\n",
    "        self.pkl_list.sort()\n",
    "\n",
    "    def __len__(self):\n",
    "        return len(self.pkl_list)\n",
    "\n",
    "    def __getitem__(self, index):\n",
    "        pkl_path = self.pkl_list[index]\n",
    "\n",
    "        with open(pkl_path, \"rb\") as p:\n",
    "            data = pickle.load(p)\n",
    "\n",
    "        if self.transform:\n",
    "            data = self.transform(data)\n",
    "\n",
    "        return data"
   ]
  },
  {
   "cell_type": "code",
   "execution_count": 3,
   "id": "11017f5f",
   "metadata": {},
   "outputs": [],
   "source": [
    "train_dataset = ArgoverseDataset(data_path=\"data/new_train/\")"
   ]
  },
  {
   "cell_type": "code",
   "execution_count": null,
   "id": "8cb78d7c",
   "metadata": {
    "scrolled": false
   },
   "outputs": [],
   "source": [
    "print(\"TOTAL TRAIN SAMPLES:\", train_dataset.__len__())\n",
    "print()\n",
    "for key in train_dataset.__getitem__(0):\n",
    "    '''\n",
    "    city, lane, lane_norm, scene_idx, agent_id, car_mask\n",
    "    *p_in*, *v_in*, *p_out*, *v_out*, track_id\n",
    "    '''\n",
    "    \n",
    "    if key == \"p_in\":\n",
    "        \n",
    "        '''\n",
    "        Min-Max Normalization to be in range [0, 1]\n",
    "        \n",
    "        x' = x - min(x) / max(x) - min(x)\n",
    "        '''\n",
    "        \n",
    "        orig_arr = train_dataset.__getitem__(0)[key] # (60, 19, 2)\n",
    "        orig_arr[orig_arr == 0] = np.nan\n",
    "        \n",
    "        p_0 = orig_arr[0][0]\n",
    "        \n",
    "        a_min, a_max = np.nanmin(orig_arr), np.nanmax(orig_arr)\n",
    "        \n",
    "        print(\"min:\", a_min, \"max:\", a_max)\n",
    "        \n",
    "        minmax_arr = (orig_arr - a_min) / (a_max - a_min)\n",
    "        \n",
    "        p_0 = minmax_arr[0][0]\n",
    "        \n",
    "        minmax_zero = minmax_arr - p_0\n",
    "        \n",
    "        print(minmax_zero[:,18].shape)\n",
    "        #print(minmax_arr[:60][:].shape)\n",
    "        \n",
    "        minmax_reshape = minmax_zero[:,1].reshape(-1, 2)\n",
    "        \n",
    "        #print(minmax_reshape.shape)\n",
    "                \n",
    "        #new = arr.reshape(-1, 2) # (60*19, 2) = (1140, 2)\n",
    "        #print(\"p_in shape after:\", new.shape)"
   ]
  },
  {
   "cell_type": "code",
   "execution_count": 4,
   "id": "02586b38",
   "metadata": {},
   "outputs": [],
   "source": [
    "def zeroNormNP(array, scale=1000, size=19, pos=np.array([-1, -1])):\n",
    "    temp = []\n",
    "    if np.array_equal(pos, np.array([-1, -1])):\n",
    "        temp = array[:,0]\n",
    "    else:\n",
    "        temp = pos # should be N, 2\n",
    "    temp = np.expand_dims(temp, 1)\n",
    "    temp = np.repeat(temp, size, 1)\n",
    "    \n",
    "    return (array - temp) / scale, array[:,0]"
   ]
  },
  {
   "cell_type": "code",
   "execution_count": 88,
   "id": "e45367bb",
   "metadata": {},
   "outputs": [
    {
     "name": "stdout",
     "output_type": "stream",
     "text": [
      "(19, 60) (19, 60) (30, 60) (30, 60)\n"
     ]
    },
    {
     "data": {
      "image/png": "[encoded data removed]",
      "text/plain": [
       "<Figure size 432x288 with 1 Axes>"
      ]
     },
     "metadata": {},
     "output_type": "display_data"
    }
   ],
   "source": [
    "'''\n",
    "before\n",
    "'''\n",
    "scene1_in = train_dataset.__getitem__(0)[\"v_in\"]\n",
    "scene1_out = train_dataset.__getitem__(0)[\"v_out\"]\n",
    "\n",
    "a, b = scene1_in.T\n",
    "c, d = scene1_out.T\n",
    "\n",
    "print(a.shape, b.shape, c.shape, d.shape)\n",
    "\n",
    "plt.scatter(a, b, c=\"r\", alpha=0.2)\n",
    "plt.scatter(c, d, c=\"b\", alpha=0.2)\n",
    "plt.title(\"[p_in, p_out] sample positions from scene 0 [before normalization]\")\n",
    "plt.legend([\"p_in\", \"p_out\"])\n",
    "plt.show()"
   ]
  },
  {
   "cell_type": "code",
   "execution_count": 83,
   "id": "079007be",
   "metadata": {},
   "outputs": [
    {
     "data": {
      "text/plain": [
       "(60, 19, 2)"
      ]
     },
     "execution_count": 83,
     "metadata": {},
     "output_type": "execute_result"
    }
   ],
   "source": [
    "scene1_in.shape"
   ]
  },
  {
   "cell_type": "code",
   "execution_count": 70,
   "id": "c38fc1b5",
   "metadata": {},
   "outputs": [
    {
     "ename": "ValueError",
     "evalue": "too many values to unpack (expected 3)",
     "output_type": "error",
     "traceback": [
      "\u001b[0;31m---------------------------------------------------------------------------\u001b[0m",
      "\u001b[0;31mValueError\u001b[0m                                Traceback (most recent call last)",
      "\u001b[0;32m<ipython-input-70-f0c12f01c85a>\u001b[0m in \u001b[0;36m<module>\u001b[0;34m\u001b[0m\n\u001b[1;32m      7\u001b[0m \u001b[0max\u001b[0m \u001b[0;34m=\u001b[0m \u001b[0mAxes3D\u001b[0m\u001b[0;34m(\u001b[0m\u001b[0mfig\u001b[0m\u001b[0;34m)\u001b[0m\u001b[0;34m\u001b[0m\u001b[0;34m\u001b[0m\u001b[0m\n\u001b[1;32m      8\u001b[0m \u001b[0;34m\u001b[0m\u001b[0m\n\u001b[0;32m----> 9\u001b[0;31m \u001b[0mx_vals\u001b[0m\u001b[0;34m,\u001b[0m \u001b[0my_vals\u001b[0m\u001b[0;34m,\u001b[0m \u001b[0mz_vals\u001b[0m \u001b[0;34m=\u001b[0m \u001b[0mscene1_in\u001b[0m\u001b[0;34m\u001b[0m\u001b[0;34m\u001b[0m\u001b[0m\n\u001b[0m\u001b[1;32m     10\u001b[0m \u001b[0;31m#y_vals = list(range(0, 100))\u001b[0m\u001b[0;34m\u001b[0m\u001b[0;34m\u001b[0m\u001b[0;34m\u001b[0m\u001b[0m\n\u001b[1;32m     11\u001b[0m \u001b[0;31m#z_vals = list(range(0, 100))\u001b[0m\u001b[0;34m\u001b[0m\u001b[0;34m\u001b[0m\u001b[0;34m\u001b[0m\u001b[0m\n",
      "\u001b[0;31mValueError\u001b[0m: too many values to unpack (expected 3)"
     ]
    },
    {
     "data": {
      "image/png": "[encoded data removed]",
      "text/plain": [
       "<Figure size 432x288 with 1 Axes>"
      ]
     },
     "metadata": {},
     "output_type": "display_data"
    }
   ],
   "source": [
    "from matplotlib import pyplot\n",
    "from mpl_toolkits.mplot3d import Axes3D\n",
    "import random\n",
    "\n",
    "\n",
    "fig = pyplot.figure()\n",
    "ax = Axes3D(fig)\n",
    "\n",
    "x_vals = \n",
    "y_vals = list(range(0, 100))\n",
    "z_vals = list(range(0, 100))\n",
    "\n",
    "\n",
    "ax.scatter(x_vals, y_vals, z_vals)\n",
    "pyplot.show()"
   ]
  },
  {
   "cell_type": "code",
   "execution_count": 89,
   "id": "013ebbc1",
   "metadata": {},
   "outputs": [],
   "source": [
    "scene1_in = train_dataset.__getitem__(0)[\"v_in\"]\n",
    "scene1_out = train_dataset.__getitem__(0)[\"v_out\"]"
   ]
  },
  {
   "cell_type": "code",
   "execution_count": 90,
   "id": "da2bd5a3",
   "metadata": {
    "scrolled": true
   },
   "outputs": [
    {
     "data": {
      "image/png": "[encoded data removed]",
      "text/plain": [
       "<Figure size 432x288 with 1 Axes>"
      ]
     },
     "metadata": {},
     "output_type": "display_data"
    }
   ],
   "source": [
    "plt.hist(scene1_in[:,0].reshape(-1, 2), bins=2)\n",
    "plt.title(\"Distribution of v_in for Sample Target Agent\")\n",
    "plt.legend([\"x\", \"y\"])\n",
    "plt.show()"
   ]
  },
  {
   "cell_type": "code",
   "execution_count": 91,
   "id": "625ec0b2",
   "metadata": {},
   "outputs": [
    {
     "data": {
      "image/png": "[encoded data removed]",
      "text/plain": [
       "<Figure size 432x288 with 1 Axes>"
      ]
     },
     "metadata": {},
     "output_type": "display_data"
    }
   ],
   "source": [
    "plt.hist(scene1_out[:,0].reshape(-1, 2), bins=2)\n",
    "plt.title(\"Distribution of v_out for Sample Target Agent\")\n",
    "plt.legend([\"x\", \"y\"])\n",
    "plt.show()"
   ]
  },
  {
   "cell_type": "code",
   "execution_count": null,
   "id": "1fd1610a",
   "metadata": {},
   "outputs": [],
   "source": [
    "plt.hist(scene1_out[:,0].reshape(-1, 2), bins=4)\n",
    "plt.title(\"Distribution of p_out for Sample Target Agent\")\n",
    "plt.legend([\"x\", \"y\"])\n",
    "plt.show()"
   ]
  },
  {
   "cell_type": "code",
   "execution_count": 26,
   "id": "f5b9d2d7",
   "metadata": {},
   "outputs": [
    {
     "data": {
      "image/png": "[encoded data removed]",
      "text/plain": [
       "<Figure size 432x288 with 1 Axes>"
      ]
     },
     "metadata": {
      "needs_background": "light"
     },
     "output_type": "display_data"
    }
   ],
   "source": [
    "plt.hist(a.flatten(), bins=4, color=\"red\")\n",
    "plt.hist(b.flatten(), bins=4, color=\"red\")\n",
    "plt.title(\"p_in distribution for Target Agent\")\n",
    "#plt.hist(c.flatten(), bins=4, color=\"b\")\n",
    "#plt.hist(d.flatten(), bins=4, color=\"b\")\n",
    "plt.show()"
   ]
  },
  {
   "cell_type": "code",
   "execution_count": 27,
   "id": "1461c335",
   "metadata": {},
   "outputs": [
    {
     "data": {
      "image/png": "[encoded data removed]",
      "text/plain": [
       "<Figure size 432x288 with 1 Axes>"
      ]
     },
     "metadata": {
      "needs_background": "light"
     },
     "output_type": "display_data"
    }
   ],
   "source": [
    "plt.title(\"p_out distribution for Target Agent\")\n",
    "plt.hist(c.flatten(), bins=4, color=\"b\")\n",
    "plt.hist(d.flatten(), bins=4, color=\"b\")\n",
    "plt.show()"
   ]
  },
  {
   "cell_type": "code",
   "execution_count": null,
   "id": "ad88af7c",
   "metadata": {},
   "outputs": [],
   "source": [
    "zero_scene1_in, p0_scene1_in = zeroNormNP(scene1_in, size=19)\n",
    "zero_scene1_out, p0_scene1_out = zeroNormNP(scene1_out, size=30)"
   ]
  },
  {
   "cell_type": "code",
   "execution_count": null,
   "id": "3c3d6154",
   "metadata": {
    "scrolled": true
   },
   "outputs": [],
   "source": [
    "'''\n",
    "after\n",
    "'''\n",
    "a, b = zero_scene1_in.T\n",
    "c, d = zero_scene1_out.T\n",
    "\n",
    "plt.scatter(a, b, c=\"r\", label=1, alpha=0.2)\n",
    "plt.scatter(c, d, c=\"b\", label=1, alpha=0.2)\n",
    "plt.title(\"[p_in, p_out] sample positions from scene 0 [after normalization]\")\n",
    "plt.legend([\"p_in\", \"p_out\"])\n",
    "plt.show()"
   ]
  },
  {
   "cell_type": "code",
   "execution_count": null,
   "id": "9d7fd523",
   "metadata": {},
   "outputs": [],
   "source": [
    "flat_scene1_in = scene1_in.flatten()\n",
    "flat_scene1_out = scene1_out.flatten()\n",
    "\n",
    "plt.hist((flat_scene1_in, flat_scene1_out), color=[\"r\", \"b\"], bins=5)\n",
    "plt.title(\"Distribution of [p_in, p_out] values from scene 0 [before normalization]\")\n",
    "plt.legend([\"p_in\", \"p_out\"])\n",
    "plt.show()"
   ]
  },
  {
   "cell_type": "code",
   "execution_count": null,
   "id": "81f4b5e6",
   "metadata": {
    "scrolled": true
   },
   "outputs": [],
   "source": [
    "flat_scene1_in = zero_scene1_in.flatten()\n",
    "flat_scene1_out = zero_scene1_out.flatten()\n",
    "\n",
    "plt.hist((flat_scene1_in, flat_scene1_out), color=[\"r\", \"b\"], bins=5)\n",
    "plt.title(\"Distribution of [p_in, p_out] values from scene 0 [after normalization]\")\n",
    "plt.legend([\"p_in\", \"p_out\"])\n",
    "plt.show()"
   ]
  },
  {
   "cell_type": "markdown",
   "id": "8491e018",
   "metadata": {},
   "source": [
    "# Find Max Distance\n",
    "Here, we want to find the largest path per car across all scenes"
   ]
  },
  {
   "cell_type": "code",
   "execution_count": 4,
   "id": "d0675a33",
   "metadata": {},
   "outputs": [],
   "source": [
    "scenes = np.arange(train_dataset.__len__())"
   ]
  },
  {
   "cell_type": "code",
   "execution_count": 5,
   "id": "04fcbec8",
   "metadata": {
    "scrolled": true
   },
   "outputs": [
    {
     "name": "stderr",
     "output_type": "stream",
     "text": [
      "100%|██████████| 205942/205942 [01:00<00:00, 3396.70it/s]\n"
     ]
    }
   ],
   "source": [
    "p_in = []\n",
    "\n",
    "for i in tqdm(scenes, total=scenes.shape[0]):\n",
    "    p_in.append(train_dataset.__getitem__(i)[\"p_in\"])"
   ]
  },
  {
   "cell_type": "code",
   "execution_count": 6,
   "id": "2a03d8fc",
   "metadata": {},
   "outputs": [
    {
     "name": "stderr",
     "output_type": "stream",
     "text": [
      "100%|██████████| 205942/205942 [01:01<00:00, 3330.15it/s]\n"
     ]
    }
   ],
   "source": [
    "p_out = []\n",
    "\n",
    "for i in tqdm(scenes, total=scenes.shape[0]):\n",
    "    p_out.append(train_dataset.__getitem__(i)[\"p_out\"])"
   ]
  },
  {
   "cell_type": "code",
   "execution_count": 7,
   "id": "30eda7e2",
   "metadata": {},
   "outputs": [],
   "source": [
    "p_in = np.array(p_in)"
   ]
  },
  {
   "cell_type": "code",
   "execution_count": 8,
   "id": "e5149896",
   "metadata": {},
   "outputs": [],
   "source": [
    "p_out = np.array(p_out)"
   ]
  },
  {
   "cell_type": "code",
   "execution_count": null,
   "id": "f221a454",
   "metadata": {},
   "outputs": [],
   "source": [
    "#in_p0 = p_in[:,0:,0]\n",
    "\n",
    "exp_in = np.expand_dims(p_in[:,0:,0], 2)\n",
    "#exp_in = np.repeat(exp_in, 19, 2)\n",
    "\n",
    "p_in = np.subtract(p_in, np.repeat(exp_in, 19, 2))\n"
   ]
  },
  {
   "cell_type": "code",
   "execution_count": null,
   "id": "7a79aeef",
   "metadata": {},
   "outputs": [],
   "source": [
    "out_p0 =  p_out[:,0:,0]"
   ]
  },
  {
   "cell_type": "code",
   "execution_count": null,
   "id": "61f0adb3",
   "metadata": {},
   "outputs": [],
   "source": [
    "exp_out = np.expand_dims(p_out[:,0:,0], 2)"
   ]
  },
  {
   "cell_type": "code",
   "execution_count": null,
   "id": "60af5b57",
   "metadata": {},
   "outputs": [],
   "source": [
    "exp_out = np.repeat(exp_out, 30, 2)"
   ]
  },
  {
   "cell_type": "code",
   "execution_count": null,
   "id": "9a5d5103",
   "metadata": {},
   "outputs": [],
   "source": [
    "p_out = np.subtract(p_out, np.repeat(exp_out, 30, 2))"
   ]
  },
  {
   "cell_type": "code",
   "execution_count": 9,
   "id": "39cd3726",
   "metadata": {},
   "outputs": [
    {
     "name": "stdout",
     "output_type": "stream",
     "text": [
      "Car1: 4689.84423828125 9.119121551513672 4680.725116729736\n",
      "\n",
      "Car2: 4735.943359375 -28.476301193237305 4764.419660568237\n",
      "\n",
      "Car3: 4748.19482421875 -17.217008590698242 4765.411832809448\n",
      "\n",
      "Car4: 4745.5712890625 -12.21413516998291 4757.785424232483\n",
      "\n",
      "Car5: 4726.85107421875 -28.915882110595703 4755.766956329346\n",
      "\n",
      "Car6: 4714.80029296875 -5.930739402770996 4720.731032371521\n",
      "\n",
      "Car7: 4724.52880859375 -8.887921333312988 4733.416729927063\n",
      "\n",
      "Car8: 4734.21923828125 -46.95796585083008 4781.17720413208\n",
      "\n",
      "Car9: 4713.67724609375 -21.54179573059082 4735.219041824341\n",
      "\n",
      "Car10: 4705.689453125 -29.827377319335938 4735.516830444336\n",
      "\n",
      "Car11: 4728.41357421875 -6.055461406707764 4734.469035625458\n",
      "\n",
      "Car12: 4703.7607421875 0.0 4703.7607421875\n",
      "\n",
      "Car13: 4703.29345703125 -29.39227867126465 4732.685735702515\n",
      "\n",
      "Car14: 4699.6005859375 0.0 4699.6005859375\n",
      "\n",
      "Car15: 4686.720703125 0.0 4686.720703125\n",
      "\n",
      "Car16: 4671.77099609375 -24.56757926940918 4696.338575363159\n",
      "\n",
      "Car17: 4675.0791015625 0.0 4675.0791015625\n",
      "\n",
      "Car18: 4684.20263671875 -1.4666388034820557 4685.669275522232\n",
      "\n",
      "Car19: 4617.3154296875 0.0 4617.3154296875\n",
      "\n",
      "Car20: 4686.9599609375 0.0 4686.9599609375\n",
      "\n",
      "Car21: 4605.25732421875 0.0 4605.25732421875\n",
      "\n",
      "Car22: 4571.16259765625 0.0 4571.16259765625\n",
      "\n",
      "Car23: 4602.966796875 0.0 4602.966796875\n",
      "\n",
      "Car24: 4586.75390625 0.0 4586.75390625\n",
      "\n",
      "Car25: 4536.08349609375 0.0 4536.08349609375\n",
      "\n",
      "Car26: 4534.603515625 0.0 4534.603515625\n",
      "\n",
      "Car27: 4075.18701171875 0.0 4075.18701171875\n",
      "\n",
      "Car28: 4045.66796875 0.0 4045.66796875\n",
      "\n",
      "Car29: 4055.2275390625 0.0 4055.2275390625\n",
      "\n",
      "Car30: 4045.25 0.0 4045.25\n",
      "\n",
      "Car31: 4045.261962890625 0.0 4045.261962890625\n",
      "\n",
      "Car32: 4083.495361328125 0.0 4083.495361328125\n",
      "\n",
      "Car33: 4033.300537109375 0.0 4033.300537109375\n",
      "\n",
      "Car34: 4055.2109375 0.0 4055.2109375\n",
      "\n",
      "Car35: 4038.26318359375 0.0 4038.26318359375\n",
      "\n",
      "Car36: 4055.26806640625 0.0 4055.26806640625\n",
      "\n",
      "Car37: 4045.437744140625 0.0 4045.437744140625\n",
      "\n",
      "Car38: 4023.875 0.0 4023.875\n",
      "\n",
      "Car39: 4016.58935546875 0.0 4016.58935546875\n",
      "\n",
      "Car40: 4046.975341796875 0.0 4046.975341796875\n",
      "\n",
      "Car41: 4038.419189453125 0.0 4038.419189453125\n",
      "\n",
      "Car42: 4024.087890625 0.0 4024.087890625\n",
      "\n",
      "Car43: 3954.9638671875 0.0 3954.9638671875\n",
      "\n",
      "Car44: 4028.645751953125 0.0 4028.645751953125\n",
      "\n",
      "Car45: 3986.335205078125 0.0 3986.335205078125\n",
      "\n",
      "Car46: 3998.0390625 0.0 3998.0390625\n",
      "\n",
      "Car47: 0.0 0.0 0.0\n",
      "\n",
      "Car48: 0.0 0.0 0.0\n",
      "\n",
      "Car49: 0.0 0.0 0.0\n",
      "\n",
      "Car50: 0.0 0.0 0.0\n",
      "\n",
      "Car51: 0.0 0.0 0.0\n",
      "\n",
      "Car52: 0.0 0.0 0.0\n",
      "\n",
      "Car53: 0.0 0.0 0.0\n",
      "\n",
      "Car54: 0.0 0.0 0.0\n",
      "\n",
      "Car55: 0.0 0.0 0.0\n",
      "\n",
      "Car56: 0.0 0.0 0.0\n",
      "\n",
      "Car57: 0.0 0.0 0.0\n",
      "\n",
      "Car58: 0.0 0.0 0.0\n",
      "\n",
      "Car59: 0.0 0.0 0.0\n",
      "\n",
      "Car60: 0.0 0.0 0.0\n",
      "\n"
     ]
    }
   ],
   "source": [
    "in_displacements = []\n",
    "\n",
    "for i in range(60):\n",
    "    max_val, min_val = np.amax(p_in[:,i]), np.amin(p_in[:,i])\n",
    "    diff = max_val - min_val\n",
    "    in_displacements.append(diff)\n",
    "    print(\"Car\" + str(i + 1) + \":\", max_val, min_val, diff)\n",
    "    print()"
   ]
  },
  {
   "cell_type": "code",
   "execution_count": 10,
   "id": "8719e62c",
   "metadata": {},
   "outputs": [
    {
     "name": "stdout",
     "output_type": "stream",
     "text": [
      "Car1: 4688.04345703125 24.899255752563477 4663.1442012786865\n",
      "\n",
      "Car2: 4746.873046875 -60.59521484375 4807.46826171875\n",
      "\n",
      "Car3: 4748.27978515625 -32.79796600341797 4781.077751159668\n",
      "\n",
      "Car4: 4772.96142578125 -20.9713077545166 4793.932733535767\n",
      "\n",
      "Car5: 4743.23046875 -38.31989669799805 4781.550365447998\n",
      "\n",
      "Car6: 4727.34423828125 -23.62353515625 4750.9677734375\n",
      "\n",
      "Car7: 4714.67333984375 -27.369237899780273 4742.04257774353\n",
      "\n",
      "Car8: 4730.33203125 -53.91230392456055 4784.244335174561\n",
      "\n",
      "Car9: 4729.67919921875 -5.357077598571777 4735.036276817322\n",
      "\n",
      "Car10: 4728.3232421875 -32.68402862548828 4761.007270812988\n",
      "\n",
      "Car11: 4769.42138671875 0.0 4769.42138671875\n",
      "\n",
      "Car12: 4727.32373046875 -5.6892499923706055 4733.012980461121\n",
      "\n",
      "Car13: 4702.84423828125 -29.346111297607422 4732.190349578857\n",
      "\n",
      "Car14: 4724.5537109375 0.0 4724.5537109375\n",
      "\n",
      "Car15: 4680.82080078125 0.0 4680.82080078125\n",
      "\n",
      "Car16: 4666.6533203125 -24.62024688720703 4691.273567199707\n",
      "\n",
      "Car17: 4660.5048828125 0.0 4660.5048828125\n",
      "\n",
      "Car18: 4673.65234375 -1.4631174802780151 4675.115461230278\n",
      "\n",
      "Car19: 4630.78173828125 0.0 4630.78173828125\n",
      "\n",
      "Car20: 4682.5322265625 0.0 4682.5322265625\n",
      "\n",
      "Car21: 4605.392578125 0.0 4605.392578125\n",
      "\n",
      "Car22: 4592.220703125 0.0 4592.220703125\n",
      "\n",
      "Car23: 4602.29638671875 0.0 4602.29638671875\n",
      "\n",
      "Car24: 4586.03173828125 0.0 4586.03173828125\n",
      "\n",
      "Car25: 4535.91650390625 0.0 4535.91650390625\n",
      "\n",
      "Car26: 4524.46142578125 0.0 4524.46142578125\n",
      "\n",
      "Car27: 4059.079833984375 0.0 4059.079833984375\n",
      "\n",
      "Car28: 4058.511962890625 0.0 4058.511962890625\n",
      "\n",
      "Car29: 4055.30517578125 0.0 4055.30517578125\n",
      "\n",
      "Car30: 4045.25634765625 0.0 4045.25634765625\n",
      "\n",
      "Car31: 4045.3154296875 0.0 4045.3154296875\n",
      "\n",
      "Car32: 4083.5205078125 0.0 4083.5205078125\n",
      "\n",
      "Car33: 4033.148193359375 0.0 4033.148193359375\n",
      "\n",
      "Car34: 4055.2275390625 0.0 4055.2275390625\n",
      "\n",
      "Car35: 4036.697998046875 0.0 4036.697998046875\n",
      "\n",
      "Car36: 4055.28857421875 0.0 4055.28857421875\n",
      "\n",
      "Car37: 4045.42822265625 0.0 4045.42822265625\n",
      "\n",
      "Car38: 4024.356201171875 0.0 4024.356201171875\n",
      "\n",
      "Car39: 4016.52099609375 0.0 4016.52099609375\n",
      "\n",
      "Car40: 4046.8818359375 0.0 4046.8818359375\n",
      "\n",
      "Car41: 4038.437744140625 0.0 4038.437744140625\n",
      "\n",
      "Car42: 4051.3046875 0.0 4051.3046875\n",
      "\n",
      "Car43: 3949.892578125 0.0 3949.892578125\n",
      "\n",
      "Car44: 4028.663330078125 0.0 4028.663330078125\n",
      "\n",
      "Car45: 3986.615478515625 0.0 3986.615478515625\n",
      "\n",
      "Car46: 3997.37255859375 0.0 3997.37255859375\n",
      "\n",
      "Car47: 0.0 0.0 0.0\n",
      "\n",
      "Car48: 0.0 0.0 0.0\n",
      "\n",
      "Car49: 0.0 0.0 0.0\n",
      "\n",
      "Car50: 0.0 0.0 0.0\n",
      "\n",
      "Car51: 0.0 0.0 0.0\n",
      "\n",
      "Car52: 0.0 0.0 0.0\n",
      "\n",
      "Car53: 0.0 0.0 0.0\n",
      "\n",
      "Car54: 0.0 0.0 0.0\n",
      "\n",
      "Car55: 0.0 0.0 0.0\n",
      "\n",
      "Car56: 0.0 0.0 0.0\n",
      "\n",
      "Car57: 0.0 0.0 0.0\n",
      "\n",
      "Car58: 0.0 0.0 0.0\n",
      "\n",
      "Car59: 0.0 0.0 0.0\n",
      "\n",
      "Car60: 0.0 0.0 0.0\n",
      "\n"
     ]
    }
   ],
   "source": [
    "out_displacements = []\n",
    "\n",
    "for i in range(60):\n",
    "    max_val, min_val = np.amax(p_out[:,i]), np.amin(p_out[:,i])\n",
    "    diff = max_val - min_val\n",
    "    out_displacements.append(diff)\n",
    "    print(\"Car\" + str(i + 1) + \":\", max_val, min_val, diff)\n",
    "    print()"
   ]
  },
  {
   "cell_type": "code",
   "execution_count": 11,
   "id": "16215713",
   "metadata": {},
   "outputs": [],
   "source": [
    "in_displacements = np.array(in_displacements)"
   ]
  },
  {
   "cell_type": "code",
   "execution_count": 12,
   "id": "76124654",
   "metadata": {},
   "outputs": [],
   "source": [
    "out_displacements = np.array(out_displacements)"
   ]
  },
  {
   "cell_type": "code",
   "execution_count": null,
   "id": "141eb7f6",
   "metadata": {},
   "outputs": [],
   "source": [
    "plt.hist(in_displacements, color=[\"r\"], bins=5)\n",
    "plt.title(\"Distribution of p_in Displacements [before normalization]\")\n",
    "plt.legend([\"p_in\"])\n",
    "plt.show()"
   ]
  },
  {
   "cell_type": "code",
   "execution_count": null,
   "id": "d0c8dc8f",
   "metadata": {},
   "outputs": [],
   "source": [
    "plt.hist(out_displacements, color=[\"b\"], bins=5)\n",
    "plt.title(\"Distribution of p_out Displacements [before normalization]\")\n",
    "plt.legend([\"p_out\"])\n",
    "plt.show()"
   ]
  },
  {
   "cell_type": "code",
   "execution_count": 15,
   "id": "eaea2241",
   "metadata": {},
   "outputs": [
    {
     "data": {
      "image/png": "[encoded data removed]",
      "text/plain": [
       "<Figure size 432x288 with 1 Axes>"
      ]
     },
     "metadata": {
      "needs_background": "light"
     },
     "output_type": "display_data"
    }
   ],
   "source": [
    "plt.hist((in_displacements, out_displacements), color=[\"r\", \"b\"], bins=4)\n",
    "plt.title(\"Distribution of [p_in, p_out] displacements from all scenes [before normalization]\")\n",
    "plt.legend([\"p_in\", \"p_out\"])\n",
    "plt.show()"
   ]
  },
  {
   "cell_type": "code",
   "execution_count": null,
   "id": "75b1404a",
   "metadata": {},
   "outputs": [],
   "source": [
    "'''\n",
    "after norm\n",
    "'''\n",
    "\n",
    "plt.hist((in_displacements, out_displacements), color=[\"r\", \"b\"], bins=4)\n",
    "plt.title(\"Distribution of [p_in, p_out] displacements from all scenes [after normalization]\")\n",
    "plt.legend([\"p_in\", \"p_out\"])\n",
    "plt.show()"
   ]
  },
  {
   "cell_type": "code",
   "execution_count": null,
   "id": "46e1c5ef",
   "metadata": {},
   "outputs": [],
   "source": [
    "p0_arr = distances[:,0:,0]\n",
    "temp = np.expand_dims(p0_arr, 2)\n",
    "temp = np.repeat(temp, 19, 2)\n",
    "print(p0_arr.shape)\n",
    "print(temp.shape)\n",
    "\n",
    "norm_distances = distances - temp\n",
    "\n",
    "print()\n",
    "\n",
    "displacements = []\n",
    "\n",
    "for i in range(60):\n",
    "    max_val, min_val = np.amax(norm_distances[:,i]), np.amin(norm_distances[:,i])\n",
    "    displacements.append(max_val - min_val)\n",
    "    print(\"Car\" + str(i + 1) + \":\", max_val, min_val, (max_val - min_val))\n",
    "\n",
    "displacements = np.array(displacements)\n",
    "print(displacements.shape)\n",
    "print()\n",
    "print(displacements)\n",
    "print()\n",
    "print(np.amax(displacements), np.amin(displacements[:46]))"
   ]
  },
  {
   "cell_type": "code",
   "execution_count": null,
   "id": "09229aaf",
   "metadata": {},
   "outputs": [],
   "source": [
    "# max p_in: 181.35986328125, min p_in: 0.117584228515625\n",
    "\n",
    "norm_distances[:,0].shape"
   ]
  },
  {
   "cell_type": "code",
   "execution_count": null,
   "id": "7cb5410e",
   "metadata": {
    "scrolled": true
   },
   "outputs": [],
   "source": [
    "x, y = orig.T\n",
    "plt.scatter(x, y, c=\"b\", label=1, alpha=0.2)\n",
    "plt.show()"
   ]
  },
  {
   "cell_type": "code",
   "execution_count": null,
   "id": "81acebac",
   "metadata": {},
   "outputs": [],
   "source": [
    "x, y = norm.T\n",
    "plt.scatter(x, y, c=\"b\", label=1, alpha=0.2)\n",
    "plt.show()"
   ]
  },
  {
   "cell_type": "code",
   "execution_count": null,
   "id": "7112878b",
   "metadata": {},
   "outputs": [],
   "source": [
    "x, y = minmax_reshape.T\n",
    "plt.scatter(x, y, c=\"b\", label=1, alpha=0.2)\n",
    "plt.show()"
   ]
  },
  {
   "cell_type": "code",
   "execution_count": null,
   "id": "674e0853",
   "metadata": {},
   "outputs": [],
   "source": [
    "train_dataset = ArgoverseDataset(data_path=\"data/new_train/\")\n",
    "print(\"TOTAL TRAIN SAMPLES:\", train_dataset.__len__())\n",
    "print()\n",
    "for key in train_dataset.__getitem__(0):\n",
    "    '''\n",
    "    city, lane, lane_norm, scene_idx, agent_id, car_mask\n",
    "    *p_in*, *v_in*, *p_out*, *v_out*, track_id\n",
    "    '''\n",
    "    \n",
    "    if key == \"p_in\":\n",
    "        \n",
    "        '''\n",
    "        (0, 0) starting point\n",
    "        '''\n",
    "        \n",
    "        orig_arr = train_dataset.__getitem__(5)[key] # (60, 19, 2)\n",
    "        orig_arr[orig_arr == 0] = np.nan\n",
    "        \n",
    "        p_0 = orig_arr[0][0]\n",
    "        \n",
    "        print(\"p_0\", p_0)\n",
    "        \n",
    "        zero_arr = orig_arr - p_0\n",
    "        zero_reshape = zero_arr.reshape(-1, 2)\n",
    "        \n",
    "        #new = arr.reshape(-1, 2) # (60*19, 2) = (1140, 2)\n",
    "        #print(\"p_in shape after:\", new.shape)\n",
    "\n",
    "        \n",
    "#def norm_positions(p_arr, scale=1000):\n",
    "#    for "
   ]
  },
  {
   "cell_type": "code",
   "execution_count": null,
   "id": "ec033f3d",
   "metadata": {},
   "outputs": [],
   "source": [
    "x, y = zero_reshape.T\n",
    "plt.scatter(x, y, c=\"b\", label=1, alpha=0.3)\n",
    "plt.show()"
   ]
  },
  {
   "cell_type": "markdown",
   "id": "6b0f4087",
   "metadata": {},
   "source": [
    "## Exploration"
   ]
  },
  {
   "cell_type": "code",
   "execution_count": null,
   "id": "52e94963",
   "metadata": {},
   "outputs": [],
   "source": [
    "print(\"TOTAL TRAIN SAMPLES:\", train_dataset.__len__())\n",
    "print(\"TOTAL VAL SAMPLES:\", val_dataset.__len__())\n",
    "print()\n",
    "for key in train_dataset.__getitem__(0):\n",
    "    '''\n",
    "    city\n",
    "    lane\n",
    "    lane_norm\n",
    "    scene_idx\n",
    "    agent_id\n",
    "    car_mask\n",
    "    *p_in*\n",
    "    *v_in*\n",
    "    *p_out*\n",
    "    *v_out*\n",
    "    track_id\n",
    "    '''\n",
    "    \n",
    "    all_keys = [\"p_in\", \"v_in\", \"p_out\", \"v_out\"]\n",
    "    p_keys = [\"p_in\"]\n",
    "    \n",
    "    if key == \"p_in\":\n",
    "        \n",
    "        arr = train_dataset.__getitem__(0)[key] # (60, 19, 2)\n",
    "        print(\"p_in shape before:\", arr.shape)\n",
    "        new = arr.reshape(-1, 2) # (60*19, 2) = (1140, 2)\n",
    "        new[new==0] = np.nan\n",
    "        print(\"p_in shape after:\", new.shape)\n",
    "    \n",
    "    if key == \"p_out\":\n",
    "        \n",
    "        arr2 = train_dataset.__getitem__(0)[key] # (60, 19, 2)\n",
    "        print(\"p_out shape before:\", arr2.shape)\n",
    "        new2 = arr.reshape(-1, 2) # (60*19, 2) = (1140, 2)\n",
    "        new2[new2==0] = np.nan\n",
    "        print(\"p_out shape after:\", new2.shape)"
   ]
  },
  {
   "cell_type": "code",
   "execution_count": null,
   "id": "3ed28103",
   "metadata": {},
   "outputs": [],
   "source": [
    "x, y = norm.T\n",
    "plt.scatter(x, y, c=\"b\", label=1, alpha=0.3)\n",
    "plt.show()"
   ]
  },
  {
   "cell_type": "code",
   "execution_count": null,
   "id": "c6ae742e",
   "metadata": {},
   "outputs": [],
   "source": [
    "x, y = new.T\n",
    "x2, y2 = new2.T\n",
    "\n",
    "\n",
    "plt.scatter(x, y, c=\"b\", label=1, alpha=0.3)\n",
    "plt.scatter(x2, y2, c=\"r\", marker=\"s\", label=\"-1\", alpha=0.2)\n",
    "plt.show()"
   ]
  },
  {
   "cell_type": "code",
   "execution_count": null,
   "id": "0fa7fa05",
   "metadata": {},
   "outputs": [],
   "source": [
    "new_x, new_y = np.linalg.norm(x), np.linalg.norm(y)\n",
    "new_x2, new_y2 = np.linalg.norm(x2), np.linalg.norm(y2)\n",
    "\n",
    "x3, y3 = x / new_x, y /new_y\n",
    "x4, y4 = x2 / new_x2, y2 / new_y2\n",
    "\n",
    "with nanx3[x3==0], y3[y3==0] = np.nan, np.nan\n",
    "x4[x4==0], y4[y4==0] = np.nan, np.nan"
   ]
  },
  {
   "cell_type": "code",
   "execution_count": null,
   "id": "9802f82c",
   "metadata": {},
   "outputs": [],
   "source": [
    "plt.scatter(x3, y3, c=\"b\", label=1, alpha=0.3)\n",
    "plt.scatter(x4, y4, c=\"r\", marker=\"s\", label=\"-1\", alpha=0.2)\n",
    "plt.show()"
   ]
  },
  {
   "cell_type": "code",
   "execution_count": null,
   "id": "e3cae52d",
   "metadata": {},
   "outputs": [],
   "source": [
    "(1, 19, 2) for one car\n",
    "(5, 19, 2) for 5 cars\n",
    "\n",
    "normalize based on axis"
   ]
  },
  {
   "cell_type": "code",
   "execution_count": null,
   "id": "0f6ee90f",
   "metadata": {},
   "outputs": [],
   "source": [
    "z = np.arange(1, 10)\n",
    "n = np.linalg.norm(z)\n",
    "a = z / n"
   ]
  },
  {
   "cell_type": "code",
   "execution_count": null,
   "id": "2540c1cf",
   "metadata": {},
   "outputs": [],
   "source": [
    "a"
   ]
  },
  {
   "cell_type": "code",
   "execution_count": null,
   "id": "844b0d04",
   "metadata": {},
   "outputs": [],
   "source": [
    "a * n"
   ]
  }
 ],
 "metadata": {
  "kernelspec": {
   "display_name": "Python 3",
   "language": "python",
   "name": "python3"
  },
  "language_info": {
   "codemirror_mode": {
    "name": "ipython",
    "version": 3
   },
   "file_extension": ".py",
   "mimetype": "text/x-python",
   "name": "python",
   "nbconvert_exporter": "python",
   "pygments_lexer": "ipython3",
   "version": "3.8.8"
  }
 },
 "nbformat": 4,
 "nbformat_minor": 5
}
