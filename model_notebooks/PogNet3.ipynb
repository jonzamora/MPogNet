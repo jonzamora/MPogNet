{
 "cells": [
  {
   "cell_type": "code",
   "execution_count": 1,
   "metadata": {
    "id": "Bz7A-XhOQ8L4"
   },
   "outputs": [],
   "source": [
    "import torch\n",
    "from torch.utils.data import Dataset, DataLoader\n",
    "import torch.nn.functional as F\n",
    "import torch.nn as nn\n",
    "import os, os.path \n",
    "import numpy \n",
    "import pickle\n",
    "from glob import glob\n",
    "from tqdm import tqdm\n",
    "\n",
    "\n",
    "\"\"\"Change to the data folder\"\"\"\n",
    "new_path = \"data/new_train/\"\n",
    "\n",
    "# number of sequences in each dataset\n",
    "# train:205942  val:3200 test: 36272 \n",
    "# sequences sampled at 10HZ rate"
   ]
  },
  {
   "cell_type": "code",
   "execution_count": 2,
   "metadata": {
    "id": "B6bHeDoMQ-y7"
   },
   "outputs": [],
   "source": [
    "class ArgoverseDataset(Dataset):\n",
    "    \"\"\"Dataset class for Argoverse\"\"\"\n",
    "    def __init__(self, data_path: str, transform=None):\n",
    "        super(ArgoverseDataset, self).__init__()\n",
    "        self.data_path = data_path\n",
    "        self.transform = transform\n",
    "\n",
    "        self.pkl_list = glob(os.path.join(self.data_path, '*'))\n",
    "        self.pkl_list.sort()\n",
    "        \n",
    "    def __len__(self):\n",
    "        return len(self.pkl_list)\n",
    "\n",
    "    def __getitem__(self, idx):\n",
    "\n",
    "        pkl_path = self.pkl_list[idx]\n",
    "        with open(pkl_path, 'rb') as f:\n",
    "            data = pickle.load(f)\n",
    "            \n",
    "        if self.transform:\n",
    "            data = self.transform(data)\n",
    "\n",
    "        return data\n",
    "\n",
    "\n",
    "# intialize a dataset\n",
    "train_dataset  = ArgoverseDataset(data_path=new_path)"
   ]
  },
  {
   "cell_type": "code",
   "execution_count": 3,
   "metadata": {
    "id": "s33LYX3DREUh"
   },
   "outputs": [],
   "source": [
    "batch_sz = 100\n",
    "import numpy as np\n",
    "import random\n",
    "\n",
    "\n",
    "def my_collate_train(batch):\n",
    "    \"\"\"collate lists of samples into batches, create [ batch_sz x agent_sz x seq_len x feature]\"\"\"\n",
    "\n",
    "    batch_inp = []\n",
    "    batch_out = []\n",
    "\n",
    "    for scene in batch:\n",
    "        agent = scene[\"agent_id\"]\n",
    "        target = 0\n",
    "        for x in range(len(scene[\"track_id\"])):\n",
    "            if scene[\"track_id\"][x][0] == agent:\n",
    "                target = x\n",
    "        inp = [scene[\"p_in\"][target], scene[\"v_in\"][target]]\n",
    "        out = [scene[\"p_out\"][target], scene[\"v_out\"][target]]\n",
    "        batch_inp.append(inp)\n",
    "        batch_out.append(out)\n",
    "\n",
    "    # scene level #####################\n",
    "    # batch_inp = []\n",
    "    # batch_out = []\n",
    "    # for scene in batch:\n",
    "    #   mask = scene['car_mask'].flatten()==1\n",
    "    #   # print(np.count_nonzero(mask))\n",
    "    #   inp = [scene['p_in'][mask], scene['v_in'][mask]]\n",
    "    #   out = [scene['p_out'][mask], scene['v_out'][mask]]\n",
    "    #   batch_inp.append(inp)\n",
    "    #   batch_out.append(out)\n",
    "    ####################################\n",
    "\n",
    "    inp = torch.FloatTensor(batch_inp)\n",
    "    out = torch.FloatTensor(batch_out)\n",
    "    return [inp, out]\n",
    "\n",
    "\n",
    "def my_collate_train_multiple(batch):\n",
    "    \"\"\"collate lists of samples into batches, create [ batch_sz x agent_sz x seq_len x feature]\"\"\"\n",
    "\n",
    "    batch_inp = []\n",
    "    batch_out = []\n",
    "\n",
    "    for scene in batch:\n",
    "        agent = scene[\"agent_id\"]\n",
    "        target = 0\n",
    "        for x in range(len(scene[\"track_id\"])):\n",
    "            if scene[\"track_id\"][x][0] == agent:\n",
    "                target = x\n",
    "        inp = [scene[\"p_in\"][target], scene[\"v_in\"][target]]\n",
    "        out = [scene[\"p_out\"][target], scene[\"v_out\"][target]]\n",
    "\n",
    "        other_in = np.zeros((5, 2, 19, 2))  # need to permute to 2,5,19,2 later\n",
    "        other_out = np.zeros((5, 2, 30, 2))\n",
    "\n",
    "        other_in[0] = inp\n",
    "        other_out[0] = out\n",
    "\n",
    "        mask = scene[\"car_mask\"].flatten() == 1\n",
    "        mask = np.delete(mask, target)\n",
    "        mask = np.where(mask == True)[0]\n",
    "\n",
    "        if len(mask) >= 4:\n",
    "            temp = random.sample(mask.tolist(), 4)\n",
    "            for i in range(len(temp)):\n",
    "                other_in[i + 1] = [scene[\"p_in\"][temp[i]], scene[\"v_in\"][temp[i]]]\n",
    "                other_out[i + 1] = [scene[\"p_out\"][temp[i]], scene[\"v_out\"][temp[i]]]\n",
    "        else:\n",
    "            for i in range(len(mask)):\n",
    "                other_in[i + 1] = [scene[\"p_in\"][mask[i]], scene[\"v_in\"][mask[i]]]\n",
    "                other_out[i + 1] = [scene[\"p_out\"][mask[i]], scene[\"v_out\"][mask[i]]]\n",
    "            for i in range(4 - len(mask)):\n",
    "                other_in[i + 1 + len(mask)] = inp\n",
    "                other_out[i + 1 + len(mask)] = out\n",
    "\n",
    "        batch_inp.append(other_in.tolist())\n",
    "        batch_out.append(other_out.tolist())\n",
    "\n",
    "    # scene level #####################\n",
    "    # batch_inp = []\n",
    "    # batch_out = []\n",
    "    # for scene in batch:\n",
    "    #   mask = scene['car_mask'].flatten()==1\n",
    "    #   # print(np.count_nonzero(mask))\n",
    "    #   inp = [scene['p_in'][mask], scene['v_in'][mask]]\n",
    "    #   out = [scene['p_out'][mask], scene['v_out'][mask]]\n",
    "    #   batch_inp.append(inp)\n",
    "    #   batch_out.append(out)\n",
    "    ####################################\n",
    "\n",
    "    inp = torch.FloatTensor(batch_inp)\n",
    "    inp = inp.permute(2, 0, 1, 3, 4)  # p/v, batch, cars, points, x/y\n",
    "    out = torch.FloatTensor(batch_out)\n",
    "    out = out.permute(2, 0, 1, 3, 4)\n",
    "    return [inp, out]\n",
    "\n",
    "\n",
    "def my_collate_val(batch):\n",
    "    \"\"\"collate lists of samples into batches, create [ batch_sz x agent_sz x seq_len x feature]\"\"\"\n",
    "\n",
    "    inp = [[scene[\"p_in\"], scene[\"v_in\"]] for scene in batch]\n",
    "    mask = [scene[\"car_mask\"] for scene in batch]\n",
    "\n",
    "    inp = torch.FloatTensor(inp)\n",
    "    mask = torch.FloatTensor(mask)\n",
    "    return [inp, mask]"
   ]
  },
  {
   "cell_type": "code",
   "execution_count": null,
   "metadata": {
    "id": "G7YyLqs1q2_S"
   },
   "outputs": [],
   "source": [
    "'''\n",
    "start with initial 19 points and zero fill remaining\n",
    "'''\n",
    "\n",
    "device = torch.device('cuda' if torch.cuda.is_available() else 'cpu')\n",
    "\n",
    "class Trajectory(nn.Module):\n",
    "\n",
    "    def __init__(self):\n",
    "        super(Trajectory, self).__init__()\n",
    "\n",
    "        self.p_in = nn.Linear(2,32) # N, 19, 2\n",
    "        self.v_in = nn.Linear(2,32) # N, 19, 2\n",
    "        \n",
    "        self.encoder = nn.LSTM(64, 64, 1) # input 19, N, 64 output 1, N, 64 \n",
    "\n",
    "        self.decoder_p = nn.LSTM(64, 64, 1) # input 30, N, 64 output 30, N, 64\n",
    "        self.decoder_v = nn.LSTM(64, 64,1) # input 30, N, 64 output 30, N, 64\n",
    "\n",
    "        self.p_out = nn.Linear(128,2)\n",
    "        self.v_out = nn.Linear(128,2)\n",
    "\n",
    "    def forward(self, p, v):\n",
    "        batch = p.shape[0]\n",
    "        x_p = self.p_in(p)\n",
    "        x_v = self.v_in(v)\n",
    "\n",
    "        x = torch.cat((x_p,x_v),dim=2)\n",
    "        x = x.permute(1,0,2)\n",
    "\n",
    "        _,(state_h) = self.encoder(x)\n",
    "\n",
    "        temp = torch.zeros(11,batch,64)\n",
    "        x = torch.cat((x,temp),dim=0)\n",
    "\n",
    "        x_p,_ = self.decoder_p(x,state_h)\n",
    "        x_v,_ = self.decoder_v(x,state_h)\n",
    "\n",
    "        x_p = x_p.permute(1,0,2)\n",
    "        x_v = x_v.permute(1,0,2)\n",
    "\n",
    "        x_p = self.p_out(x_p)\n",
    "        x_v = self.v_out(x_v)\n",
    "\n",
    "        # batch 50, 345s per epoch\n",
    "        # p to p -> 9.21 after 10 epochs\n",
    "        # p + v to p -> 8.8 after 10 epochs\n",
    "        # p + v to p +v -> 6.65 after 10 epochs\n",
    "\n",
    "        # batch 100, 345s per epoch\n",
    "        # p + v to p +v -> 4.5 after 10 epochs\n",
    "\n",
    "        return x_p , x_v"
   ]
  },
  {
   "cell_type": "code",
   "execution_count": null,
   "metadata": {
    "id": "b0bsBqBwn6yQ"
   },
   "outputs": [],
   "source": [
    "'''\n",
    "Recursive per point\n",
    "'''\n",
    "\n",
    "device = torch.device('cuda' if torch.cuda.is_available() else 'cpu')\n",
    "\n",
    "class Trajectory(nn.Module):\n",
    "\n",
    "    def __init__(self):\n",
    "        super(Trajectory, self).__init__()\n",
    "\n",
    "        self.p_in = nn.Linear(2,32) # N, 19, 2\n",
    "        self.v_in = nn.Linear(2,32) # N, 19, 2\n",
    "        \n",
    "        self.encoder = nn.LSTM(64, 64, 1) # input 19, N, 64 output 1, N, 64 \n",
    "\n",
    "        self.decoder_p = nn.LSTM(64, 64, 1) # input 30, N, 64 output 30, N, 64\n",
    "        self.decoder_v = nn.LSTM(64, 64,1) # input 30, N, 64 output 30, N, 64\n",
    "\n",
    "        self.recurse_p =  nn.Linear(2,32)\n",
    "        self.recurse_v = nn.Linear(2,32)\n",
    " \n",
    "        self.p_out = nn.Linear(64,2)\n",
    "        self.v_out = nn.Linear(64,2)\n",
    "\n",
    "    def forward(self, p, v):\n",
    "        batch = p.shape[0]\n",
    "        x_p = self.p_in(p)\n",
    "        x_v = self.v_in(v)\n",
    "\n",
    "        x = torch.cat((x_p,x_v),dim=2)\n",
    "        x = x.permute(1,0,2)\n",
    "\n",
    "        _,(state_h) = self.encoder(x)\n",
    "\n",
    "        temp_p = torch.zeros(30,batch,2).to(device) # output of p\n",
    "        temp_v = torch.zeros(30,batch,2).to(device)\n",
    "       \n",
    "        decoder_p_inp = torch.unsqueeze(x[-1],0)\n",
    "        decoder_v_inp = torch.unsqueeze(x[-1],0)\n",
    "        state_p = state_h\n",
    "        state_v = state_h\n",
    "\n",
    "        for i in range(30):\n",
    "          x_p,state_p = self.decoder_p(decoder_p_inp, state_p)\n",
    "          x_v,state_v = self.decoder_v(decoder_v_inp, state_v)\n",
    "\n",
    "          x_p = self.p_out(x_p)\n",
    "          x_v = self.v_out(x_v)\n",
    "\n",
    "          temp_p[i] = x_p\n",
    "          temp_v[i] = x_v\n",
    "\n",
    "          x_p = self.recurse_p(x_p)\n",
    "          x_v = self.recurse_v(x_v)\n",
    "\n",
    "          x = torch.cat((x_p,x_v),dim=2)\n",
    "\n",
    "          decoder_p_inp = x\n",
    "          decoder_v_inp = x\n",
    "\n",
    "        temp_p = temp_p.permute(1,0,2)\n",
    "        temp_v = temp_v.permute(1,0,2)\n",
    "        return temp_p, temp_v"
   ]
  },
  {
   "cell_type": "code",
   "execution_count": 4,
   "metadata": {
    "id": "7_ENkqUjWfkn"
   },
   "outputs": [],
   "source": [
    "'''\n",
    "Edward's Tests, bigger\n",
    "'''\n",
    "\n",
    "device = torch.device('cuda' if torch.cuda.is_available() else 'cpu')\n",
    "\n",
    "class BiggerTrajectory(nn.Module):\n",
    "\n",
    "    def __init__(self):\n",
    "        super(BiggerTrajectory, self).__init__()\n",
    "\n",
    "        self.p_in = nn.Linear(2,32) # N, 19, 2\n",
    "        self.v_in = nn.Linear(2,32) # N, 19, 2\n",
    "        \n",
    "        self.encoder = nn.LSTM(64, 128, 1) # input 19, N, 64 output 19, N, 128\n",
    "        self.encoder_2 = nn.LSTM(128, 128, 1) # output 1, N, 128\n",
    "\n",
    "        self.decoder_p = nn.LSTM(128, 256, 1) # input 30, N, 128 output 30, N, 256\n",
    "        self.decoder_p_2 = nn.LSTM(256, 256, 1) # input 30, N, 256 output 30, N, 256\n",
    "\n",
    "        self.decoder_v = nn.LSTM(128, 256,1) # input 30, N, 128 output 30, N, 256\n",
    "        self.decoder_v_2 = nn.LSTM(256, 256,1) # input 30, N, 256 output 30, N, 256\n",
    "\n",
    "        self.p_out = nn.Linear(256,128)\n",
    "        self.p_out_2 = nn.Linear(128,2)\n",
    "        self.v_out = nn.Linear(256,128)\n",
    "        self.v_out_2 = nn.Linear(128,2)\n",
    "\n",
    "    def forward(self, p, v):\n",
    "        batch = p.shape[0]\n",
    "        \n",
    "        x_p = self.p_in(p)\n",
    "        x_v = self.v_in(v)\n",
    "\n",
    "        x = torch.cat((x_p,x_v),dim=2)\n",
    "        x = x.permute(1,0,2)\n",
    "\n",
    "        x, _ = self.encoder(x)\n",
    "        _,(state_h,_) = self.encoder_2(x)\n",
    "\n",
    "        x = state_h.repeat(30,1,1)     \n",
    "\n",
    "        x_p,_ = self.decoder_p(x)\n",
    "        x_p,_ = self.decoder_p_2(x_p)\n",
    "\n",
    "        x_v,_ = self.decoder_v(x)\n",
    "        x_v,_ = self.decoder_v_2(x_v)\n",
    "\n",
    "        x_p = x_p.permute(1,0,2)\n",
    "        x_v = x_v.permute(1,0,2)\n",
    "\n",
    "        x_p = F.relu(self.p_out(x_p))\n",
    "        x_p = self.p_out_2(x_p)\n",
    "\n",
    "        x_v = F.relu(self.v_out(x_v))\n",
    "        x_v = self.v_out_2(x_v)\n",
    "\n",
    "\n",
    "        # batch 50, 345s per epoch\n",
    "        # p to p -> 9.21 after 10 epochs\n",
    "        # p + v to p -> 8.8 after 10 epochs\n",
    "        # p + v to p +v -> 6.65 after 10 epochs\n",
    "\n",
    "        # batch 100, 345s per epoch\n",
    "        # p + v to p +v -> 4.5 after 10 epochs\n",
    "\n",
    "        return x_p , x_v"
   ]
  },
  {
   "cell_type": "code",
   "execution_count": 5,
   "metadata": {
    "id": "PFidR0mWBYc6"
   },
   "outputs": [],
   "source": [
    "'''\n",
    "original network\n",
    "'''\n",
    "\n",
    "device = torch.device('cuda' if torch.cuda.is_available() else 'cpu')\n",
    "\n",
    "class NaiveTrajectory(nn.Module):\n",
    "\n",
    "    def __init__(self):\n",
    "        super(NaiveTrajectory, self).__init__()\n",
    "\n",
    "        self.p_in = nn.Linear(2,32) # N, 19, 2\n",
    "        self.v_in = nn.Linear(2,32) # N, 19, 2\n",
    "        \n",
    "        self.encoder = nn.LSTM(64, 64, 1) # input 19, N, 64 output 1, N, 64 \n",
    "\n",
    "        self.decoder_p = nn.LSTM(64, 128, 1) # input 30, N, 64 output 30, N, 128\n",
    "        self.decoder_v = nn.LSTM(64, 128,1) # input 30, N, 64 output 30, N, 128\n",
    "\n",
    "        self.p_out = nn.Linear(128,2)\n",
    "        self.v_out = nn.Linear(128,2)\n",
    "\n",
    "    def forward(self, p, v):\n",
    "        batch = p.shape[0]\n",
    "        x_p = self.p_in(p)\n",
    "        x_v = self.v_in(v)\n",
    "\n",
    "        x = torch.cat((x_p,x_v),dim=2)\n",
    "        x = x.permute(1,0,2)\n",
    "\n",
    "        _,(state_h,_) = self.encoder(x)\n",
    "\n",
    "        x = state_h.repeat(30,1,1).to(device)     \n",
    "\n",
    "        x_p,_ = self.decoder_p(x)\n",
    "        x_v,_ = self.decoder_v(x)\n",
    "\n",
    "        x_p = x_p.permute(1,0,2)\n",
    "        x_v = x_v.permute(1,0,2)\n",
    "\n",
    "        x_p = self.p_out(x_p)\n",
    "        x_v = self.v_out(x_v)\n",
    "\n",
    "        # batch 50, 345s per epoch\n",
    "        # p to p -> 9.21 after 10 epochs\n",
    "        # p + v to p -> 8.8 after 10 epochs\n",
    "        # p + v to p +v -> 6.65 after 10 epochs\n",
    "\n",
    "        # batch 100, 345s per epoch\n",
    "        # p + v to p +v -> 4.5 after 10 epochs\n",
    "\n",
    "        return x_p , x_v"
   ]
  },
  {
   "cell_type": "code",
   "execution_count": 6,
   "metadata": {},
   "outputs": [],
   "source": [
    "'''\n",
    "Edward's Tests, bigger, bigger\n",
    "'''\n",
    "\n",
    "device = torch.device('cuda' if torch.cuda.is_available() else 'cpu')\n",
    "\n",
    "class BigBigTrajectory(nn.Module):\n",
    "\n",
    "    def __init__(self):\n",
    "        super(BigBigTrajectory, self).__init__()\n",
    "\n",
    "        self.p_in = nn.Linear(2,32) # N, 19, 2\n",
    "        self.v_in = nn.Linear(2,32) # N, 19, 2\n",
    "        \n",
    "        self.encoder = nn.LSTM(64, 128, 1) # input 19, N, 64 output 19, N, 128\n",
    "        self.encoder_2 = nn.LSTM(128, 128, 1) # output 1, N, 128\n",
    "\n",
    "        self.translate = nn.Linear(128,256) # translation\n",
    "\n",
    "        self.decoder_p = nn.LSTM(256, 512, 1) # input 30, N, 128 output 30, N, 256\n",
    "        self.decoder_p_2 = nn.LSTM(512,512, 1) # input 30, N, 256 output 30, N, 256\n",
    "\n",
    "        self.decoder_v = nn.LSTM(256, 512,1) # input 30, N, 128 output 30, N, 256\n",
    "        self.decoder_v_2 = nn.LSTM(512, 512,1) # input 30, N, 256 output 30, N, 256\n",
    "\n",
    "        self.p_out = nn.Linear(512,256)\n",
    "        self.p_out_2 = nn.Linear(256,2)\n",
    "        self.v_out = nn.Linear(512,256)\n",
    "        self.v_out_2 = nn.Linear(256,2)\n",
    "\n",
    "    def forward(self, p, v):\n",
    "        batch = p.shape[0]\n",
    "        \n",
    "        x_p = self.p_in(p)\n",
    "        x_v = self.v_in(v)\n",
    "\n",
    "        x = torch.cat((x_p,x_v),dim=2)\n",
    "        x = x.permute(1,0,2)\n",
    "\n",
    "        x, _ = self.encoder(x)\n",
    "        _,(state_h,_) = self.encoder_2(x)\n",
    "\n",
    "        state_h = self.translate(state_h)\n",
    "\n",
    "        x = state_h.repeat(30,1,1)     \n",
    "\n",
    "        x_p,_ = self.decoder_p(x)\n",
    "        x_p,_ = self.decoder_p_2(x_p)\n",
    "\n",
    "        x_v,_ = self.decoder_v(x)\n",
    "        x_v,_ = self.decoder_v_2(x_v)\n",
    "\n",
    "        x_p = x_p.permute(1,0,2)\n",
    "        x_v = x_v.permute(1,0,2)\n",
    "\n",
    "        x_p = F.relu(self.p_out(x_p))\n",
    "        x_p = self.p_out_2(x_p)\n",
    "\n",
    "        x_v = F.relu(self.v_out(x_v))\n",
    "        x_v = self.v_out_2(x_v)\n",
    "\n",
    "\n",
    "        # batch 50, 345s per epoch\n",
    "        # p to p -> 9.21 after 10 epochs\n",
    "        # p + v to p -> 8.8 after 10 epochs\n",
    "        # p + v to p +v -> 6.65 after 10 epochs\n",
    "\n",
    "        # batch 100, 345s per epoch\n",
    "        # p + v to p +v -> 4.5 after 10 epochs\n",
    "\n",
    "        return x_p , x_v\n"
   ]
  },
  {
   "cell_type": "code",
   "execution_count": null,
   "metadata": {},
   "outputs": [],
   "source": [
    "'''\n",
    "start with initial 19 points and zero fill remaining, bigger\n",
    "'''\n",
    "\n",
    "device = torch.device('cuda' if torch.cuda.is_available() else 'cpu')\n",
    "\n",
    "class Trajectory(nn.Module):\n",
    "\n",
    "    def __init__(self):\n",
    "        super(Trajectory, self).__init__()\n",
    "\n",
    "        self.p_in = nn.Linear(2,64) # N, 19, 2\n",
    "        self.v_in = nn.Linear(2,64) # N, 19, 2\n",
    "        \n",
    "        self.convert = nn.Linear(128,256)\n",
    "\n",
    "        self.encoder = nn.LSTM(128,256,1)\n",
    "        self.encoder_2 = nn.LSTM(256, 256, 1) # input 19, N, 256 output 1, N, 256\n",
    "\n",
    "        self.decoder_p = nn.LSTM(256, 256, 1) \n",
    "        self.decoder_p_2 = nn.LSTM(256, 512, 1) \n",
    "\n",
    "        self.decoder_v = nn.LSTM(256, 256,1) \n",
    "        self.decoder_v_2 = nn.LSTM(256, 512,1) \n",
    "\n",
    "        self.p_out = nn.Linear(512,256)\n",
    "        self.p_out_2 = nn.Linear(256,2)\n",
    "        self.v_out = nn.Linear(512,256)\n",
    "        self.v_out_2 = nn.Linear(256,2)\n",
    "\n",
    "\n",
    "    def forward(self, p, v):\n",
    "        batch = p.shape[0]\n",
    "        x_p = self.p_in(p)\n",
    "        x_v = self.v_in(v)\n",
    "\n",
    "        x = torch.cat((x_p,x_v),dim=2)\n",
    "        x = x.permute(1,0,2)\n",
    "\n",
    "        x_temp,_ = self.encoder(x)\n",
    "        _,(state_h) = self.encoder_2(x_temp)\n",
    "\n",
    "        temp = torch.zeros(11,batch,128).to(device)\n",
    "\n",
    "        x = torch.cat((x,temp),dim=0)\n",
    "\n",
    "        x = self.convert(x)\n",
    "\n",
    "        x_p,_ = self.decoder_p(x,state_h)\n",
    "        x_p,_ = self.decoder_p_2(x_p)\n",
    "\n",
    "        x_v,_ = self.decoder_v(x,state_h)\n",
    "        x_v,_ = self.decoder_v_2(x_v)\n",
    "\n",
    "        x_p = x_p.permute(1,0,2)\n",
    "        x_v = x_v.permute(1,0,2)\n",
    "\n",
    "        x_p = F.relu(self.p_out(x_p))\n",
    "        x_p = self.p_out_2(x_p)\n",
    "\n",
    "        x_v = F.relu(self.v_out(x_v))\n",
    "        x_v = self.v_out_2(x_v)\n",
    "\n",
    "\n",
    "        # batch 50, 345s per epoch\n",
    "        # p to p -> 9.21 after 10 epochs\n",
    "        # p + v to p -> 8.8 after 10 epochs\n",
    "        # p + v to p +v -> 6.65 after 10 epochs\n",
    "\n",
    "        # batch 100, 345s per epoch\n",
    "        # p + v to p +v -> 4.5 after 10 epochs\n",
    "\n",
    "        return x_p , x_v"
   ]
  },
  {
   "cell_type": "code",
   "execution_count": null,
   "metadata": {
    "id": "hkaCfzwse-L7"
   },
   "outputs": [],
   "source": [
    "# don't run\n",
    "\n",
    "import numpy as np\n",
    "model = Trajectory().double()\n",
    "print(model)\n",
    "\n",
    "p = np.zeros((4,19,2))\n",
    "v = np.zeros((4,19,2))\n",
    "p_torch = torch.tensor(p)\n",
    "v_torch = torch.tensor(v)\n",
    "\n",
    "output = model(p_torch,v_torch)\n",
    "print(len(output))\n",
    "print(output[0].shape)"
   ]
  },
  {
   "cell_type": "code",
   "execution_count": null,
   "metadata": {
    "id": "5-aPXOGJgnxo"
   },
   "outputs": [],
   "source": [
    "import time\n",
    "from tqdm import tqdm\n",
    "\n",
    "batch_sz = 100\n",
    "train_loader = DataLoader(\n",
    "    train_dataset,\n",
    "    batch_size=batch_sz,\n",
    "    shuffle=False,\n",
    "    collate_fn=my_collate_train,\n",
    "    num_workers=2,\n",
    ")\n",
    "\n",
    "train_size = int(0.8 * len(train_loader.dataset))\n",
    "val_size = len(train_loader.dataset) - train_size\n",
    "train_data, val_data = torch.utils.data.random_split(\n",
    "    train_loader.dataset, [train_size, val_size]\n",
    ")\n",
    "\n",
    "print(\"\\nLENGTH OF TRAIN LOADER DATASET:\", len(train_loader.dataset))\n",
    "print(\"LENGTH OF TRAIN DATA:\", len(train_data), \"\\nLENGTH OF VAL DATA:\", len(val_data))\n",
    "\n",
    "train_data = DataLoader(\n",
    "    train_data,\n",
    "    batch_size=batch_sz,\n",
    "    shuffle=False,\n",
    "    collate_fn=my_collate_train,\n",
    "    num_workers=2,\n",
    ")\n",
    "val_data = DataLoader(\n",
    "    val_data,\n",
    "    batch_size=batch_sz,\n",
    "    shuffle=False,\n",
    "    collate_fn=my_collate_train,\n",
    "    num_workers=2,\n",
    ")\n",
    "model = Trajectory().to(device)\n",
    "\n",
    "my_optim = torch.optim.Adam(model.parameters(), lr=0.001)\n",
    "\n",
    "# decayRate = 0.999\n",
    "# my_lr_scheduler = torch.optim.lr_scheduler.ExponentialLR(optimizer=my_optim, gamma=decayRate)\n",
    "\n",
    "epoch = 20  # takes around 20 epochs to converge\n",
    "number = 1  # number of cars in each\n",
    "\n",
    "for i in range(epoch):\n",
    "\n",
    "    model.train()\n",
    "    epoch_loss = 0\n",
    "    start = time.time()\n",
    "\n",
    "    train_loop = tqdm(enumerate(train_data), total=len(train_data))\n",
    "\n",
    "    for i_batch, sample_batch in train_loop:\n",
    "        inp, out = sample_batch\n",
    "        batch = inp.shape[0]\n",
    "\n",
    "        p_in = (\n",
    "            inp[:, 0].reshape(batch * number, 19, 2).to(device)\n",
    "        ) / 4800.0  # -2400.)/2400.\n",
    "        v_in = inp[:, 1].reshape(batch * number, 19, 2).to(device) / 100.0\n",
    "        p_out = (\n",
    "            out[:, 0].reshape(batch * number, 30, 2).to(device)\n",
    "        ) / 4800.0  # -2400.)/2400.\n",
    "        v_out = out[:, 1].reshape(batch * number, 30, 2).to(device) / 100.0\n",
    "\n",
    "        pred = model(p_in, v_in)\n",
    "\n",
    "        loss = 0\n",
    "        p_criteria = nn.MSELoss()\n",
    "        p_loss = torch.sqrt(p_criteria(pred[0], p_out))\n",
    "\n",
    "        v_criteria = nn.MSELoss()\n",
    "        v_loss = torch.sqrt(v_criteria(pred[1], v_out))\n",
    "\n",
    "        loss = p_loss + v_loss\n",
    "        epoch_loss += p_loss\n",
    "\n",
    "        my_optim.zero_grad()\n",
    "        loss.backward()\n",
    "        my_optim.step()\n",
    "\n",
    "        train_loop.set_description(f\"Train Epoch [{i + 1}/{epoch}]\")\n",
    "        train_loop.set_postfix(loss=epoch_loss.item())\n",
    "        # my_lr_scheduler.step()\n",
    "        # if(i>2999):\n",
    "        #   # print(pred[0]*2400.+2400., p_out[0]*2400.+2400.)\n",
    "        #   print(pred[0]*4800., p_out[0]*4800.)\n",
    "        # break\n",
    "    # print(\"Training Loss: \", i, epoch_loss.item(), time.time() - start)\n",
    "\n",
    "    model.eval()\n",
    "    epoch_loss = 0\n",
    "    val_loop = tqdm(enumerate(val_data), total=len(val_data))\n",
    "    for i_batch, sample_batch in val_loop:\n",
    "        inp, out = sample_batch\n",
    "        batch = inp.shape[0]\n",
    "\n",
    "        p_in = (inp[:, 0].reshape(batch * number, 19, 2).to(device)) / 4800.0\n",
    "        v_in = inp[:, 1].reshape(batch * number, 19, 2).to(device) / 100.0\n",
    "        p_out = (out[:, 0].reshape(batch * number, 30, 2).to(device)) / 4800.0\n",
    "        v_out = out[:, 1].reshape(batch * number, 30, 2).to(device) / 100.0\n",
    "\n",
    "        pred = model(p_in, v_in)\n",
    "\n",
    "        loss = 0\n",
    "        p_criteria = nn.MSELoss()\n",
    "        p_loss = torch.sqrt(p_criteria(pred[0], p_out))\n",
    "\n",
    "        epoch_loss += p_loss\n",
    "\n",
    "        val_loop.set_description(f\"Val.  Epoch [{i + 1}/{epoch}]\")\n",
    "        val_loop.set_postfix(loss=epoch_loss.item())\n",
    "    # print(\"Validation Loss: \", epoch_loss.item())"
   ]
  },
  {
   "cell_type": "markdown",
   "metadata": {},
   "source": [
    "# Model Training and Validation\n",
    "---\n",
    "1. Naive Model\n",
    "2. Bigger Model\n",
    "3. \"Bigger Bigger\" Model"
   ]
  },
  {
   "cell_type": "code",
   "execution_count": 7,
   "metadata": {},
   "outputs": [],
   "source": [
    "train_naive = []\n",
    "val_naive = []\n",
    "\n",
    "train_bigger = []\n",
    "val_bigger = []\n",
    "\n",
    "train_bb = []\n",
    "val_bb = []"
   ]
  },
  {
   "cell_type": "code",
   "execution_count": 7,
   "metadata": {
    "id": "FdFKvwWzASi-"
   },
   "outputs": [],
   "source": [
    "def zeroNormNP(array, size=19, pos=np.array([-1, -1])):  # array is N,19,2\n",
    "    temp = []\n",
    "    if np.array_equal(pos, np.array([-1, -1])):\n",
    "        temp = array[:, 0]\n",
    "    else:\n",
    "        temp = pos  # should be N,2\n",
    "    temp = np.expand_dims(temp, 1)\n",
    "    temp = np.repeat(temp, size, 1)\n",
    "\n",
    "    return (array - temp) / 200.0, array[:, 0]\n",
    "\n",
    "\n",
    "def zeroNormTor(array, size=19, pos=torch.tensor([-1, -1])):  # array is N,19,2\n",
    "    temp = []\n",
    "    if np.array_equal(pos, torch.tensor([-1, -1])):\n",
    "        temp = array[:, 0]\n",
    "    else:\n",
    "        temp = pos  # should be N,2\n",
    "    temp = torch.unsqueeze(temp, 1)\n",
    "    temp = torch.repeat_interleave(temp, size, 1)\n",
    "    return (array - temp) / 200.0, array[:, 0]"
   ]
  },
  {
   "cell_type": "code",
   "execution_count": 9,
   "metadata": {
    "id": "8wqSU86YvIgT",
    "scrolled": false
   },
   "outputs": [
    {
     "name": "stdout",
     "output_type": "stream",
     "text": [
      "\n",
      "LENGTH OF TRAIN LOADER DATASET: 205942\n",
      "LENGTH OF TRAIN DATA: 164753 \n",
      "LENGTH OF VAL DATA: 41189\n"
     ]
    },
    {
     "name": "stderr",
     "output_type": "stream",
     "text": [
      "Train Epoch [1/30]: 100%|██████████| 1648/1648 [00:58<00:00, 28.26it/s, avg=0.0154, loss=25.3]\n",
      "Val.  Epoch [1/30]: 100%|██████████| 412/412 [00:14<00:00, 29.39it/s, avg=0.0126, loss=5.2]   "
     ]
    },
    {
     "name": "stdout",
     "output_type": "stream",
     "text": [
      "saved\n"
     ]
    },
    {
     "name": "stderr",
     "output_type": "stream",
     "text": [
      "\n",
      "Train Epoch [2/30]: 100%|██████████| 1648/1648 [00:58<00:00, 28.21it/s, avg=0.0122, loss=20.1] \n",
      "Val.  Epoch [2/30]: 100%|██████████| 412/412 [00:13<00:00, 29.83it/s, avg=0.0117, loss=4.82]  "
     ]
    },
    {
     "name": "stdout",
     "output_type": "stream",
     "text": [
      "saved\n"
     ]
    },
    {
     "name": "stderr",
     "output_type": "stream",
     "text": [
      "\n",
      "Train Epoch [3/30]: 100%|██████████| 1648/1648 [00:56<00:00, 28.98it/s, avg=0.012, loss=19.8]  \n",
      "Val.  Epoch [3/30]: 100%|██████████| 412/412 [00:13<00:00, 30.01it/s, avg=0.0117, loss=4.83]  \n",
      "Train Epoch [4/30]: 100%|██████████| 1648/1648 [00:56<00:00, 29.02it/s, avg=0.0119, loss=19.5] \n",
      "Val.  Epoch [4/30]: 100%|██████████| 412/412 [00:13<00:00, 30.11it/s, avg=0.0126, loss=5.2]   \n",
      "Train Epoch [5/30]: 100%|██████████| 1648/1648 [00:57<00:00, 28.89it/s, avg=0.0116, loss=19.2] \n",
      "Val.  Epoch [5/30]: 100%|██████████| 412/412 [00:14<00:00, 29.42it/s, avg=0.0126, loss=5.18]  \n",
      "Train Epoch [6/30]: 100%|██████████| 1648/1648 [00:57<00:00, 28.68it/s, avg=0.0114, loss=18.8] \n",
      "Val.  Epoch [6/30]: 100%|██████████| 412/412 [00:13<00:00, 29.57it/s, avg=0.012, loss=4.95]   \n",
      "Train Epoch [7/30]: 100%|██████████| 1648/1648 [00:56<00:00, 29.37it/s, avg=0.0113, loss=18.5] \n",
      "Val.  Epoch [7/30]: 100%|██████████| 412/412 [00:12<00:00, 31.90it/s, avg=0.0115, loss=4.74]  "
     ]
    },
    {
     "name": "stdout",
     "output_type": "stream",
     "text": [
      "saved\n"
     ]
    },
    {
     "name": "stderr",
     "output_type": "stream",
     "text": [
      "\n",
      "Train Epoch [8/30]: 100%|██████████| 1648/1648 [00:51<00:00, 31.95it/s, avg=0.0111, loss=18.3] \n",
      "Val.  Epoch [8/30]: 100%|██████████| 412/412 [00:14<00:00, 29.37it/s, avg=0.0109, loss=4.48]  "
     ]
    },
    {
     "name": "stdout",
     "output_type": "stream",
     "text": [
      "saved\n"
     ]
    },
    {
     "name": "stderr",
     "output_type": "stream",
     "text": [
      "\n",
      "Train Epoch [9/30]: 100%|██████████| 1648/1648 [00:57<00:00, 28.65it/s, avg=0.011, loss=18]    \n",
      "Val.  Epoch [9/30]: 100%|██████████| 412/412 [00:13<00:00, 29.76it/s, avg=0.0107, loss=4.4]   "
     ]
    },
    {
     "name": "stdout",
     "output_type": "stream",
     "text": [
      "saved\n"
     ]
    },
    {
     "name": "stderr",
     "output_type": "stream",
     "text": [
      "\n",
      "Train Epoch [10/30]: 100%|██████████| 1648/1648 [00:57<00:00, 28.64it/s, avg=0.0108, loss=17.8] \n",
      "Val.  Epoch [10/30]: 100%|██████████| 412/412 [00:13<00:00, 29.58it/s, avg=0.0106, loss=4.36]  "
     ]
    },
    {
     "name": "stdout",
     "output_type": "stream",
     "text": [
      "saved\n"
     ]
    },
    {
     "name": "stderr",
     "output_type": "stream",
     "text": [
      "\n",
      "Train Epoch [11/30]: 100%|██████████| 1648/1648 [00:58<00:00, 28.22it/s, avg=0.0107, loss=17.7] \n",
      "Val.  Epoch [11/30]: 100%|██████████| 412/412 [00:14<00:00, 28.76it/s, avg=0.0105, loss=4.33]  "
     ]
    },
    {
     "name": "stdout",
     "output_type": "stream",
     "text": [
      "saved\n"
     ]
    },
    {
     "name": "stderr",
     "output_type": "stream",
     "text": [
      "\n",
      "Train Epoch [12/30]: 100%|██████████| 1648/1648 [00:57<00:00, 28.42it/s, avg=0.0106, loss=17.5] \n",
      "Val.  Epoch [12/30]: 100%|██████████| 412/412 [00:14<00:00, 27.91it/s, avg=0.0104, loss=4.27]  "
     ]
    },
    {
     "name": "stdout",
     "output_type": "stream",
     "text": [
      "saved\n"
     ]
    },
    {
     "name": "stderr",
     "output_type": "stream",
     "text": [
      "\n",
      "Train Epoch [13/30]: 100%|██████████| 1648/1648 [00:58<00:00, 28.34it/s, avg=0.0105, loss=17.3] \n",
      "Val.  Epoch [13/30]: 100%|██████████| 412/412 [00:14<00:00, 28.44it/s, avg=0.0105, loss=4.31]  \n",
      "Train Epoch [14/30]: 100%|██████████| 1648/1648 [00:57<00:00, 28.76it/s, avg=0.0105, loss=17.3] \n",
      "Val.  Epoch [14/30]: 100%|██████████| 412/412 [00:14<00:00, 29.38it/s, avg=0.0104, loss=4.28]  \n",
      "Train Epoch [15/30]: 100%|██████████| 1648/1648 [00:58<00:00, 28.33it/s, avg=0.0104, loss=17.2] \n",
      "Val.  Epoch [15/30]: 100%|██████████| 412/412 [00:14<00:00, 29.13it/s, avg=0.0103, loss=4.25]  \n"
     ]
    },
    {
     "name": "stdout",
     "output_type": "stream",
     "text": [
      "saved\n"
     ]
    },
    {
     "name": "stderr",
     "output_type": "stream",
     "text": [
      "Train Epoch [16/30]: 100%|██████████| 1648/1648 [00:56<00:00, 29.07it/s, avg=0.0104, loss=17.1] \n",
      "Val.  Epoch [16/30]: 100%|██████████| 412/412 [00:14<00:00, 29.35it/s, avg=0.0103, loss=4.24]  "
     ]
    },
    {
     "name": "stdout",
     "output_type": "stream",
     "text": [
      "saved\n"
     ]
    },
    {
     "name": "stderr",
     "output_type": "stream",
     "text": [
      "\n",
      "Train Epoch [17/30]: 100%|██████████| 1648/1648 [00:57<00:00, 28.85it/s, avg=0.0103, loss=17]   \n",
      "Val.  Epoch [17/30]: 100%|██████████| 412/412 [00:14<00:00, 28.92it/s, avg=0.0103, loss=4.23]  "
     ]
    },
    {
     "name": "stdout",
     "output_type": "stream",
     "text": [
      "saved\n"
     ]
    },
    {
     "name": "stderr",
     "output_type": "stream",
     "text": [
      "\n",
      "Train Epoch [18/30]: 100%|██████████| 1648/1648 [00:57<00:00, 28.80it/s, avg=0.0103, loss=16.9] \n",
      "Val.  Epoch [18/30]: 100%|██████████| 412/412 [00:13<00:00, 29.95it/s, avg=0.0102, loss=4.21]  "
     ]
    },
    {
     "name": "stdout",
     "output_type": "stream",
     "text": [
      "saved\n"
     ]
    },
    {
     "name": "stderr",
     "output_type": "stream",
     "text": [
      "\n",
      "Train Epoch [19/30]: 100%|██████████| 1648/1648 [00:57<00:00, 28.83it/s, avg=0.0103, loss=16.9] \n",
      "Val.  Epoch [19/30]: 100%|██████████| 412/412 [00:14<00:00, 29.15it/s, avg=0.0103, loss=4.22]  \n",
      "Train Epoch [20/30]: 100%|██████████| 1648/1648 [00:57<00:00, 28.69it/s, avg=0.0102, loss=16.8] \n",
      "Val.  Epoch [20/30]: 100%|██████████| 412/412 [00:13<00:00, 30.17it/s, avg=0.0101, loss=4.17]  "
     ]
    },
    {
     "name": "stdout",
     "output_type": "stream",
     "text": [
      "saved\n"
     ]
    },
    {
     "name": "stderr",
     "output_type": "stream",
     "text": [
      "\n",
      "Train Epoch [21/30]: 100%|██████████| 1648/1648 [00:56<00:00, 29.33it/s, avg=0.0102, loss=16.8] \n",
      "Val.  Epoch [21/30]: 100%|██████████| 412/412 [00:13<00:00, 29.71it/s, avg=0.01, loss=4.13]    \n"
     ]
    },
    {
     "name": "stdout",
     "output_type": "stream",
     "text": [
      "saved\n"
     ]
    },
    {
     "name": "stderr",
     "output_type": "stream",
     "text": [
      "Train Epoch [22/30]: 100%|██████████| 1648/1648 [00:56<00:00, 29.16it/s, avg=0.0101, loss=16.7] \n",
      "Val.  Epoch [22/30]: 100%|██████████| 412/412 [00:13<00:00, 29.80it/s, avg=0.01, loss=4.14]    \n",
      "Train Epoch [23/30]: 100%|██████████| 1648/1648 [00:57<00:00, 28.61it/s, avg=0.0101, loss=16.7] \n",
      "Val.  Epoch [23/30]: 100%|██████████| 412/412 [00:13<00:00, 29.44it/s, avg=0.01, loss=4.14]    \n",
      "Train Epoch [24/30]: 100%|██████████| 1648/1648 [00:57<00:00, 28.77it/s, avg=0.0101, loss=16.6] \n",
      "Val.  Epoch [24/30]: 100%|██████████| 412/412 [00:13<00:00, 29.60it/s, avg=0.01, loss=4.12]    "
     ]
    },
    {
     "name": "stdout",
     "output_type": "stream",
     "text": [
      "saved\n"
     ]
    },
    {
     "name": "stderr",
     "output_type": "stream",
     "text": [
      "\n",
      "Train Epoch [25/30]: 100%|██████████| 1648/1648 [00:57<00:00, 28.76it/s, avg=0.01, loss=16.5]   \n",
      "Val.  Epoch [25/30]: 100%|██████████| 412/412 [00:14<00:00, 29.18it/s, avg=0.00994, loss=4.09] "
     ]
    },
    {
     "name": "stdout",
     "output_type": "stream",
     "text": [
      "saved\n"
     ]
    },
    {
     "name": "stderr",
     "output_type": "stream",
     "text": [
      "\n",
      "Train Epoch [26/30]: 100%|██████████| 1648/1648 [00:56<00:00, 29.18it/s, avg=0.01, loss=16.5]   \n",
      "Val.  Epoch [26/30]: 100%|██████████| 412/412 [00:13<00:00, 29.96it/s, avg=0.01, loss=4.14]    \n",
      "Train Epoch [27/30]: 100%|██████████| 1648/1648 [00:57<00:00, 28.77it/s, avg=0.00999, loss=16.5]\n",
      "Val.  Epoch [27/30]: 100%|██████████| 412/412 [00:13<00:00, 29.66it/s, avg=0.00994, loss=4.1]  \n",
      "Train Epoch [28/30]: 100%|██████████| 1648/1648 [00:57<00:00, 28.88it/s, avg=0.00995, loss=16.4]\n",
      "Val.  Epoch [28/30]: 100%|██████████| 412/412 [00:14<00:00, 28.84it/s, avg=0.01, loss=4.12]    \n",
      "Train Epoch [29/30]: 100%|██████████| 1648/1648 [00:57<00:00, 28.64it/s, avg=0.00992, loss=16.4]\n",
      "Val.  Epoch [29/30]: 100%|██████████| 412/412 [00:13<00:00, 29.70it/s, avg=0.00999, loss=4.12] \n",
      "Train Epoch [30/30]: 100%|██████████| 1648/1648 [00:57<00:00, 28.79it/s, avg=0.00991, loss=16.3]\n",
      "Val.  Epoch [30/30]: 100%|██████████| 412/412 [00:14<00:00, 28.73it/s, avg=0.00991, loss=4.08] \n"
     ]
    },
    {
     "name": "stdout",
     "output_type": "stream",
     "text": [
      "saved\n"
     ]
    }
   ],
   "source": [
    "'''\n",
    "Naive\n",
    "/200\n",
    "30 epochs\n",
    "5 Cars\n",
    "'''\n",
    "import time\n",
    "\n",
    "batch_sz = 100\n",
    "train_loader = DataLoader(\n",
    "    train_dataset,\n",
    "    batch_size=batch_sz,\n",
    "    shuffle=False,\n",
    "    collate_fn=my_collate_train_multiple,\n",
    "    num_workers=2,\n",
    ")\n",
    "\n",
    "train_size = int(0.8 * len(train_loader.dataset))\n",
    "val_size = len(train_loader.dataset) - train_size\n",
    "train_data, val_data = torch.utils.data.random_split(\n",
    "    train_loader.dataset, [train_size, val_size]\n",
    ")\n",
    "\n",
    "print(\"\\nLENGTH OF TRAIN LOADER DATASET:\", len(train_loader.dataset))\n",
    "print(\"LENGTH OF TRAIN DATA:\", len(train_data), \"\\nLENGTH OF VAL DATA:\", len(val_data))\n",
    "\n",
    "train_data = DataLoader(\n",
    "    train_data,\n",
    "    batch_size=batch_sz,\n",
    "    shuffle=False,\n",
    "    collate_fn=my_collate_train_multiple,\n",
    "    num_workers=2,\n",
    ")\n",
    "val_data = DataLoader(\n",
    "    val_data,\n",
    "    batch_size=batch_sz,\n",
    "    shuffle=False,\n",
    "    collate_fn=my_collate_train_multiple,\n",
    "    num_workers=2,\n",
    ")\n",
    "model = NaiveTrajectory().to(device)\n",
    "\n",
    "my_optim = torch.optim.Adam(model.parameters(), lr=0.001)\n",
    "\n",
    "# decayRate = 0.999\n",
    "# my_lr_scheduler = torch.optim.lr_scheduler.ExponentialLR(optimizer=my_optim, gamma=decayRate)\n",
    "\n",
    "epoch = 30  # takes around 20 epochs to converge\n",
    "number = 5  # number of cars in each\n",
    "\n",
    "best_val = 100\n",
    "\n",
    "for i in range(epoch):\n",
    "\n",
    "    model.train()\n",
    "    epoch_loss = 0\n",
    "    start = time.time()\n",
    "\n",
    "    train_loop = tqdm(enumerate(train_data), total=len(train_data))\n",
    "\n",
    "    for i_batch, sample_batch in train_loop:\n",
    "\n",
    "        inp, out = sample_batch\n",
    "        batch = inp.shape[1]\n",
    "\n",
    "        p_in, orig = zeroNormTor(inp[0].reshape(batch * number, 19, 2).to(device))\n",
    "        v_in = inp[1].reshape(batch * number, 19, 2).to(device) / 85.0\n",
    "        p_out, _ = zeroNormTor(\n",
    "            out[0].reshape(batch * number, 30, 2).to(device), 30, orig\n",
    "        )\n",
    "        v_out = out[1].reshape(batch * number, 30, 2).to(device) / 85.0\n",
    "\n",
    "        pred = model(p_in, v_in)\n",
    "\n",
    "        loss = 0\n",
    "        p_criteria = nn.MSELoss()\n",
    "        p_loss = torch.sqrt(p_criteria(pred[0], p_out))\n",
    "\n",
    "        v_criteria = nn.MSELoss()\n",
    "        v_loss = torch.sqrt(v_criteria(pred[1], v_out))\n",
    "\n",
    "        loss = p_loss + v_loss\n",
    "        epoch_loss += p_loss.item()\n",
    "        \n",
    "        avg_train_loss = epoch_loss / len(train_data)\n",
    "\n",
    "        my_optim.zero_grad()\n",
    "        loss.backward()\n",
    "        my_optim.step()\n",
    "\n",
    "        train_loop.set_description(f\"Train Epoch [{i + 1}/{epoch}]\")\n",
    "        train_loop.set_postfix(loss = epoch_loss, avg = avg_train_loss)        \n",
    "    \n",
    "    train_naive.append(avg_train_loss) # append final average train loss\n",
    "    \n",
    "    model.eval()\n",
    "    epoch_loss = 0\n",
    "    val_loop = tqdm(enumerate(val_data), total=len(val_data))\n",
    "    for i_batch, sample_batch in val_loop:\n",
    "        inp, out = sample_batch\n",
    "        batch = inp.shape[1]\n",
    "\n",
    "        p_in, orig = zeroNormTor(inp[0].reshape(batch * number, 19, 2).to(device))\n",
    "        v_in = inp[1].reshape(batch * number, 19, 2).to(device) / 85.0\n",
    "        p_out, _ = zeroNormTor(\n",
    "            out[0].reshape(batch * number, 30, 2).to(device), 30, orig\n",
    "        )\n",
    "        v_out = out[1].reshape(batch * number, 30, 2).to(device) / 85.0\n",
    "\n",
    "        pred = model(p_in, v_in)\n",
    "\n",
    "        loss = 0\n",
    "        p_criteria = nn.MSELoss()\n",
    "        p_loss = torch.sqrt(p_criteria(pred[0], p_out))\n",
    "\n",
    "        epoch_loss += p_loss.item()\n",
    "        \n",
    "        avg_val_loss = epoch_loss / len(val_data)\n",
    "\n",
    "        val_loop.set_description(f\"Val.  Epoch [{i + 1}/{epoch}]\")\n",
    "        val_loop.set_postfix(loss = epoch_loss, avg = avg_val_loss)\n",
    "    \n",
    "    val_naive.append(avg_val_loss) # append final average val loss\n",
    "    \n",
    "    if epoch_loss < best_val:\n",
    "        filename = \"naive_best.pth\"\n",
    "        state = {\n",
    "            \"epoch\": i,\n",
    "            \"state_dict\": model.state_dict(),\n",
    "            \"optimizer\": my_optim.state_dict(),\n",
    "        }\n",
    "        torch.save(state, filename)\n",
    "        print(\"saved\")\n",
    "        best_val = epoch_loss\n",
    "\n",
    "    #print(\"Validation Loss: \", epoch_loss)"
   ]
  },
  {
   "cell_type": "code",
   "execution_count": 10,
   "metadata": {},
   "outputs": [
    {
     "name": "stdout",
     "output_type": "stream",
     "text": [
      "\n",
      "LENGTH OF TRAIN LOADER DATASET: 205942\n",
      "LENGTH OF TRAIN DATA: 164753 \n",
      "LENGTH OF VAL DATA: 41189\n"
     ]
    },
    {
     "name": "stderr",
     "output_type": "stream",
     "text": [
      "Train Epoch [1/30]: 100%|██████████| 1648/1648 [01:11<00:00, 23.19it/s, avg=0.0177, loss=29.2]\n",
      "Val.  Epoch [1/30]: 100%|██████████| 412/412 [00:14<00:00, 28.34it/s, avg=0.0127, loss=5.25]  \n"
     ]
    },
    {
     "name": "stdout",
     "output_type": "stream",
     "text": [
      "saved\n"
     ]
    },
    {
     "name": "stderr",
     "output_type": "stream",
     "text": [
      "Train Epoch [2/30]: 100%|██████████| 1648/1648 [01:11<00:00, 23.15it/s, avg=0.0126, loss=20.8] \n",
      "Val.  Epoch [2/30]: 100%|██████████| 412/412 [00:14<00:00, 29.16it/s, avg=0.0131, loss=5.38]  \n",
      "Train Epoch [3/30]: 100%|██████████| 1648/1648 [01:11<00:00, 22.94it/s, avg=0.0123, loss=20.3] \n",
      "Val.  Epoch [3/30]: 100%|██████████| 412/412 [00:14<00:00, 28.12it/s, avg=0.0125, loss=5.15]  \n"
     ]
    },
    {
     "name": "stdout",
     "output_type": "stream",
     "text": [
      "saved\n"
     ]
    },
    {
     "name": "stderr",
     "output_type": "stream",
     "text": [
      "Train Epoch [4/30]: 100%|██████████| 1648/1648 [01:12<00:00, 22.82it/s, avg=0.0119, loss=19.7] \n",
      "Val.  Epoch [4/30]: 100%|██████████| 412/412 [00:14<00:00, 27.95it/s, avg=0.0121, loss=4.99]  \n"
     ]
    },
    {
     "name": "stdout",
     "output_type": "stream",
     "text": [
      "saved\n"
     ]
    },
    {
     "name": "stderr",
     "output_type": "stream",
     "text": [
      "Train Epoch [5/30]: 100%|██████████| 1648/1648 [01:13<00:00, 22.52it/s, avg=0.0115, loss=19]   \n",
      "Val.  Epoch [5/30]: 100%|██████████| 412/412 [00:14<00:00, 27.57it/s, avg=0.012, loss=4.95]   \n"
     ]
    },
    {
     "name": "stdout",
     "output_type": "stream",
     "text": [
      "saved\n"
     ]
    },
    {
     "name": "stderr",
     "output_type": "stream",
     "text": [
      "Train Epoch [6/30]: 100%|██████████| 1648/1648 [01:12<00:00, 22.62it/s, avg=0.0112, loss=18.5] \n",
      "Val.  Epoch [6/30]: 100%|██████████| 412/412 [00:14<00:00, 28.23it/s, avg=0.0117, loss=4.8]   \n"
     ]
    },
    {
     "name": "stdout",
     "output_type": "stream",
     "text": [
      "saved\n"
     ]
    },
    {
     "name": "stderr",
     "output_type": "stream",
     "text": [
      "Train Epoch [7/30]: 100%|██████████| 1648/1648 [01:14<00:00, 22.15it/s, avg=0.011, loss=18.2]  \n",
      "Val.  Epoch [7/30]: 100%|██████████| 412/412 [00:14<00:00, 27.75it/s, avg=0.0114, loss=4.69]  \n"
     ]
    },
    {
     "name": "stdout",
     "output_type": "stream",
     "text": [
      "saved\n"
     ]
    },
    {
     "name": "stderr",
     "output_type": "stream",
     "text": [
      "Train Epoch [8/30]: 100%|██████████| 1648/1648 [01:13<00:00, 22.57it/s, avg=0.0109, loss=17.9] \n",
      "Val.  Epoch [8/30]: 100%|██████████| 412/412 [00:14<00:00, 28.27it/s, avg=0.0109, loss=4.51]  \n"
     ]
    },
    {
     "name": "stdout",
     "output_type": "stream",
     "text": [
      "saved\n"
     ]
    },
    {
     "name": "stderr",
     "output_type": "stream",
     "text": [
      "Train Epoch [9/30]: 100%|██████████| 1648/1648 [01:13<00:00, 22.55it/s, avg=0.0107, loss=17.7] \n",
      "Val.  Epoch [9/30]: 100%|██████████| 412/412 [00:14<00:00, 27.67it/s, avg=0.0111, loss=4.56]  \n",
      "Train Epoch [10/30]: 100%|██████████| 1648/1648 [01:12<00:00, 22.67it/s, avg=0.0106, loss=17.5] \n",
      "Val.  Epoch [10/30]: 100%|██████████| 412/412 [00:14<00:00, 28.24it/s, avg=0.0108, loss=4.45]  \n"
     ]
    },
    {
     "name": "stdout",
     "output_type": "stream",
     "text": [
      "saved\n"
     ]
    },
    {
     "name": "stderr",
     "output_type": "stream",
     "text": [
      "Train Epoch [11/30]: 100%|██████████| 1648/1648 [01:12<00:00, 22.67it/s, avg=0.0105, loss=17.3] \n",
      "Val.  Epoch [11/30]: 100%|██████████| 412/412 [00:14<00:00, 28.31it/s, avg=0.0109, loss=4.49]  \n",
      "Train Epoch [12/30]: 100%|██████████| 1648/1648 [01:13<00:00, 22.54it/s, avg=0.0104, loss=17.2] \n",
      "Val.  Epoch [12/30]: 100%|██████████| 412/412 [00:14<00:00, 27.90it/s, avg=0.0109, loss=4.5]   \n",
      "Train Epoch [13/30]: 100%|██████████| 1648/1648 [01:13<00:00, 22.52it/s, avg=0.0104, loss=17.1] \n",
      "Val.  Epoch [13/30]: 100%|██████████| 412/412 [00:14<00:00, 28.14it/s, avg=0.0111, loss=4.58]  \n",
      "Train Epoch [14/30]: 100%|██████████| 1648/1648 [01:15<00:00, 21.92it/s, avg=0.0103, loss=17]   \n",
      "Val.  Epoch [14/30]: 100%|██████████| 412/412 [00:15<00:00, 26.36it/s, avg=0.0114, loss=4.68]  \n",
      "Train Epoch [15/30]: 100%|██████████| 1648/1648 [01:15<00:00, 21.85it/s, avg=0.0102, loss=16.8]  \n",
      "Val.  Epoch [15/30]: 100%|██████████| 412/412 [00:15<00:00, 26.43it/s, avg=0.0114, loss=4.69]  \n",
      "Train Epoch [16/30]: 100%|██████████| 1648/1648 [01:15<00:00, 21.96it/s, avg=0.0102, loss=16.7]  \n",
      "Val.  Epoch [16/30]: 100%|██████████| 412/412 [00:15<00:00, 26.15it/s, avg=0.0113, loss=4.67]  \n",
      "Train Epoch [17/30]: 100%|██████████| 1648/1648 [01:15<00:00, 21.74it/s, avg=0.0101, loss=16.7] \n",
      "Val.  Epoch [17/30]: 100%|██████████| 412/412 [00:15<00:00, 26.49it/s, avg=0.0113, loss=4.67]  \n",
      "Train Epoch [18/30]: 100%|██████████| 1648/1648 [01:16<00:00, 21.47it/s, avg=0.0101, loss=16.6]  \n",
      "Val.  Epoch [18/30]: 100%|██████████| 412/412 [00:15<00:00, 26.02it/s, avg=0.0111, loss=4.58]  \n",
      "Train Epoch [19/30]: 100%|██████████| 1648/1648 [01:17<00:00, 21.25it/s, avg=0.01, loss=16.5]    \n",
      "Val.  Epoch [19/30]: 100%|██████████| 412/412 [00:15<00:00, 25.97it/s, avg=0.011, loss=4.53]   \n",
      "Train Epoch [20/30]: 100%|██████████| 1648/1648 [01:17<00:00, 21.33it/s, avg=0.00997, loss=16.4] \n",
      "Val.  Epoch [20/30]: 100%|██████████| 412/412 [00:15<00:00, 26.44it/s, avg=0.011, loss=4.54]   \n",
      "Train Epoch [21/30]: 100%|██████████| 1648/1648 [01:17<00:00, 21.27it/s, avg=0.00994, loss=16.4] \n",
      "Val.  Epoch [21/30]: 100%|██████████| 412/412 [00:15<00:00, 26.19it/s, avg=0.011, loss=4.55]   \n",
      "Train Epoch [22/30]: 100%|██████████| 1648/1648 [01:18<00:00, 20.96it/s, avg=0.00992, loss=16.3] \n",
      "Val.  Epoch [22/30]: 100%|██████████| 412/412 [00:16<00:00, 25.54it/s, avg=0.0108, loss=4.45]  \n",
      "Train Epoch [23/30]: 100%|██████████| 1648/1648 [01:18<00:00, 20.87it/s, avg=0.00989, loss=16.3] \n",
      "Val.  Epoch [23/30]: 100%|██████████| 412/412 [00:15<00:00, 25.94it/s, avg=0.0108, loss=4.45]  \n",
      "Train Epoch [24/30]: 100%|██████████| 1648/1648 [01:18<00:00, 21.03it/s, avg=0.00983, loss=16.2] \n",
      "Val.  Epoch [24/30]: 100%|██████████| 412/412 [00:16<00:00, 25.61it/s, avg=0.0109, loss=4.48]  \n",
      "Train Epoch [25/30]: 100%|██████████| 1648/1648 [01:18<00:00, 20.94it/s, avg=0.00981, loss=16.2] \n",
      "Val.  Epoch [25/30]: 100%|██████████| 412/412 [00:16<00:00, 25.48it/s, avg=0.0107, loss=4.41]  \n"
     ]
    },
    {
     "name": "stdout",
     "output_type": "stream",
     "text": [
      "saved\n"
     ]
    },
    {
     "name": "stderr",
     "output_type": "stream",
     "text": [
      "Train Epoch [26/30]: 100%|██████████| 1648/1648 [01:14<00:00, 22.10it/s, avg=0.00978, loss=16.1] \n",
      "Val.  Epoch [26/30]: 100%|██████████| 412/412 [00:15<00:00, 26.34it/s, avg=0.0108, loss=4.43]  \n",
      "Train Epoch [27/30]: 100%|██████████| 1648/1648 [01:14<00:00, 22.05it/s, avg=0.00975, loss=16.1] \n",
      "Val.  Epoch [27/30]: 100%|██████████| 412/412 [00:15<00:00, 26.84it/s, avg=0.0108, loss=4.46]  \n",
      "Train Epoch [28/30]: 100%|██████████| 1648/1648 [01:14<00:00, 22.00it/s, avg=0.0097, loss=16]    \n",
      "Val.  Epoch [28/30]: 100%|██████████| 412/412 [00:15<00:00, 27.11it/s, avg=0.0108, loss=4.43]  \n",
      "Train Epoch [29/30]: 100%|██████████| 1648/1648 [01:14<00:00, 22.17it/s, avg=0.00969, loss=16]   \n",
      "Val.  Epoch [29/30]: 100%|██████████| 412/412 [00:15<00:00, 27.24it/s, avg=0.0103, loss=4.25]  \n"
     ]
    },
    {
     "name": "stdout",
     "output_type": "stream",
     "text": [
      "saved\n"
     ]
    },
    {
     "name": "stderr",
     "output_type": "stream",
     "text": [
      "Train Epoch [30/30]: 100%|██████████| 1648/1648 [01:13<00:00, 22.44it/s, avg=0.00964, loss=15.9] \n",
      "Val.  Epoch [30/30]: 100%|██████████| 412/412 [00:15<00:00, 27.26it/s, avg=0.0104, loss=4.3]   \n"
     ]
    }
   ],
   "source": [
    "'''\n",
    "Bigger\n",
    "/200\n",
    "30 epochs\n",
    "5 Cars\n",
    "'''\n",
    "import time\n",
    "\n",
    "batch_sz = 100\n",
    "train_loader = DataLoader(\n",
    "    train_dataset,\n",
    "    batch_size=batch_sz,\n",
    "    shuffle=False,\n",
    "    collate_fn=my_collate_train_multiple,\n",
    "    num_workers=2,\n",
    ")\n",
    "\n",
    "train_size = int(0.8 * len(train_loader.dataset))\n",
    "val_size = len(train_loader.dataset) - train_size\n",
    "train_data, val_data = torch.utils.data.random_split(\n",
    "    train_loader.dataset, [train_size, val_size]\n",
    ")\n",
    "\n",
    "print(\"\\nLENGTH OF TRAIN LOADER DATASET:\", len(train_loader.dataset))\n",
    "print(\"LENGTH OF TRAIN DATA:\", len(train_data), \"\\nLENGTH OF VAL DATA:\", len(val_data))\n",
    "\n",
    "train_data = DataLoader(\n",
    "    train_data,\n",
    "    batch_size=batch_sz,\n",
    "    shuffle=False,\n",
    "    collate_fn=my_collate_train_multiple,\n",
    "    num_workers=2,\n",
    ")\n",
    "val_data = DataLoader(\n",
    "    val_data,\n",
    "    batch_size=batch_sz,\n",
    "    shuffle=False,\n",
    "    collate_fn=my_collate_train_multiple,\n",
    "    num_workers=2,\n",
    ")\n",
    "model = BiggerTrajectory().to(device)\n",
    "\n",
    "my_optim = torch.optim.Adam(model.parameters(), lr=0.001)\n",
    "\n",
    "# decayRate = 0.999\n",
    "# my_lr_scheduler = torch.optim.lr_scheduler.ExponentialLR(optimizer=my_optim, gamma=decayRate)\n",
    "\n",
    "epoch = 30  # takes around 20 epochs to converge\n",
    "number = 5  # number of cars in each\n",
    "\n",
    "best_val = 100\n",
    "\n",
    "for i in range(epoch):\n",
    "\n",
    "    model.train()\n",
    "    epoch_loss = 0\n",
    "    start = time.time()\n",
    "\n",
    "    train_loop = tqdm(enumerate(train_data), total=len(train_data))\n",
    "\n",
    "    for i_batch, sample_batch in train_loop:\n",
    "\n",
    "        inp, out = sample_batch\n",
    "        batch = inp.shape[1]\n",
    "\n",
    "        p_in, orig = zeroNormTor(inp[0].reshape(batch * number, 19, 2).to(device))\n",
    "        v_in = inp[1].reshape(batch * number, 19, 2).to(device) / 85.0\n",
    "        p_out, _ = zeroNormTor(\n",
    "            out[0].reshape(batch * number, 30, 2).to(device), 30, orig\n",
    "        )\n",
    "        v_out = out[1].reshape(batch * number, 30, 2).to(device) / 85.0\n",
    "\n",
    "        pred = model(p_in, v_in)\n",
    "\n",
    "        loss = 0\n",
    "        p_criteria = nn.MSELoss()\n",
    "        p_loss = torch.sqrt(p_criteria(pred[0], p_out))\n",
    "\n",
    "        v_criteria = nn.MSELoss()\n",
    "        v_loss = torch.sqrt(v_criteria(pred[1], v_out))\n",
    "\n",
    "        loss = p_loss + v_loss\n",
    "        epoch_loss += p_loss.item()\n",
    "        \n",
    "        avg_train_loss = epoch_loss / len(train_data)\n",
    "\n",
    "        my_optim.zero_grad()\n",
    "        loss.backward()\n",
    "        my_optim.step()\n",
    "\n",
    "        train_loop.set_description(f\"Train Epoch [{i + 1}/{epoch}]\")\n",
    "        train_loop.set_postfix(loss = epoch_loss, avg = avg_train_loss)        \n",
    "    \n",
    "    train_bigger.append(avg_train_loss) # append final average train loss\n",
    "    \n",
    "    model.eval()\n",
    "    epoch_loss = 0\n",
    "    val_loop = tqdm(enumerate(val_data), total=len(val_data))\n",
    "    for i_batch, sample_batch in val_loop:\n",
    "        inp, out = sample_batch\n",
    "        batch = inp.shape[1]\n",
    "\n",
    "        p_in, orig = zeroNormTor(inp[0].reshape(batch * number, 19, 2).to(device))\n",
    "        v_in = inp[1].reshape(batch * number, 19, 2).to(device) / 85.0\n",
    "        p_out, _ = zeroNormTor(\n",
    "            out[0].reshape(batch * number, 30, 2).to(device), 30, orig\n",
    "        )\n",
    "        v_out = out[1].reshape(batch * number, 30, 2).to(device) / 85.0\n",
    "\n",
    "        pred = model(p_in, v_in)\n",
    "\n",
    "        loss = 0\n",
    "        p_criteria = nn.MSELoss()\n",
    "        p_loss = torch.sqrt(p_criteria(pred[0], p_out))\n",
    "\n",
    "        epoch_loss += p_loss.item()\n",
    "        \n",
    "        avg_val_loss = epoch_loss / len(val_data)\n",
    "\n",
    "        val_loop.set_description(f\"Val.  Epoch [{i + 1}/{epoch}]\")\n",
    "        val_loop.set_postfix(loss = epoch_loss, avg = avg_val_loss)\n",
    "    \n",
    "    val_bigger.append(avg_val_loss) # append final average val loss\n",
    "    \n",
    "    if epoch_loss < best_val:\n",
    "        filename = \"big_best.pth\"\n",
    "        state = {\n",
    "            \"epoch\": i,\n",
    "            \"state_dict\": model.state_dict(),\n",
    "            \"optimizer\": my_optim.state_dict(),\n",
    "        }\n",
    "        torch.save(state, filename)\n",
    "        print(\"saved\")\n",
    "        best_val = epoch_loss\n",
    "\n",
    "    #print(\"Validation Loss: \", epoch_loss)"
   ]
  },
  {
   "cell_type": "code",
   "execution_count": 11,
   "metadata": {},
   "outputs": [
    {
     "name": "stdout",
     "output_type": "stream",
     "text": [
      "\n",
      "LENGTH OF TRAIN LOADER DATASET: 205942\n",
      "LENGTH OF TRAIN DATA: 164753 \n",
      "LENGTH OF VAL DATA: 41189\n"
     ]
    },
    {
     "name": "stderr",
     "output_type": "stream",
     "text": [
      "Train Epoch [1/30]: 100%|██████████| 1648/1648 [02:41<00:00, 10.23it/s, avg=0.0188, loss=31]  \n",
      "Val.  Epoch [1/30]: 100%|██████████| 412/412 [00:15<00:00, 26.71it/s, avg=0.0138, loss=5.69]  \n"
     ]
    },
    {
     "name": "stdout",
     "output_type": "stream",
     "text": [
      "saved\n"
     ]
    },
    {
     "name": "stderr",
     "output_type": "stream",
     "text": [
      "Train Epoch [2/30]: 100%|██████████| 1648/1648 [02:42<00:00, 10.13it/s, avg=0.0129, loss=21.2] \n",
      "Val.  Epoch [2/30]: 100%|██████████| 412/412 [00:15<00:00, 26.98it/s, avg=0.0126, loss=5.2]   \n"
     ]
    },
    {
     "name": "stdout",
     "output_type": "stream",
     "text": [
      "saved\n"
     ]
    },
    {
     "name": "stderr",
     "output_type": "stream",
     "text": [
      "Train Epoch [3/30]: 100%|██████████| 1648/1648 [02:42<00:00, 10.15it/s, avg=0.0125, loss=20.6] \n",
      "Val.  Epoch [3/30]: 100%|██████████| 412/412 [00:15<00:00, 26.76it/s, avg=0.0122, loss=5.03]  \n"
     ]
    },
    {
     "name": "stdout",
     "output_type": "stream",
     "text": [
      "saved\n"
     ]
    },
    {
     "name": "stderr",
     "output_type": "stream",
     "text": [
      "Train Epoch [4/30]: 100%|██████████| 1648/1648 [02:43<00:00, 10.10it/s, avg=0.0121, loss=20]   \n",
      "Val.  Epoch [4/30]: 100%|██████████| 412/412 [00:15<00:00, 26.12it/s, avg=0.012, loss=4.95]   \n"
     ]
    },
    {
     "name": "stdout",
     "output_type": "stream",
     "text": [
      "saved\n"
     ]
    },
    {
     "name": "stderr",
     "output_type": "stream",
     "text": [
      "Train Epoch [5/30]: 100%|██████████| 1648/1648 [02:43<00:00, 10.10it/s, avg=0.0117, loss=19.3] \n",
      "Val.  Epoch [5/30]: 100%|██████████| 412/412 [00:15<00:00, 25.89it/s, avg=0.0116, loss=4.79]  \n"
     ]
    },
    {
     "name": "stdout",
     "output_type": "stream",
     "text": [
      "saved\n"
     ]
    },
    {
     "name": "stderr",
     "output_type": "stream",
     "text": [
      "Train Epoch [6/30]: 100%|██████████| 1648/1648 [02:43<00:00, 10.09it/s, avg=0.0114, loss=18.8] \n",
      "Val.  Epoch [6/30]: 100%|██████████| 412/412 [00:16<00:00, 25.48it/s, avg=0.0112, loss=4.62]  \n"
     ]
    },
    {
     "name": "stdout",
     "output_type": "stream",
     "text": [
      "saved\n"
     ]
    },
    {
     "name": "stderr",
     "output_type": "stream",
     "text": [
      "Train Epoch [7/30]: 100%|██████████| 1648/1648 [02:43<00:00, 10.09it/s, avg=0.0112, loss=18.4] \n",
      "Val.  Epoch [7/30]: 100%|██████████| 412/412 [00:15<00:00, 26.10it/s, avg=0.0109, loss=4.47]  \n"
     ]
    },
    {
     "name": "stdout",
     "output_type": "stream",
     "text": [
      "saved\n"
     ]
    },
    {
     "name": "stderr",
     "output_type": "stream",
     "text": [
      "Train Epoch [8/30]: 100%|██████████| 1648/1648 [02:43<00:00, 10.07it/s, avg=0.011, loss=18.2]  \n",
      "Val.  Epoch [8/30]: 100%|██████████| 412/412 [00:15<00:00, 26.06it/s, avg=0.0106, loss=4.37]  \n"
     ]
    },
    {
     "name": "stdout",
     "output_type": "stream",
     "text": [
      "saved\n"
     ]
    },
    {
     "name": "stderr",
     "output_type": "stream",
     "text": [
      "Train Epoch [9/30]: 100%|██████████| 1648/1648 [02:43<00:00, 10.09it/s, avg=0.0109, loss=17.9] \n",
      "Val.  Epoch [9/30]: 100%|██████████| 412/412 [00:15<00:00, 26.72it/s, avg=0.0105, loss=4.33]  \n"
     ]
    },
    {
     "name": "stdout",
     "output_type": "stream",
     "text": [
      "saved\n"
     ]
    },
    {
     "name": "stderr",
     "output_type": "stream",
     "text": [
      "Train Epoch [10/30]: 100%|██████████| 1648/1648 [02:42<00:00, 10.11it/s, avg=0.0108, loss=17.7] \n",
      "Val.  Epoch [10/30]: 100%|██████████| 412/412 [00:16<00:00, 25.60it/s, avg=0.0105, loss=4.33]  \n",
      "Train Epoch [11/30]: 100%|██████████| 1648/1648 [02:43<00:00, 10.08it/s, avg=0.0107, loss=17.6] \n",
      "Val.  Epoch [11/30]: 100%|██████████| 412/412 [00:16<00:00, 25.70it/s, avg=0.0104, loss=4.29]  \n"
     ]
    },
    {
     "name": "stdout",
     "output_type": "stream",
     "text": [
      "saved\n"
     ]
    },
    {
     "name": "stderr",
     "output_type": "stream",
     "text": [
      "Train Epoch [12/30]: 100%|██████████| 1648/1648 [02:43<00:00, 10.08it/s, avg=0.0106, loss=17.4] \n",
      "Val.  Epoch [12/30]: 100%|██████████| 412/412 [00:15<00:00, 26.12it/s, avg=0.0104, loss=4.29]  \n",
      "Train Epoch [13/30]: 100%|██████████| 1648/1648 [02:43<00:00, 10.09it/s, avg=0.0105, loss=17.3] \n",
      "Val.  Epoch [13/30]: 100%|██████████| 412/412 [00:15<00:00, 25.98it/s, avg=0.0103, loss=4.24]  \n"
     ]
    },
    {
     "name": "stdout",
     "output_type": "stream",
     "text": [
      "saved\n"
     ]
    },
    {
     "name": "stderr",
     "output_type": "stream",
     "text": [
      "Train Epoch [14/30]: 100%|██████████| 1648/1648 [02:45<00:00,  9.98it/s, avg=0.0104, loss=17.1] \n",
      "Val.  Epoch [14/30]: 100%|██████████| 412/412 [00:15<00:00, 25.94it/s, avg=0.0106, loss=4.35]  \n",
      "Train Epoch [15/30]: 100%|██████████| 1648/1648 [02:44<00:00, 10.01it/s, avg=0.0104, loss=17.1] \n",
      "Val.  Epoch [15/30]: 100%|██████████| 412/412 [00:16<00:00, 25.53it/s, avg=0.0103, loss=4.24]  \n"
     ]
    },
    {
     "name": "stdout",
     "output_type": "stream",
     "text": [
      "saved\n"
     ]
    },
    {
     "name": "stderr",
     "output_type": "stream",
     "text": [
      "Train Epoch [16/30]: 100%|██████████| 1648/1648 [02:44<00:00, 10.05it/s, avg=0.0103, loss=16.9] \n",
      "Val.  Epoch [16/30]: 100%|██████████| 412/412 [00:16<00:00, 25.62it/s, avg=0.0104, loss=4.29]  \n",
      "Train Epoch [17/30]: 100%|██████████| 1648/1648 [02:45<00:00,  9.98it/s, avg=0.0103, loss=16.9] \n",
      "Val.  Epoch [17/30]: 100%|██████████| 412/412 [00:16<00:00, 25.32it/s, avg=0.0106, loss=4.36]  \n",
      "Train Epoch [18/30]: 100%|██████████| 1648/1648 [02:45<00:00,  9.94it/s, avg=0.0102, loss=16.8] \n",
      "Val.  Epoch [18/30]: 100%|██████████| 412/412 [00:16<00:00, 25.66it/s, avg=0.0105, loss=4.31]  \n",
      "Train Epoch [19/30]: 100%|██████████| 1648/1648 [02:45<00:00,  9.95it/s, avg=0.0101, loss=16.7] \n",
      "Val.  Epoch [19/30]: 100%|██████████| 412/412 [00:17<00:00, 24.02it/s, avg=0.0105, loss=4.34]  \n",
      "Train Epoch [20/30]: 100%|██████████| 1648/1648 [02:48<00:00,  9.79it/s, avg=0.0101, loss=16.7]  \n",
      "Val.  Epoch [20/30]: 100%|██████████| 412/412 [00:17<00:00, 23.47it/s, avg=0.0105, loss=4.31]  \n",
      "Train Epoch [21/30]: 100%|██████████| 1648/1648 [02:48<00:00,  9.76it/s, avg=0.01, loss=16.6]    \n",
      "Val.  Epoch [21/30]: 100%|██████████| 412/412 [00:17<00:00, 23.42it/s, avg=0.0104, loss=4.28]  \n",
      "Train Epoch [22/30]: 100%|██████████| 1648/1648 [02:47<00:00,  9.86it/s, avg=0.01, loss=16.5]    \n",
      "Val.  Epoch [22/30]: 100%|██████████| 412/412 [00:17<00:00, 23.58it/s, avg=0.0103, loss=4.26]  \n",
      "Train Epoch [23/30]: 100%|██████████| 1648/1648 [02:49<00:00,  9.73it/s, avg=0.00998, loss=16.4] \n",
      "Val.  Epoch [23/30]: 100%|██████████| 412/412 [00:18<00:00, 22.79it/s, avg=0.0103, loss=4.23]  \n"
     ]
    },
    {
     "name": "stdout",
     "output_type": "stream",
     "text": [
      "saved\n"
     ]
    },
    {
     "name": "stderr",
     "output_type": "stream",
     "text": [
      "Train Epoch [24/30]: 100%|██████████| 1648/1648 [02:45<00:00,  9.98it/s, avg=0.00994, loss=16.4] \n",
      "Val.  Epoch [24/30]: 100%|██████████| 412/412 [00:16<00:00, 24.69it/s, avg=0.0103, loss=4.25]  \n",
      "Train Epoch [25/30]: 100%|██████████| 1648/1648 [02:45<00:00,  9.98it/s, avg=0.0099, loss=16.3]  \n",
      "Val.  Epoch [25/30]: 100%|██████████| 412/412 [00:17<00:00, 24.13it/s, avg=0.0101, loss=4.17]  \n"
     ]
    },
    {
     "name": "stdout",
     "output_type": "stream",
     "text": [
      "saved\n"
     ]
    },
    {
     "name": "stderr",
     "output_type": "stream",
     "text": [
      "Train Epoch [26/30]: 100%|██████████| 1648/1648 [02:45<00:00,  9.97it/s, avg=0.0099, loss=16.3]  \n",
      "Val.  Epoch [26/30]: 100%|██████████| 412/412 [00:17<00:00, 24.14it/s, avg=0.0103, loss=4.22]  \n",
      "Train Epoch [27/30]: 100%|██████████| 1648/1648 [02:45<00:00,  9.98it/s, avg=0.00986, loss=16.3] \n",
      "Val.  Epoch [27/30]: 100%|██████████| 412/412 [00:17<00:00, 24.05it/s, avg=0.00993, loss=4.09] \n"
     ]
    },
    {
     "name": "stdout",
     "output_type": "stream",
     "text": [
      "saved\n"
     ]
    },
    {
     "name": "stderr",
     "output_type": "stream",
     "text": [
      "Train Epoch [28/30]: 100%|██████████| 1648/1648 [02:45<00:00,  9.98it/s, avg=0.00979, loss=16.1] \n",
      "Val.  Epoch [28/30]: 100%|██████████| 412/412 [00:17<00:00, 24.19it/s, avg=0.0102, loss=4.22]  \n",
      "Train Epoch [29/30]: 100%|██████████| 1648/1648 [02:44<00:00, 10.02it/s, avg=0.00977, loss=16.1] \n",
      "Val.  Epoch [29/30]: 100%|██████████| 412/412 [00:16<00:00, 24.36it/s, avg=0.01, loss=4.13]    \n",
      "Train Epoch [30/30]: 100%|██████████| 1648/1648 [02:45<00:00,  9.95it/s, avg=0.00973, loss=16]   \n",
      "Val.  Epoch [30/30]: 100%|██████████| 412/412 [00:16<00:00, 24.43it/s, avg=0.0101, loss=4.15]  \n"
     ]
    }
   ],
   "source": [
    "'''\n",
    "Big Big\n",
    "/200\n",
    "30 epochs\n",
    "5 Cars\n",
    "'''\n",
    "import time\n",
    "\n",
    "batch_sz = 100\n",
    "train_loader = DataLoader(\n",
    "    train_dataset,\n",
    "    batch_size=batch_sz,\n",
    "    shuffle=False,\n",
    "    collate_fn=my_collate_train_multiple,\n",
    "    num_workers=2,\n",
    ")\n",
    "\n",
    "train_size = int(0.8 * len(train_loader.dataset))\n",
    "val_size = len(train_loader.dataset) - train_size\n",
    "train_data, val_data = torch.utils.data.random_split(\n",
    "    train_loader.dataset, [train_size, val_size]\n",
    ")\n",
    "\n",
    "print(\"\\nLENGTH OF TRAIN LOADER DATASET:\", len(train_loader.dataset))\n",
    "print(\"LENGTH OF TRAIN DATA:\", len(train_data), \"\\nLENGTH OF VAL DATA:\", len(val_data))\n",
    "\n",
    "train_data = DataLoader(\n",
    "    train_data,\n",
    "    batch_size=batch_sz,\n",
    "    shuffle=False,\n",
    "    collate_fn=my_collate_train_multiple,\n",
    "    num_workers=2,\n",
    ")\n",
    "val_data = DataLoader(\n",
    "    val_data,\n",
    "    batch_size=batch_sz,\n",
    "    shuffle=False,\n",
    "    collate_fn=my_collate_train_multiple,\n",
    "    num_workers=2,\n",
    ")\n",
    "model = BigBigTrajectory().to(device)\n",
    "\n",
    "my_optim = torch.optim.Adam(model.parameters(), lr=0.001)\n",
    "\n",
    "# decayRate = 0.999\n",
    "# my_lr_scheduler = torch.optim.lr_scheduler.ExponentialLR(optimizer=my_optim, gamma=decayRate)\n",
    "\n",
    "epoch = 30  # takes around 20 epochs to converge\n",
    "number = 5  # number of cars in each\n",
    "\n",
    "best_val = 100\n",
    "\n",
    "for i in range(epoch):\n",
    "\n",
    "    model.train()\n",
    "    epoch_loss = 0\n",
    "    start = time.time()\n",
    "\n",
    "    train_loop = tqdm(enumerate(train_data), total=len(train_data))\n",
    "\n",
    "    for i_batch, sample_batch in train_loop:\n",
    "\n",
    "        inp, out = sample_batch\n",
    "        batch = inp.shape[1]\n",
    "\n",
    "        p_in, orig = zeroNormTor(inp[0].reshape(batch * number, 19, 2).to(device))\n",
    "        v_in = inp[1].reshape(batch * number, 19, 2).to(device) / 85.0\n",
    "        p_out, _ = zeroNormTor(\n",
    "            out[0].reshape(batch * number, 30, 2).to(device), 30, orig\n",
    "        )\n",
    "        v_out = out[1].reshape(batch * number, 30, 2).to(device) / 85.0\n",
    "\n",
    "        pred = model(p_in, v_in)\n",
    "\n",
    "        loss = 0\n",
    "        p_criteria = nn.MSELoss()\n",
    "        p_loss = torch.sqrt(p_criteria(pred[0], p_out))\n",
    "\n",
    "        v_criteria = nn.MSELoss()\n",
    "        v_loss = torch.sqrt(v_criteria(pred[1], v_out))\n",
    "\n",
    "        loss = p_loss + v_loss\n",
    "        epoch_loss += p_loss.item()\n",
    "        \n",
    "        avg_train_loss = epoch_loss / len(train_data)\n",
    "\n",
    "        my_optim.zero_grad()\n",
    "        loss.backward()\n",
    "        my_optim.step()\n",
    "\n",
    "        train_loop.set_description(f\"Train Epoch [{i + 1}/{epoch}]\")\n",
    "        train_loop.set_postfix(loss = epoch_loss, avg = avg_train_loss)        \n",
    "    \n",
    "    train_bb.append(avg_train_loss) # append final average train loss\n",
    "    \n",
    "    model.eval()\n",
    "    epoch_loss = 0\n",
    "    val_loop = tqdm(enumerate(val_data), total=len(val_data))\n",
    "    for i_batch, sample_batch in val_loop:\n",
    "        inp, out = sample_batch\n",
    "        batch = inp.shape[1]\n",
    "\n",
    "        p_in, orig = zeroNormTor(inp[0].reshape(batch * number, 19, 2).to(device))\n",
    "        v_in = inp[1].reshape(batch * number, 19, 2).to(device) / 85.0\n",
    "        p_out, _ = zeroNormTor(\n",
    "            out[0].reshape(batch * number, 30, 2).to(device), 30, orig\n",
    "        )\n",
    "        v_out = out[1].reshape(batch * number, 30, 2).to(device) / 85.0\n",
    "\n",
    "        pred = model(p_in, v_in)\n",
    "\n",
    "        loss = 0\n",
    "        p_criteria = nn.MSELoss()\n",
    "        p_loss = torch.sqrt(p_criteria(pred[0], p_out))\n",
    "\n",
    "        epoch_loss += p_loss.item()\n",
    "        \n",
    "        avg_val_loss = epoch_loss / len(val_data)\n",
    "\n",
    "        val_loop.set_description(f\"Val.  Epoch [{i + 1}/{epoch}]\")\n",
    "        val_loop.set_postfix(loss = epoch_loss, avg = avg_val_loss)\n",
    "    \n",
    "    val_bb.append(avg_val_loss) # append final average val loss\n",
    "    \n",
    "    if epoch_loss < best_val:\n",
    "        filename = \"bigbig_best.pth\"\n",
    "        state = {\n",
    "            \"epoch\": i,\n",
    "            \"state_dict\": model.state_dict(),\n",
    "            \"optimizer\": my_optim.state_dict(),\n",
    "        }\n",
    "        torch.save(state, filename)\n",
    "        print(\"saved\")\n",
    "        best_val = epoch_loss\n",
    "\n",
    "    #print(\"Validation Loss: \", epoch_loss)"
   ]
  },
  {
   "cell_type": "markdown",
   "metadata": {},
   "source": [
    "## Plot Loss"
   ]
  },
  {
   "cell_type": "code",
   "execution_count": 8,
   "metadata": {},
   "outputs": [
    {
     "name": "stdout",
     "output_type": "stream",
     "text": [
      "\n",
      "LENGTH OF TRAIN LOADER DATASET: 205942\n",
      "LENGTH OF TRAIN DATA: 164753 \n",
      "LENGTH OF VAL DATA: 41189\n"
     ]
    }
   ],
   "source": [
    "import time\n",
    "\n",
    "batch_sz = 100\n",
    "train_loader = DataLoader(\n",
    "    train_dataset,\n",
    "    batch_size=batch_sz,\n",
    "    shuffle=False,\n",
    "    collate_fn=my_collate_train_multiple,\n",
    "    num_workers=2,\n",
    ")\n",
    "\n",
    "train_size = int(0.8 * len(train_loader.dataset))\n",
    "val_size = len(train_loader.dataset) - train_size\n",
    "train_data, val_data = torch.utils.data.random_split(\n",
    "    train_loader.dataset, [train_size, val_size]\n",
    ")\n",
    "\n",
    "print(\"\\nLENGTH OF TRAIN LOADER DATASET:\", len(train_loader.dataset))\n",
    "print(\"LENGTH OF TRAIN DATA:\", len(train_data), \"\\nLENGTH OF VAL DATA:\", len(val_data))\n",
    "\n",
    "train_data = DataLoader(\n",
    "    train_data,\n",
    "    batch_size=batch_sz,\n",
    "    shuffle=False,\n",
    "    collate_fn=my_collate_train_multiple,\n",
    "    num_workers=2,\n",
    ")\n",
    "val_data = DataLoader(\n",
    "    val_data,\n",
    "    batch_size=batch_sz,\n",
    "    shuffle=False,\n",
    "    collate_fn=my_collate_train_multiple,\n",
    "    num_workers=2,\n",
    ")"
   ]
  },
  {
   "cell_type": "code",
   "execution_count": 12,
   "metadata": {
    "scrolled": true
   },
   "outputs": [
    {
     "name": "stdout",
     "output_type": "stream",
     "text": [
      "TRAIN LOSS NAIVE 30 [0.015373918052663285, 0.012220410816032368, 0.012000309824446234, 0.011855116103848136, 0.011625063584131885, 0.01142849055745015, 0.01125458529438299, 0.011096466230386778, 0.010951404134263692, 0.010802775460919276, 0.01071603899568464, 0.010607296639931325, 0.01052298178349269, 0.010484482787574361, 0.01041393085310543, 0.010374460278928858, 0.010338353678907349, 0.010276025249588854, 0.010267758212737215, 0.010176308295131182, 0.010177694170654398, 0.010116986239790121, 0.010106840679530524, 0.0100671103949211, 0.01003839615822851, 0.01002235687196535, 0.009987942366386103, 0.009945384100716995, 0.00992209400904808, 0.00990798351359418]\n",
      "\n",
      "VAL LOSS NAIVE 30 [0.01261246476991518, 0.011710675530479227, 0.011733323993450664, 0.012622812896225494, 0.012565072754723499, 0.012009203580922438, 0.011501824410939679, 0.010864177947068244, 0.010686571106260407, 0.010592731450530656, 0.010517110687553954, 0.010361334584761881, 0.01046209665268515, 0.010384751443109177, 0.010313006090814049, 0.010291367261760949, 0.010274575724836114, 0.010224325706712107, 0.010251186337114032, 0.010121094614484356, 0.01002968491724177, 0.010038614800896097, 0.01004366532705037, 0.010002625039190922, 0.009935726405989415, 0.010045960214377824, 0.009941645031026338, 0.010011587418543482, 0.009992731337263746, 0.009914880589066633]\n",
      "\n",
      "\n",
      "TRAIN LOSS BIGGER 30 [0.017718024286260667, 0.012617214424060929, 0.012293298569399393, 0.01194016418919347, 0.011534356906019984, 0.011231895409596777, 0.011027629864718584, 0.01086274591032687, 0.010742909070985952, 0.01063139231715044, 0.010523812624103688, 0.01044065093122043, 0.010369559064749357, 0.01029757659224504, 0.010212657674785379, 0.010151745924145182, 0.010123392046842887, 0.010057864544825013, 0.01000594130934225, 0.009968536480124227, 0.009937342399566262, 0.009918250415917233, 0.009885387104377603, 0.009829581962125286, 0.009811409489981812, 0.009780818836094395, 0.009753710934745365, 0.009700169963411788, 0.009692989106660763, 0.00964278884704487]\n",
      "\n",
      "VAL LOSS BIGGER 30 [0.012744291827932578, 0.013062892820758438, 0.012507586344371288, 0.012110741757019197, 0.012024342270061663, 0.011658092094946977, 0.01139084931499171, 0.010941928835784636, 0.011056976250454206, 0.01079203476632032, 0.010894135128959868, 0.010923184063376008, 0.0111147478760844, 0.011352348916720852, 0.011387447236575981, 0.011341899732869226, 0.011331009219662801, 0.011115991451678056, 0.010999508984206081, 0.011017216093729711, 0.011037667912602859, 0.010792750239064827, 0.010812249441531677, 0.01087344094921012, 0.01070162068455688, 0.010755464014172265, 0.010819457880519693, 0.010755307224208435, 0.010305665930715, 0.010442079715114268]\n",
      "\n",
      "\n",
      "TRAIN LOSS BIG BIG 30 [0.018807242814908077, 0.012866401836361953, 0.01251333638137315, 0.012136213747599135, 0.011719395726968906, 0.011389518927475348, 0.01117798334577582, 0.011014746016601228, 0.010875197882183095, 0.010769009011180494, 0.010671237945608631, 0.010557484529060267, 0.010481213853531743, 0.010405559538076948, 0.010387249362996318, 0.010283976517791761, 0.01027381171198851, 0.01018176222637124, 0.010122369194416853, 0.01010807121971631, 0.01004718047299974, 0.010016356523655066, 0.009977084931519642, 0.009943500531043911, 0.009898670338991649, 0.00989656034095249, 0.009862947724171851, 0.009794979359620043, 0.009770098012630167, 0.009727078759522874]\n",
      "\n",
      "VAL LOSS BIG BIG 30 [0.01380992822746918, 0.012622247881807604, 0.012216939098084146, 0.012006484378961105, 0.011616600044433352, 0.011220808789694628, 0.010850692137361513, 0.010596169926253266, 0.010502229654908326, 0.010512248255782624, 0.010403970522055566, 0.010411770662826314, 0.010300763994590968, 0.010559741231314475, 0.010285679007952726, 0.010417908335158836, 0.010575097153704721, 0.010454741080553786, 0.01052193198402783, 0.010454273132779138, 0.010393699151870696, 0.01034040016221624, 0.010261072256168333, 0.01030727990708558, 0.010114472645371067, 0.010251119554277908, 0.009932659046489347, 0.010236186382261295, 0.010016105562737845, 0.01007812023411496]\n"
     ]
    }
   ],
   "source": [
    "'''\n",
    "Display RMSE and Loss values\n",
    "'''\n",
    "\n",
    "train_naive = [0.015373918052663285, 0.012220410816032368, 0.012000309824446234, 0.011855116103848136, 0.011625063584131885, 0.01142849055745015, 0.01125458529438299, 0.011096466230386778, 0.010951404134263692, 0.010802775460919276, 0.01071603899568464, 0.010607296639931325, 0.01052298178349269, 0.010484482787574361, 0.01041393085310543, 0.010374460278928858, 0.010338353678907349, 0.010276025249588854, 0.010267758212737215, 0.010176308295131182, 0.010177694170654398, 0.010116986239790121, 0.010106840679530524, 0.0100671103949211, 0.01003839615822851, 0.01002235687196535, 0.009987942366386103, 0.009945384100716995, 0.00992209400904808, 0.00990798351359418]\n",
    "\n",
    "val_naive = [0.01261246476991518, 0.011710675530479227, 0.011733323993450664, 0.012622812896225494, 0.012565072754723499, 0.012009203580922438, 0.011501824410939679, 0.010864177947068244, 0.010686571106260407, 0.010592731450530656, 0.010517110687553954, 0.010361334584761881, 0.01046209665268515, 0.010384751443109177, 0.010313006090814049, 0.010291367261760949, 0.010274575724836114, 0.010224325706712107, 0.010251186337114032, 0.010121094614484356, 0.01002968491724177, 0.010038614800896097, 0.01004366532705037, 0.010002625039190922, 0.009935726405989415, 0.010045960214377824, 0.009941645031026338, 0.010011587418543482, 0.009992731337263746, 0.009914880589066633]\n",
    "\n",
    "print(\"TRAIN LOSS NAIVE\", len(train_naive), train_naive)\n",
    "print()\n",
    "print(\"VAL LOSS NAIVE\", len(val_naive), val_naive)\n",
    "\n",
    "print()\n",
    "print()\n",
    "\n",
    "train_bigger = [0.017718024286260667, 0.012617214424060929, 0.012293298569399393, 0.01194016418919347, 0.011534356906019984, 0.011231895409596777, 0.011027629864718584, 0.01086274591032687, 0.010742909070985952, 0.01063139231715044, 0.010523812624103688, 0.01044065093122043, 0.010369559064749357, 0.01029757659224504, 0.010212657674785379, 0.010151745924145182, 0.010123392046842887, 0.010057864544825013, 0.01000594130934225, 0.009968536480124227, 0.009937342399566262, 0.009918250415917233, 0.009885387104377603, 0.009829581962125286, 0.009811409489981812, 0.009780818836094395, 0.009753710934745365, 0.009700169963411788, 0.009692989106660763, 0.00964278884704487]\n",
    "\n",
    "val_bigger = [0.012744291827932578, 0.013062892820758438, 0.012507586344371288, 0.012110741757019197, 0.012024342270061663, 0.011658092094946977, 0.01139084931499171, 0.010941928835784636, 0.011056976250454206, 0.01079203476632032, 0.010894135128959868, 0.010923184063376008, 0.0111147478760844, 0.011352348916720852, 0.011387447236575981, 0.011341899732869226, 0.011331009219662801, 0.011115991451678056, 0.010999508984206081, 0.011017216093729711, 0.011037667912602859, 0.010792750239064827, 0.010812249441531677, 0.01087344094921012, 0.01070162068455688, 0.010755464014172265, 0.010819457880519693, 0.010755307224208435, 0.010305665930715, 0.010442079715114268]\n",
    "\n",
    "print(\"TRAIN LOSS BIGGER\", len(train_bigger), train_bigger)\n",
    "print()\n",
    "print(\"VAL LOSS BIGGER\", len(val_bigger), val_bigger)\n",
    "\n",
    "print()\n",
    "print()\n",
    "\n",
    "train_bb = [0.018807242814908077, 0.012866401836361953, 0.01251333638137315, 0.012136213747599135, 0.011719395726968906, 0.011389518927475348, 0.01117798334577582, 0.011014746016601228, 0.010875197882183095, 0.010769009011180494, 0.010671237945608631, 0.010557484529060267, 0.010481213853531743, 0.010405559538076948, 0.010387249362996318, 0.010283976517791761, 0.01027381171198851, 0.01018176222637124, 0.010122369194416853, 0.01010807121971631, 0.01004718047299974, 0.010016356523655066, 0.009977084931519642, 0.009943500531043911, 0.009898670338991649, 0.00989656034095249, 0.009862947724171851, 0.009794979359620043, 0.009770098012630167, 0.009727078759522874]\n",
    "\n",
    "val_bb = [0.01380992822746918, 0.012622247881807604, 0.012216939098084146, 0.012006484378961105, 0.011616600044433352, 0.011220808789694628, 0.010850692137361513, 0.010596169926253266, 0.010502229654908326, 0.010512248255782624, 0.010403970522055566, 0.010411770662826314, 0.010300763994590968, 0.010559741231314475, 0.010285679007952726, 0.010417908335158836, 0.010575097153704721, 0.010454741080553786, 0.01052193198402783, 0.010454273132779138, 0.010393699151870696, 0.01034040016221624, 0.010261072256168333, 0.01030727990708558, 0.010114472645371067, 0.010251119554277908, 0.009932659046489347, 0.010236186382261295, 0.010016105562737845, 0.01007812023411496]\n",
    "\n",
    "print(\"TRAIN LOSS BIG BIG\", len(train_bb), train_bb)\n",
    "print()\n",
    "print(\"VAL LOSS BIG BIG\", len(val_bb), val_bb)"
   ]
  },
  {
   "cell_type": "code",
   "execution_count": 12,
   "metadata": {
    "scrolled": true
   },
   "outputs": [
    {
     "name": "stdout",
     "output_type": "stream",
     "text": [
      "TRAIN LOSS NAIVE 30 [0.015373918052663285, 0.012220410816032368, 0.012000309824446234, 0.011855116103848136, 0.011625063584131885, 0.01142849055745015, 0.01125458529438299, 0.011096466230386778, 0.010951404134263692, 0.010802775460919276, 0.01071603899568464, 0.010607296639931325, 0.01052298178349269, 0.010484482787574361, 0.01041393085310543, 0.010374460278928858, 0.010338353678907349, 0.010276025249588854, 0.010267758212737215, 0.010176308295131182, 0.010177694170654398, 0.010116986239790121, 0.010106840679530524, 0.0100671103949211, 0.01003839615822851, 0.01002235687196535, 0.009987942366386103, 0.009945384100716995, 0.00992209400904808, 0.00990798351359418]\n",
      "\n",
      "VAL LOSS NAIVE 30 [0.01261246476991518, 0.011710675530479227, 0.011733323993450664, 0.012622812896225494, 0.012565072754723499, 0.012009203580922438, 0.011501824410939679, 0.010864177947068244, 0.010686571106260407, 0.010592731450530656, 0.010517110687553954, 0.010361334584761881, 0.01046209665268515, 0.010384751443109177, 0.010313006090814049, 0.010291367261760949, 0.010274575724836114, 0.010224325706712107, 0.010251186337114032, 0.010121094614484356, 0.01002968491724177, 0.010038614800896097, 0.01004366532705037, 0.010002625039190922, 0.009935726405989415, 0.010045960214377824, 0.009941645031026338, 0.010011587418543482, 0.009992731337263746, 0.009914880589066633]\n",
      "\n",
      "\n",
      "TRAIN LOSS BIGGER 30 [0.017718024286260667, 0.012617214424060929, 0.012293298569399393, 0.01194016418919347, 0.011534356906019984, 0.011231895409596777, 0.011027629864718584, 0.01086274591032687, 0.010742909070985952, 0.01063139231715044, 0.010523812624103688, 0.01044065093122043, 0.010369559064749357, 0.01029757659224504, 0.010212657674785379, 0.010151745924145182, 0.010123392046842887, 0.010057864544825013, 0.01000594130934225, 0.009968536480124227, 0.009937342399566262, 0.009918250415917233, 0.009885387104377603, 0.009829581962125286, 0.009811409489981812, 0.009780818836094395, 0.009753710934745365, 0.009700169963411788, 0.009692989106660763, 0.00964278884704487]\n",
      "\n",
      "VAL LOSS BIGGER 30 [0.012744291827932578, 0.013062892820758438, 0.012507586344371288, 0.012110741757019197, 0.012024342270061663, 0.011658092094946977, 0.01139084931499171, 0.010941928835784636, 0.011056976250454206, 0.01079203476632032, 0.010894135128959868, 0.010923184063376008, 0.0111147478760844, 0.011352348916720852, 0.011387447236575981, 0.011341899732869226, 0.011331009219662801, 0.011115991451678056, 0.010999508984206081, 0.011017216093729711, 0.011037667912602859, 0.010792750239064827, 0.010812249441531677, 0.01087344094921012, 0.01070162068455688, 0.010755464014172265, 0.010819457880519693, 0.010755307224208435, 0.010305665930715, 0.010442079715114268]\n",
      "\n",
      "\n",
      "TRAIN LOSS BIG BIG 30 [0.018807242814908077, 0.012866401836361953, 0.01251333638137315, 0.012136213747599135, 0.011719395726968906, 0.011389518927475348, 0.01117798334577582, 0.011014746016601228, 0.010875197882183095, 0.010769009011180494, 0.010671237945608631, 0.010557484529060267, 0.010481213853531743, 0.010405559538076948, 0.010387249362996318, 0.010283976517791761, 0.01027381171198851, 0.01018176222637124, 0.010122369194416853, 0.01010807121971631, 0.01004718047299974, 0.010016356523655066, 0.009977084931519642, 0.009943500531043911, 0.009898670338991649, 0.00989656034095249, 0.009862947724171851, 0.009794979359620043, 0.009770098012630167, 0.009727078759522874]\n",
      "\n",
      "VAL LOSS BIG BIG 30 [0.01380992822746918, 0.012622247881807604, 0.012216939098084146, 0.012006484378961105, 0.011616600044433352, 0.011220808789694628, 0.010850692137361513, 0.010596169926253266, 0.010502229654908326, 0.010512248255782624, 0.010403970522055566, 0.010411770662826314, 0.010300763994590968, 0.010559741231314475, 0.010285679007952726, 0.010417908335158836, 0.010575097153704721, 0.010454741080553786, 0.01052193198402783, 0.010454273132779138, 0.010393699151870696, 0.01034040016221624, 0.010261072256168333, 0.01030727990708558, 0.010114472645371067, 0.010251119554277908, 0.009932659046489347, 0.010236186382261295, 0.010016105562737845, 0.01007812023411496]\n"
     ]
    }
   ],
   "source": [
    "'''\n",
    "Display RMSE and Loss values\n",
    "'''\n",
    "\n",
    "train_naive = [0.015373918052663285, 0.012220410816032368, 0.012000309824446234, 0.011855116103848136, 0.011625063584131885, 0.01142849055745015, 0.01125458529438299, 0.011096466230386778, 0.010951404134263692, 0.010802775460919276, 0.01071603899568464, 0.010607296639931325, 0.01052298178349269, 0.010484482787574361, 0.01041393085310543, 0.010374460278928858, 0.010338353678907349, 0.010276025249588854, 0.010267758212737215, 0.010176308295131182, 0.010177694170654398, 0.010116986239790121, 0.010106840679530524, 0.0100671103949211, 0.01003839615822851, 0.01002235687196535, 0.009987942366386103, 0.009945384100716995, 0.00992209400904808, 0.00990798351359418]\n",
    "\n",
    "val_naive = [0.01261246476991518, 0.011710675530479227, 0.011733323993450664, 0.012622812896225494, 0.012565072754723499, 0.012009203580922438, 0.011501824410939679, 0.010864177947068244, 0.010686571106260407, 0.010592731450530656, 0.010517110687553954, 0.010361334584761881, 0.01046209665268515, 0.010384751443109177, 0.010313006090814049, 0.010291367261760949, 0.010274575724836114, 0.010224325706712107, 0.010251186337114032, 0.010121094614484356, 0.01002968491724177, 0.010038614800896097, 0.01004366532705037, 0.010002625039190922, 0.009935726405989415, 0.010045960214377824, 0.009941645031026338, 0.010011587418543482, 0.009992731337263746, 0.009914880589066633]\n",
    "\n",
    "print(\"TRAIN LOSS NAIVE\", len(train_naive), train_naive)\n",
    "print()\n",
    "print(\"VAL LOSS NAIVE\", len(val_naive), val_naive)\n",
    "\n",
    "print()\n",
    "print()\n",
    "\n",
    "train_bigger = [0.017718024286260667, 0.012617214424060929, 0.012293298569399393, 0.01194016418919347, 0.011534356906019984, 0.011231895409596777, 0.011027629864718584, 0.01086274591032687, 0.010742909070985952, 0.01063139231715044, 0.010523812624103688, 0.01044065093122043, 0.010369559064749357, 0.01029757659224504, 0.010212657674785379, 0.010151745924145182, 0.010123392046842887, 0.010057864544825013, 0.01000594130934225, 0.009968536480124227, 0.009937342399566262, 0.009918250415917233, 0.009885387104377603, 0.009829581962125286, 0.009811409489981812, 0.009780818836094395, 0.009753710934745365, 0.009700169963411788, 0.009692989106660763, 0.00964278884704487]\n",
    "\n",
    "val_bigger = [0.012744291827932578, 0.013062892820758438, 0.012507586344371288, 0.012110741757019197, 0.012024342270061663, 0.011658092094946977, 0.01139084931499171, 0.010941928835784636, 0.011056976250454206, 0.01079203476632032, 0.010894135128959868, 0.010923184063376008, 0.0111147478760844, 0.011352348916720852, 0.011387447236575981, 0.011341899732869226, 0.011331009219662801, 0.011115991451678056, 0.010999508984206081, 0.011017216093729711, 0.011037667912602859, 0.010792750239064827, 0.010812249441531677, 0.01087344094921012, 0.01070162068455688, 0.010755464014172265, 0.010819457880519693, 0.010755307224208435, 0.010305665930715, 0.010442079715114268]\n",
    "\n",
    "print(\"TRAIN LOSS BIGGER\", len(train_bigger), train_bigger)\n",
    "print()\n",
    "print(\"VAL LOSS BIGGER\", len(val_bigger), val_bigger)\n",
    "\n",
    "print()\n",
    "print()\n",
    "\n",
    "train_bb = [0.018807242814908077, 0.012866401836361953, 0.01251333638137315, 0.012136213747599135, 0.011719395726968906, 0.011389518927475348, 0.01117798334577582, 0.011014746016601228, 0.010875197882183095, 0.010769009011180494, 0.010671237945608631, 0.010557484529060267, 0.010481213853531743, 0.010405559538076948, 0.010387249362996318, 0.010283976517791761, 0.01027381171198851, 0.01018176222637124, 0.010122369194416853, 0.01010807121971631, 0.01004718047299974, 0.010016356523655066, 0.009977084931519642, 0.009943500531043911, 0.009898670338991649, 0.00989656034095249, 0.009862947724171851, 0.009794979359620043, 0.009770098012630167, 0.009727078759522874]\n",
    "\n",
    "val_bb = [0.01380992822746918, 0.012622247881807604, 0.012216939098084146, 0.012006484378961105, 0.011616600044433352, 0.011220808789694628, 0.010850692137361513, 0.010596169926253266, 0.010502229654908326, 0.010512248255782624, 0.010403970522055566, 0.010411770662826314, 0.010300763994590968, 0.010559741231314475, 0.010285679007952726, 0.010417908335158836, 0.010575097153704721, 0.010454741080553786, 0.01052193198402783, 0.010454273132779138, 0.010393699151870696, 0.01034040016221624, 0.010261072256168333, 0.01030727990708558, 0.010114472645371067, 0.010251119554277908, 0.009932659046489347, 0.010236186382261295, 0.010016105562737845, 0.01007812023411496]\n",
    "\n",
    "print(\"TRAIN LOSS BIG BIG\", len(train_bb), train_bb)\n",
    "print()\n",
    "print(\"VAL LOSS BIG BIG\", len(val_bb), val_bb)"
   ]
  },
  {
   "cell_type": "code",
   "execution_count": 13,
   "metadata": {},
   "outputs": [],
   "source": [
    "'''\n",
    "Plots\n",
    "'''\n",
    "\n",
    "train_naive = np.array(train_naive)\n",
    "val_naive = np.array(val_naive)\n",
    "\n",
    "train_bigger = np.array(train_bigger)\n",
    "val_bigger = np.array(val_bigger)\n",
    "\n",
    "train_bb = np.array(train_bb)\n",
    "val_bb = np.array(val_bb)"
   ]
  },
  {
   "cell_type": "code",
   "execution_count": 14,
   "metadata": {},
   "outputs": [],
   "source": [
    "import matplotlib.pyplot as plt\n",
    "import pandas as pd"
   ]
  },
  {
   "cell_type": "code",
   "execution_count": 15,
   "metadata": {},
   "outputs": [
    {
     "name": "stdout",
     "output_type": "stream",
     "text": [
      "(30,)\n",
      "(30,)\n",
      "(30,)\n",
      "(30,)\n"
     ]
    }
   ],
   "source": [
    "train_loss_bigger_initial19 = np.genfromtxt(\"train_loss_bigger_initial19.csv\", delimiter=\",\") / len(train_data)\n",
    "val_loss_bigger_initial19 = np.genfromtxt(\"val_loss_bigger_initial19.csv\", delimiter=\",\") / len(val_data)\n",
    "train_loss_small_initial19 = np.genfromtxt(\"train_loss_small_initial19.csv\", delimiter=\",\") / len(train_data)\n",
    "val_loss_small_initial19 = np.genfromtxt(\"val_loss_small_initial19.csv\", delimiter=\",\") / len(val_data)\n",
    "\n",
    "#train_loss_bigger_initial19 = train_loss_bigger_initial19.to_numpy()\n",
    "#val_loss_bigger_initial19 = val_loss_bigger_initial19.to_numpy()\n",
    "#train_loss_small_initial19 = train_loss_small_initial19.to_numpy()\n",
    "#val_loss_small_initial19 = val_loss_small_initial19.to_numpy()\n",
    "\n",
    "print(train_loss_bigger_initial19.shape)\n",
    "print(val_loss_bigger_initial19.shape)\n",
    "print(train_loss_small_initial19.shape)\n",
    "print(val_loss_small_initial19.shape)"
   ]
  },
  {
   "cell_type": "code",
   "execution_count": 16,
   "metadata": {},
   "outputs": [
    {
     "data": {
      "text/plain": [
       "array([ 1,  2,  3,  4,  5,  6,  7,  8,  9, 10, 11, 12, 13, 14, 15, 16, 17,\n",
       "       18, 19, 20, 21, 22, 23, 24, 25, 26, 27, 28, 29, 30])"
      ]
     },
     "execution_count": 16,
     "metadata": {},
     "output_type": "execute_result"
    }
   ],
   "source": [
    "epochs = np.arange(1,31)\n",
    "epochs"
   ]
  },
  {
   "cell_type": "code",
   "execution_count": 17,
   "metadata": {},
   "outputs": [
    {
     "data": {
      "text/plain": [
       "array([0.01261246, 0.01171068, 0.01173332, 0.01262281, 0.01256507,\n",
       "       0.0120092 , 0.01150182, 0.01086418, 0.01068657, 0.01059273,\n",
       "       0.01051711, 0.01036133, 0.0104621 , 0.01038475, 0.01031301,\n",
       "       0.01029137, 0.01027458, 0.01022433, 0.01025119, 0.01012109,\n",
       "       0.01002968, 0.01003861, 0.01004367, 0.01000263, 0.00993573,\n",
       "       0.01004596, 0.00994165, 0.01001159, 0.00999273, 0.00991488])"
      ]
     },
     "execution_count": 17,
     "metadata": {},
     "output_type": "execute_result"
    }
   ],
   "source": [
    "val_naive"
   ]
  },
  {
   "cell_type": "code",
   "execution_count": 18,
   "metadata": {},
   "outputs": [
    {
     "data": {
      "image/png": "[encoded data removed]",
      "text/plain": [
       "<Figure size 432x288 with 1 Axes>"
      ]
     },
     "metadata": {
      "needs_background": "light"
     },
     "output_type": "display_data"
    }
   ],
   "source": [
    "plt.plot(epochs, train_naive, color=\"red\")\n",
    "plt.plot(epochs, val_naive, color=\"blue\")\n",
    "plt.title(\"Naive Model Loss [for 30 epochs]\")\n",
    "plt.legend([\"Train Loss\", \"Val Loss\"])\n",
    "plt.show()"
   ]
  },
  {
   "cell_type": "code",
   "execution_count": 19,
   "metadata": {},
   "outputs": [
    {
     "data": {
      "image/png": "[encoded data removed]",
      "text/plain": [
       "<Figure size 432x288 with 1 Axes>"
      ]
     },
     "metadata": {
      "needs_background": "light"
     },
     "output_type": "display_data"
    }
   ],
   "source": [
    "plt.plot(epochs, train_bigger, color=\"red\")\n",
    "plt.plot(epochs, val_bigger, color=\"blue\")\n",
    "plt.title(\"Bigger Model Loss [for 30 iterations]\")\n",
    "plt.legend([\"Train Loss\", \"Val Loss\"])\n",
    "plt.show()"
   ]
  },
  {
   "cell_type": "code",
   "execution_count": 20,
   "metadata": {},
   "outputs": [
    {
     "data": {
      "image/png": "[encoded data removed]",
      "text/plain": [
       "<Figure size 432x288 with 1 Axes>"
      ]
     },
     "metadata": {
      "needs_background": "light"
     },
     "output_type": "display_data"
    }
   ],
   "source": [
    "plt.plot(epochs, train_bb, color=\"red\")\n",
    "plt.plot(epochs, val_bb, color=\"blue\")\n",
    "plt.title(\"Big Big Model Loss [for 30 epochs]\")\n",
    "plt.legend([\"Train Loss\", \"Val Loss\"])\n",
    "plt.show()"
   ]
  },
  {
   "cell_type": "code",
   "execution_count": 22,
   "metadata": {
    "scrolled": false
   },
   "outputs": [
    {
     "data": {
      "image/png": "[encoded data removed]",
      "text/plain": [
       "<Figure size 432x288 with 1 Axes>"
      ]
     },
     "metadata": {
      "needs_background": "light"
     },
     "output_type": "display_data"
    }
   ],
   "source": [
    "plt.plot(epochs, train_loss_bigger_initial19, color=\"red\")\n",
    "plt.plot(epochs, val_loss_bigger_initial19, color=\"blue\")\n",
    "plt.title(\"Initial 19 Bigger Model Loss [for 30 epochs]\")\n",
    "plt.legend([\"Train Loss\", \"Val Loss\"])\n",
    "plt.show()"
   ]
  },
  {
   "cell_type": "code",
   "execution_count": 23,
   "metadata": {},
   "outputs": [
    {
     "data": {
      "image/png": "[encoded data removed]",
      "text/plain": [
       "<Figure size 432x288 with 1 Axes>"
      ]
     },
     "metadata": {
      "needs_background": "light"
     },
     "output_type": "display_data"
    }
   ],
   "source": [
    "plt.plot(epochs, train_loss_small_initial19, color=\"red\")\n",
    "plt.plot(epochs, val_loss_small_initial19, color=\"blue\")\n",
    "plt.title(\"Initial 19 Small Model Loss [for 30 epochs]\")\n",
    "plt.legend([\"Train Loss\", \"Val Loss\"])\n",
    "plt.show()"
   ]
  },
  {
   "cell_type": "code",
   "execution_count": 24,
   "metadata": {},
   "outputs": [
    {
     "data": {
      "image/png": "[encoded data removed]",
      "text/plain": [
       "<Figure size 432x288 with 1 Axes>"
      ]
     },
     "metadata": {
      "needs_background": "light"
     },
     "output_type": "display_data"
    }
   ],
   "source": [
    "plt.plot(epochs, val_naive, color=\"red\")\n",
    "plt.plot(epochs, val_bigger, color=\"blue\")\n",
    "plt.plot(epochs, val_bb, color=\"black\")\n",
    "plt.plot(epochs, val_loss_bigger_initial19, color=\"purple\")\n",
    "plt.plot(epochs, val_loss_small_initial19, color=\"green\")\n",
    "plt.title(\"Validation Loss across 5 Models [for 30 epochs]\")\n",
    "plt.legend([\"Naive\", \"Bigger\", \"Big Big\", \"Bigger 19\", \"Small 19\"])\n",
    "plt.show()"
   ]
  },
  {
   "cell_type": "code",
   "execution_count": 25,
   "metadata": {},
   "outputs": [
    {
     "data": {
      "image/png": "[encoded data removed]",
      "text/plain": [
       "<Figure size 432x288 with 1 Axes>"
      ]
     },
     "metadata": {
      "needs_background": "light"
     },
     "output_type": "display_data"
    }
   ],
   "source": [
    "plt.plot(epochs, train_naive, color=\"red\")\n",
    "plt.plot(epochs, train_bigger, color=\"blue\")\n",
    "plt.plot(epochs, train_bb, color=\"black\")\n",
    "plt.plot(epochs, train_loss_bigger_initial19 / len(train_data), color=\"purple\")\n",
    "plt.plot(epochs, train_loss_small_initial19 / len(train_data), color=\"green\")\n",
    "plt.title(\"Training Loss across 5 Models [for 30 epochs]\")\n",
    "plt.legend([\"Naive\", \"Bigger\", \"Big Big\", \"Bigger 19\", \"Small 19\"])\n",
    "plt.show()"
   ]
  },
  {
   "cell_type": "code",
   "execution_count": 26,
   "metadata": {},
   "outputs": [],
   "source": [
    "np.savetxt(\"train_naive.csv\", train_naive, delimiter=\",\")\n",
    "np.savetxt(\"train_bigger.csv\", train_bigger, delimiter=\",\")\n",
    "np.savetxt(\"train_bigbig.csv\", train_bb, delimiter=\",\")\n",
    "\n",
    "np.savetxt(\"val_naive.csv\", val_naive, delimiter=\",\")\n",
    "np.savetxt(\"val_bigger.csv\", val_bigger, delimiter=\",\")\n",
    "np.savetxt(\"val_bigbig.csv\", val_bb, delimiter=\",\")"
   ]
  },
  {
   "cell_type": "code",
   "execution_count": null,
   "metadata": {
    "id": "QjNAZOPL9cx2",
    "scrolled": true
   },
   "outputs": [],
   "source": [
    "# train on multiple cars per\n",
    "import time\n",
    "\n",
    "batch_sz = 100\n",
    "train_data = DataLoader(\n",
    "    train_dataset,\n",
    "    batch_size=batch_sz,\n",
    "    shuffle=False,\n",
    "    collate_fn=my_collate_train_multiple,\n",
    "    num_workers=2,\n",
    ")\n",
    "\n",
    "print(\"\\nLENGTH OF TRAIN LOADER DATASET:\", len(train_data.dataset))\n",
    "\n",
    "model = Trajectory().to(device)\n",
    "\n",
    "my_optim = torch.optim.Adam(model.parameters(), lr=0.001)\n",
    "\n",
    "# decayRate = 0.999\n",
    "# my_lr_scheduler = torch.optim.lr_scheduler.ExponentialLR(optimizer=my_optim, gamma=decayRate)\n",
    "\n",
    "epoch = 30  # takes around 20 epochs to converge\n",
    "number = 5  # number of cars in each\n",
    "\n",
    "for i in range(epoch):\n",
    "\n",
    "    model.train()\n",
    "    epoch_loss = 0\n",
    "    start = time.time()\n",
    "\n",
    "    train_loop = tqdm(enumerate(train_data), total=len(train_data))\n",
    "\n",
    "    for i_batch, sample_batch in train_loop:\n",
    "\n",
    "        inp, out = sample_batch\n",
    "        batch = inp.shape[1]\n",
    "\n",
    "        p_in, orig = zeroNormTor(inp[0].reshape(batch * number, 19, 2).to(device))\n",
    "        v_in = inp[1].reshape(batch * number, 19, 2).to(device) / 85.0\n",
    "        p_out, _ = zeroNormTor(\n",
    "            out[0].reshape(batch * number, 30, 2).to(device), 30, orig\n",
    "        )\n",
    "        v_out = out[1].reshape(batch * number, 30, 2).to(device) / 85.0\n",
    "\n",
    "        pred = model(p_in, v_in)\n",
    "\n",
    "        loss = 0\n",
    "        p_criteria = nn.MSELoss()\n",
    "        p_loss = torch.sqrt(p_criteria(pred[0], p_out))\n",
    "\n",
    "        v_criteria = nn.MSELoss()\n",
    "        v_loss = torch.sqrt(v_criteria(pred[1], v_out))\n",
    "\n",
    "        loss = p_loss + v_loss\n",
    "        epoch_loss += p_loss.item()\n",
    "\n",
    "        my_optim.zero_grad()\n",
    "        loss.backward()\n",
    "        my_optim.step()\n",
    "\n",
    "        train_loop.set_description(f\"Train Epoch [{i + 1}/{epoch}]\")\n",
    "        train_loop.set_postfix(loss = epoch_loss)\n",
    "\n",
    "    \n",
    "    filename = \"best.pth\"\n",
    "    state = {\n",
    "        \"epoch\": i,\n",
    "        \"state_dict\": model.state_dict(),\n",
    "        \"optimizer\": my_optim.state_dict(),\n",
    "    }\n",
    "    torch.save(state, filename)\n",
    "    print(\"saved\")"
   ]
  },
  {
   "cell_type": "code",
   "execution_count": null,
   "metadata": {
    "scrolled": false
   },
   "outputs": [],
   "source": [
    "'''\n",
    "Bigger Bigger Net\n",
    "/200\n",
    "30 epochs\n",
    "'''\n",
    "\n",
    "# train on multiple cars per\n",
    "import time\n",
    "\n",
    "batch_sz = 100\n",
    "train_data = DataLoader(\n",
    "    train_dataset,\n",
    "    batch_size=batch_sz,\n",
    "    shuffle=False,\n",
    "    collate_fn=my_collate_train_multiple,\n",
    "    num_workers=2,\n",
    ")\n",
    "\n",
    "print(\"\\nLENGTH OF TRAIN LOADER DATASET:\", len(train_data.dataset))\n",
    "\n",
    "model = Trajectory().to(device)\n",
    "\n",
    "my_optim = torch.optim.Adam(model.parameters(), lr=0.001)\n",
    "\n",
    "# decayRate = 0.999\n",
    "# my_lr_scheduler = torch.optim.lr_scheduler.ExponentialLR(optimizer=my_optim, gamma=decayRate)\n",
    "\n",
    "epoch = 30  # takes around 20 epochs to converge\n",
    "number = 5  # number of cars in each\n",
    "\n",
    "for i in range(epoch):\n",
    "\n",
    "    model.train()\n",
    "    epoch_loss = 0\n",
    "    start = time.time()\n",
    "\n",
    "    train_loop = tqdm(enumerate(train_data), total=len(train_data))\n",
    "\n",
    "    for i_batch, sample_batch in train_loop:\n",
    "\n",
    "        inp, out = sample_batch\n",
    "        batch = inp.shape[1]\n",
    "\n",
    "        p_in, orig = zeroNormTor(inp[0].reshape(batch * number, 19, 2).to(device))\n",
    "        v_in = inp[1].reshape(batch * number, 19, 2).to(device) / 85.0\n",
    "        p_out, _ = zeroNormTor(\n",
    "            out[0].reshape(batch * number, 30, 2).to(device), 30, orig\n",
    "        )\n",
    "        v_out = out[1].reshape(batch * number, 30, 2).to(device) / 85.0\n",
    "\n",
    "        pred = model(p_in, v_in)\n",
    "\n",
    "        loss = 0\n",
    "        p_criteria = nn.MSELoss()\n",
    "        p_loss = torch.sqrt(p_criteria(pred[0], p_out))\n",
    "\n",
    "        v_criteria = nn.MSELoss()\n",
    "        v_loss = torch.sqrt(v_criteria(pred[1], v_out))\n",
    "\n",
    "        loss = p_loss + v_loss\n",
    "        epoch_loss += p_loss.item()\n",
    "\n",
    "        my_optim.zero_grad()\n",
    "        loss.backward()\n",
    "        my_optim.step()\n",
    "\n",
    "        train_loop.set_description(f\"Train Epoch [{i + 1}/{epoch}]\")\n",
    "        train_loop.set_postfix(loss = epoch_loss)\n",
    "\n",
    "    \n",
    "    filename = \"best-bb.pth\"\n",
    "    state = {\n",
    "        \"epoch\": i,\n",
    "        \"state_dict\": model.state_dict(),\n",
    "        \"optimizer\": my_optim.state_dict(),\n",
    "    }\n",
    "    torch.save(state, filename)\n",
    "    print(\"saved\")"
   ]
  },
  {
   "cell_type": "code",
   "execution_count": null,
   "metadata": {
    "colab": {
     "base_uri": "https://localhost:8080/"
    },
    "id": "-uQ2Y3O0ELNN",
    "outputId": "1361d0f1-0251-47b7-e2ea-3baf07a6cfc3"
   },
   "outputs": [],
   "source": [
    "model.eval()\n",
    "load = True \n",
    "optimizer = torch.optim.Adam(model.parameters(), lr=1e-4)\n",
    "initial = 0\n",
    "\n",
    "model.eval()\n",
    "\n",
    "if(load):\n",
    "  checkpoint = torch.load('best.pth')\n",
    "  model.load_state_dict(checkpoint['state_dict'])\n",
    "  optimizer.load_state_dict(checkpoint['optimizer'])\n",
    "  print(\"=> loaded checkpoint '{}' (epoch {})\".format(filename, checkpoint['epoch']))\n",
    "  initial += int(checkpoint['epoch'])\n",
    "\n",
    "batch_sz = 100\n",
    "train_loader = DataLoader(train_dataset,batch_size=batch_sz, shuffle = False, collate_fn=my_collate_train_multiple, num_workers=2)\n",
    "\n",
    "epoch_loss =0\n",
    "batch = 60\n",
    "number = 5\n",
    "\n",
    "for i_batch, sample_batch in enumerate(train_loader):\n",
    "  inp, out = sample_batch\n",
    "  batch = inp.shape[1]\n",
    "\n",
    "  p_in = (inp[0].reshape(batch*number,19,2).to(device))/4800.\n",
    "  v_in = (inp[1].reshape(batch*number,19,2).to(device)+85.)/170.\n",
    "  p_out = (out[0].reshape(batch*number,30,2).to(device))/4800.\n",
    "  v_out = (out[1].reshape(batch*number,30,2).to(device)+85.)/170.\n",
    "\n",
    "  pred = model(p_in, v_in)\n",
    "  loss = 0\n",
    "  p_criteria = nn.MSELoss()\n",
    "  p_loss = torch.sqrt(p_criteria(pred[0], p_out))\n",
    "\n",
    "  epoch_loss += p_loss.item()\n",
    "  print(pred[0][10]*4800., p_out[10]*4800.)\n",
    "  break\n",
    "  \n",
    "print(\"Validation Loss: \", epoch_loss)"
   ]
  },
  {
   "cell_type": "code",
   "execution_count": null,
   "metadata": {
    "colab": {
     "base_uri": "https://localhost:8080/"
    },
    "id": "QhL6nFx1q3bm",
    "outputId": "f465a863-9665-4984-9d88-51355d8168fe"
   },
   "outputs": [],
   "source": [
    "import csv\n",
    "\n",
    "load = True\n",
    "optimizer = torch.optim.Adam(model.parameters(), lr=1e-4)\n",
    "initial = 0\n",
    "\n",
    "model.eval()\n",
    "\n",
    "if load:\n",
    "    checkpoint = torch.load(\"best.pth\")\n",
    "    model.load_state_dict(checkpoint[\"state_dict\"])\n",
    "    optimizer.load_state_dict(checkpoint[\"optimizer\"])\n",
    "    print(\"=> loaded checkpoint '{}' (epoch {})\".format(filename, checkpoint[\"epoch\"]))\n",
    "    initial += int(checkpoint[\"epoch\"])\n",
    "\n",
    "\n",
    "temp = []\n",
    "\n",
    "new_path = \"data/new_val_in/\"\n",
    "val_dataset = ArgoverseDataset(data_path=new_path)\n",
    "\n",
    "top = []\n",
    "top.append(\"ID\")\n",
    "for i in range(60):\n",
    "    top.append(\"v\" + str(i + 1))\n",
    "temp.append(top)\n",
    "\n",
    "batch = 60\n",
    "number = 1\n",
    "\n",
    "with torch.no_grad():\n",
    "    for i in val_dataset:\n",
    "        row = []\n",
    "        scene = i[\"scene_idx\"]\n",
    "        agent = i[\"agent_id\"]\n",
    "        target = 0\n",
    "        for x in range(len(i[\"track_id\"])):\n",
    "            if i[\"track_id\"][x][0] == agent:\n",
    "                target = x\n",
    "\n",
    "        p_in = torch.LongTensor(i[\"p_in\"])\n",
    "        v_in = torch.LongTensor(i[\"v_in\"])\n",
    "\n",
    "        p_in, orig = zeroNormTor(p_in.reshape(batch * number, 19, 2).to(device))\n",
    "        v_in = (v_in.reshape(batch * number, 19, 2).to(device)) / 85.\n",
    "\n",
    "        pred = model(p_in, v_in)\n",
    "        \n",
    "        t = torch.unsqueeze(orig, 1)\n",
    "        t = torch.repeat_interleave(t, 30, 1)\n",
    "        \n",
    "\n",
    "        pred_out = (pred[0] * 200) + t\n",
    "\n",
    "        output = pred_out[target]\n",
    "\n",
    "        row.append(scene)\n",
    "        row = row + torch.flatten(output).cpu().detach().numpy().tolist()\n",
    "        temp.append(row)\n",
    "\n",
    "with open(\"submission22-bigger-200-30.csv\", \"w\", newline=\"\") as file:\n",
    "    writer = csv.writer(file)\n",
    "    writer.writerows(temp)"
   ]
  },
  {
   "cell_type": "code",
   "execution_count": null,
   "metadata": {},
   "outputs": [],
   "source": []
  }
 ],
 "metadata": {
  "accelerator": "GPU",
  "colab": {
   "collapsed_sections": [],
   "machine_shape": "hm",
   "name": "151B_Kaggle_Comp",
   "provenance": []
  },
  "kernelspec": {
   "display_name": "Python 3",
   "language": "python",
   "name": "python3"
  },
  "language_info": {
   "codemirror_mode": {
    "name": "ipython",
    "version": 3
   },
   "file_extension": ".py",
   "mimetype": "text/x-python",
   "name": "python",
   "nbconvert_exporter": "python",
   "pygments_lexer": "ipython3",
   "version": "3.8.8"
  }
 },
 "nbformat": 4,
 "nbformat_minor": 1
}
