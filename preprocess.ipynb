{
 "cells": [
  {
   "cell_type": "markdown",
   "id": "832a7335",
   "metadata": {},
   "source": [
    "# Preprocessing for Argoverse Data"
   ]
  },
  {
   "cell_type": "code",
   "execution_count": 1,
   "id": "0b135080",
   "metadata": {},
   "outputs": [],
   "source": [
    "import torch\n",
    "from torch.utils.data import Dataset, DataLoader\n",
    "import os, os.path \n",
    "import numpy as np\n",
    "import pickle\n",
    "from glob import glob\n",
    "import pandas as pd\n",
    "import matplotlib.pyplot as plt\n",
    "\n",
    "train_path = \"data/new_train\"\n",
    "val_path = \"data/new_val_in\""
   ]
  },
  {
   "cell_type": "markdown",
   "id": "5296cb03",
   "metadata": {},
   "source": [
    "Sampled at 10 Hz rate\n",
    "- Train: 205,942 sequences\n",
    "- Val: 3200 sequences\n",
    "- Test: 36272 sequences"
   ]
  },
  {
   "cell_type": "code",
   "execution_count": 2,
   "id": "091b3319",
   "metadata": {},
   "outputs": [],
   "source": [
    "class ArgoverseDataset(Dataset):\n",
    "    '''Dataset class for Argoverse'''\n",
    "    def __init__(self, data_path: str, transform=None):\n",
    "        super(ArgoverseDataset, self).__init__()\n",
    "        self.data_path = data_path\n",
    "        self.transform = transform\n",
    "        self.pkl_list = glob(os.path.join(self.data_path, '*'))\n",
    "        self.pkl_list.sort()\n",
    "\n",
    "    def __len__(self):\n",
    "        return len(self.pkl_list)\n",
    "    \n",
    "    def __getitem__(self, idx):\n",
    "        pkl_path = self.pkl_list[idx]\n",
    "        \n",
    "        with open(pkl_path, \"rb\") as file:\n",
    "            data = pickle.load(file)\n",
    "        \n",
    "        if self.transform:\n",
    "            data = self.transform(data)\n",
    "        \n",
    "        return data"
   ]
  },
  {
   "cell_type": "code",
   "execution_count": 3,
   "id": "66142053",
   "metadata": {},
   "outputs": [],
   "source": [
    "# initialize datasets\n",
    "train_data = ArgoverseDataset(train_path)\n",
    "val_data = ArgoverseDataset(val_path)"
   ]
  },
  {
   "cell_type": "code",
   "execution_count": 4,
   "id": "f16ec81c",
   "metadata": {},
   "outputs": [
    {
     "name": "stdout",
     "output_type": "stream",
     "text": [
      "TRAIN DATA SEQUENCES: 205942\n",
      "VAL DATA SEQUENCES: 3200\n"
     ]
    }
   ],
   "source": [
    "print(\"TRAIN DATA SEQUENCES:\", train_data.__len__())\n",
    "print(\"VAL DATA SEQUENCES:\", val_data.__len__())"
   ]
  },
  {
   "cell_type": "code",
   "execution_count": 5,
   "id": "cf578a32",
   "metadata": {},
   "outputs": [
    {
     "name": "stdout",
     "output_type": "stream",
     "text": [
      "city <class 'str'>\n",
      "lane <class 'numpy.ndarray'>\n",
      "lane_norm <class 'numpy.ndarray'>\n",
      "scene_idx <class 'int'>\n",
      "agent_id <class 'str'>\n",
      "car_mask <class 'numpy.ndarray'>\n",
      "p_in <class 'numpy.ndarray'>\n",
      "v_in <class 'numpy.ndarray'>\n",
      "p_out <class 'numpy.ndarray'>\n",
      "v_out <class 'numpy.ndarray'>\n",
      "track_id <class 'numpy.ndarray'>\n"
     ]
    }
   ],
   "source": [
    "for key, value in train_data.__getitem__(0).items():\n",
    "    print(key, type(value))"
   ]
  },
  {
   "cell_type": "code",
   "execution_count": 6,
   "id": "88e7e82a",
   "metadata": {},
   "outputs": [
    {
     "name": "stdout",
     "output_type": "stream",
     "text": [
      "p_in (60, 19, 2)\n",
      "v_in (60, 19, 2)\n",
      "p_out (60, 30, 2)\n",
      "v_out (60, 30, 2)\n"
     ]
    }
   ],
   "source": [
    "# Display keys and values for a pickled object\n",
    "\n",
    "for key, value in train_data.__getitem__(0).items():\n",
    "    if key == \"p_in\" or key == \"v_in\" or key == \"p_out\" or key == \"v_out\":\n",
    "        print(key, value.shape)"
   ]
  },
  {
   "cell_type": "code",
   "execution_count": 7,
   "id": "8f878b83",
   "metadata": {},
   "outputs": [
    {
     "name": "stdout",
     "output_type": "stream",
     "text": [
      "p_in (60, 19, 2)\n",
      "[3277.29638672 1947.62585449]\n"
     ]
    }
   ],
   "source": [
    "for key, value in train_data.__getitem__(0).items():\n",
    "    if key == \"p_in\":\n",
    "        print(key, value.shape)\n",
    "        print(value[0][18]) # 60 (19, 2) tuples"
   ]
  },
  {
   "cell_type": "code",
   "execution_count": 8,
   "id": "f683e84c",
   "metadata": {},
   "outputs": [],
   "source": [
    "from tqdm import tqdm"
   ]
  },
  {
   "cell_type": "markdown",
   "id": "b28dd1e9",
   "metadata": {},
   "source": [
    "# Create Distribution"
   ]
  },
  {
   "cell_type": "code",
   "execution_count": 10,
   "id": "4d7556c2",
   "metadata": {},
   "outputs": [
    {
     "name": "stderr",
     "output_type": "stream",
     "text": [
      "100%|██████████| 3200/3200 [04:16<00:00, 12.48it/s]\n"
     ]
    },
    {
     "data": {
      "image/png": "[encoded data removed]",
      "text/plain": [
       "<Figure size 432x288 with 1 Axes>"
      ]
     },
     "metadata": {
      "needs_background": "light"
     },
     "output_type": "display_data"
    }
   ],
   "source": [
    "p_in_x = np.empty([0])\n",
    "for d in tqdm(range(3200)):\n",
    "    for key, value in train_data.__getitem__(d).items():\n",
    "        if key == \"p_in\":\n",
    "            for i in range(60):\n",
    "                if value[i].all() != 0:\n",
    "                    for j in range(19):\n",
    "                        p_in_x = np.append(p_in_x, value[i][j][0])\n",
    "\n",
    "fig = plt.hist(p_in_x, bins=10)"
   ]
  },
  {
   "cell_type": "code",
   "execution_count": 11,
   "id": "505acb9b",
   "metadata": {},
   "outputs": [
    {
     "name": "stderr",
     "output_type": "stream",
     "text": [
      "100%|██████████| 3200/3200 [01:46<00:00, 30.00it/s]\n"
     ]
    },
    {
     "data": {
      "image/png": "[encoded data removed]",
      "text/plain": [
       "<Figure size 432x288 with 1 Axes>"
      ]
     },
     "metadata": {
      "needs_background": "light"
     },
     "output_type": "display_data"
    }
   ],
   "source": [
    "p_in_y = np.empty([0])\n",
    "for d in tqdm(range(3200)):\n",
    "    for key, value in train_data.__getitem__(d).items():\n",
    "        if key == \"p_in\":\n",
    "            for i in range(60):\n",
    "                if value[i].all() != 0:\n",
    "                    for j in range(19):\n",
    "                        p_in_y = np.append(p_in_y, value[i][j][1])\n",
    "                    \n",
    "fig = plt.hist(p_in_y, bins=10)"
   ]
  },
  {
   "cell_type": "code",
   "execution_count": 14,
   "id": "eac4c068",
   "metadata": {},
   "outputs": [
    {
     "name": "stderr",
     "output_type": "stream",
     "text": [
      "100%|██████████| 3200/3200 [01:15<00:00, 42.13it/s]\n"
     ]
    },
    {
     "data": {
      "image/png": "[encoded data removed]",
      "text/plain": [
       "<Figure size 432x288 with 1 Axes>"
      ]
     },
     "metadata": {
      "needs_background": "light"
     },
     "output_type": "display_data"
    }
   ],
   "source": [
    "v_in_x = np.empty([0])\n",
    "for d in tqdm(range(3200)):\n",
    "    for key, value in train_data.__getitem__(d).items():\n",
    "        if key == \"v_in\":\n",
    "            for i in range(60):\n",
    "                if value[i].all() != 0:\n",
    "                    for j in range(19):\n",
    "                        v_in_x = np.append(v_in_x, value[i][j][0])"
   ]
  },
  {
   "cell_type": "code",
   "execution_count": 28,
   "id": "47a72fd9",
   "metadata": {},
   "outputs": [
    {
     "data": {
      "image/png": "[encoded data removed]",
      "text/plain": [
       "<Figure size 432x288 with 1 Axes>"
      ]
     },
     "metadata": {
      "needs_background": "light"
     },
     "output_type": "display_data"
    }
   ],
   "source": [
    "fig = plt.hist(v_in_x, bins=50)"
   ]
  },
  {
   "cell_type": "code",
   "execution_count": 15,
   "id": "cce0b7c9",
   "metadata": {},
   "outputs": [
    {
     "name": "stderr",
     "output_type": "stream",
     "text": [
      "100%|██████████| 3200/3200 [01:14<00:00, 42.93it/s]\n"
     ]
    },
    {
     "data": {
      "image/png": "[encoded data removed]",
      "text/plain": [
       "<Figure size 432x288 with 1 Axes>"
      ]
     },
     "metadata": {
      "needs_background": "light"
     },
     "output_type": "display_data"
    }
   ],
   "source": [
    "v_in_y = np.empty([0])\n",
    "for d in tqdm(range(3200)):\n",
    "    for key, value in train_data.__getitem__(d).items():\n",
    "        if key == \"v_in\":\n",
    "            for i in range(60):\n",
    "                if value[i].all() != 0:\n",
    "                    for j in range(19):\n",
    "                        v_in_y = np.append(v_in_y, value[i][j][1])"
   ]
  },
  {
   "cell_type": "code",
   "execution_count": 26,
   "id": "3e7c0bb5",
   "metadata": {},
   "outputs": [
    {
     "data": {
      "image/png": "[encoded data removed]",
      "text/plain": [
       "<Figure size 432x288 with 1 Axes>"
      ]
     },
     "metadata": {
      "needs_background": "light"
     },
     "output_type": "display_data"
    }
   ],
   "source": [
    "fig = plt.hist(v_in_y, bins=50)"
   ]
  },
  {
   "cell_type": "code",
   "execution_count": 29,
   "id": "8392c2cb",
   "metadata": {},
   "outputs": [
    {
     "name": "stderr",
     "output_type": "stream",
     "text": [
      "100%|██████████| 3200/3200 [06:56<00:00,  7.68it/s]\n"
     ]
    },
    {
     "data": {
      "image/png": "[encoded data removed]",
      "text/plain": [
       "<Figure size 432x288 with 1 Axes>"
      ]
     },
     "metadata": {
      "needs_background": "light"
     },
     "output_type": "display_data"
    }
   ],
   "source": [
    "p_out_x = np.empty([0])\n",
    "for d in tqdm(range(3200)):\n",
    "    for key, value in train_data.__getitem__(d).items():\n",
    "        if key == \"p_out\":\n",
    "            for i in range(60):\n",
    "                if value[i].all() != 0:\n",
    "                    for j in range(30):\n",
    "                        p_out_x = np.append(p_out_x, value[i][j][0])\n",
    "\n",
    "fig = plt.hist(p_out_x, bins=10)"
   ]
  },
  {
   "cell_type": "code",
   "execution_count": 30,
   "id": "9a91c365",
   "metadata": {},
   "outputs": [
    {
     "name": "stderr",
     "output_type": "stream",
     "text": [
      "100%|██████████| 3200/3200 [04:07<00:00, 12.95it/s]\n"
     ]
    },
    {
     "data": {
      "image/png": "[encoded data removed]",
      "text/plain": [
       "<Figure size 432x288 with 1 Axes>"
      ]
     },
     "metadata": {
      "needs_background": "light"
     },
     "output_type": "display_data"
    }
   ],
   "source": [
    "p_out_y = np.empty([0])\n",
    "for d in tqdm(range(3200)):\n",
    "    for key, value in train_data.__getitem__(d).items():\n",
    "        if key == \"p_out\":\n",
    "            for i in range(60):\n",
    "                if value[i].all() != 0:\n",
    "                    for j in range(30):\n",
    "                        p_out_y = np.append(p_out_y, value[i][j][1])\n",
    "\n",
    "fig = plt.hist(p_out_y, bins=10)"
   ]
  },
  {
   "cell_type": "code",
   "execution_count": 31,
   "id": "ceb7fc66",
   "metadata": {},
   "outputs": [
    {
     "name": "stderr",
     "output_type": "stream",
     "text": [
      "100%|██████████| 3200/3200 [02:41<00:00, 19.84it/s]\n"
     ]
    },
    {
     "data": {
      "image/png": "[encoded data removed]",
      "text/plain": [
       "<Figure size 432x288 with 1 Axes>"
      ]
     },
     "metadata": {
      "needs_background": "light"
     },
     "output_type": "display_data"
    }
   ],
   "source": [
    "v_out_x = np.empty([0])\n",
    "for d in tqdm(range(3200)):\n",
    "    for key, value in train_data.__getitem__(d).items():\n",
    "        if key == \"v_out\":\n",
    "            for i in range(60):\n",
    "                if value[i].all() != 0:\n",
    "                    for j in range(30):\n",
    "                        v_out_x = np.append(v_out_x, value[i][j][0])"
   ]
  },
  {
   "cell_type": "code",
   "execution_count": 34,
   "id": "fe84b9b9",
   "metadata": {},
   "outputs": [
    {
     "data": {
      "image/png": "[encoded data removed]",
      "text/plain": [
       "<Figure size 432x288 with 1 Axes>"
      ]
     },
     "metadata": {
      "needs_background": "light"
     },
     "output_type": "display_data"
    }
   ],
   "source": [
    "fig = plt.hist(v_out_x, bins=50)"
   ]
  },
  {
   "cell_type": "code",
   "execution_count": 32,
   "id": "213f0c52",
   "metadata": {},
   "outputs": [
    {
     "name": "stderr",
     "output_type": "stream",
     "text": [
      "100%|██████████| 3200/3200 [02:48<00:00, 19.04it/s]\n"
     ]
    },
    {
     "data": {
      "image/png": "[encoded data removed]",
      "text/plain": [
       "<Figure size 432x288 with 1 Axes>"
      ]
     },
     "metadata": {
      "needs_background": "light"
     },
     "output_type": "display_data"
    }
   ],
   "source": [
    "v_out_y = np.empty([0])\n",
    "for d in tqdm(range(3200)):\n",
    "    for key, value in train_data.__getitem__(d).items():\n",
    "        if key == \"v_out\":\n",
    "            for i in range(60):\n",
    "                if value[i].all() != 0:\n",
    "                    for j in range(30):\n",
    "                        v_out_y = np.append(v_out_y, value[i][j][1])\n",
    "\n",
    "fig = plt.hist(v_out_y, bins=50)"
   ]
  },
  {
   "cell_type": "code",
   "execution_count": 35,
   "id": "39af9217",
   "metadata": {},
   "outputs": [
    {
     "data": {
      "image/png": "[encoded data removed]",
      "text/plain": [
       "<Figure size 432x288 with 1 Axes>"
      ]
     },
     "metadata": {
      "needs_background": "light"
     },
     "output_type": "display_data"
    }
   ],
   "source": [
    "fig = plt.hist(v_out_y, bins=50)"
   ]
  },
  {
   "cell_type": "code",
   "execution_count": 36,
   "id": "4e0f8c95",
   "metadata": {},
   "outputs": [
    {
     "ename": "ValueError",
     "evalue": "operands could not be broadcast together with shapes (531221,) (838770,) ",
     "output_type": "error",
     "traceback": [
      "\u001b[0;31m---------------------------------------------------------------------------\u001b[0m",
      "\u001b[0;31mValueError\u001b[0m                                Traceback (most recent call last)",
      "\u001b[0;32m<ipython-input-36-1559d5677180>\u001b[0m in \u001b[0;36m<module>\u001b[0;34m\u001b[0m\n\u001b[0;32m----> 1\u001b[0;31m \u001b[0mdistance\u001b[0m \u001b[0;34m=\u001b[0m \u001b[0mnp\u001b[0m\u001b[0;34m.\u001b[0m\u001b[0mlinalg\u001b[0m\u001b[0;34m.\u001b[0m\u001b[0mnorm\u001b[0m\u001b[0;34m(\u001b[0m\u001b[0mp_in_x\u001b[0m \u001b[0;34m-\u001b[0m \u001b[0mp_out_x\u001b[0m\u001b[0;34m)\u001b[0m\u001b[0;34m\u001b[0m\u001b[0;34m\u001b[0m\u001b[0m\n\u001b[0m\u001b[1;32m      2\u001b[0m \u001b[0mprint\u001b[0m\u001b[0;34m(\u001b[0m\u001b[0mdistance\u001b[0m\u001b[0;34m)\u001b[0m\u001b[0;34m\u001b[0m\u001b[0;34m\u001b[0m\u001b[0m\n",
      "\u001b[0;31mValueError\u001b[0m: operands could not be broadcast together with shapes (531221,) (838770,) "
     ]
    }
   ],
   "source": [
    "distance = np.linalg.norm(p_in_x - p_out_x)\n",
    "print(distance)"
   ]
  },
  {
   "cell_type": "code",
   "execution_count": null,
   "id": "74cb0a97",
   "metadata": {},
   "outputs": [],
   "source": []
  }
 ],
 "metadata": {
  "kernelspec": {
   "display_name": "Python 3",
   "language": "python",
   "name": "python3"
  },
  "language_info": {
   "codemirror_mode": {
    "name": "ipython",
    "version": 3
   },
   "file_extension": ".py",
   "mimetype": "text/x-python",
   "name": "python",
   "nbconvert_exporter": "python",
   "pygments_lexer": "ipython3",
   "version": "3.8.8"
  }
 },
 "nbformat": 4,
 "nbformat_minor": 5
}
