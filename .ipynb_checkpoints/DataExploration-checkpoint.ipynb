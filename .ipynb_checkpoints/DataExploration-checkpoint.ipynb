{
 "cells": [
  {
   "cell_type": "markdown",
   "id": "832a7335",
   "metadata": {},
   "source": [
    "# Preprocessing for Argoverse Data"
   ]
  },
  {
   "cell_type": "code",
   "execution_count": 3,
   "id": "0b135080",
   "metadata": {},
   "outputs": [],
   "source": [
    "import torch\n",
    "from torch.utils.data import Dataset, DataLoader\n",
    "import os, os.path \n",
    "import numpy as np\n",
    "import pickle\n",
    "from glob import glob\n",
    "import pandas as pd\n",
    "import matplotlib.pyplot as plt"
   ]
  },
  {
   "cell_type": "markdown",
   "id": "5296cb03",
   "metadata": {},
   "source": [
    "Sampled at 10 Hz rate\n",
    "- Train: 205,942 sequences\n",
    "- Val: 3200 sequences\n",
    "- Test: 36272 sequences"
   ]
  },
  {
   "cell_type": "code",
   "execution_count": 4,
   "id": "091b3319",
   "metadata": {},
   "outputs": [],
   "source": [
    "class ArgoverseDataset(Dataset):\n",
    "    '''Dataset class for Argoverse'''\n",
    "    def __init__(self, data_path: str, transform=None):\n",
    "        super(ArgoverseDataset, self).__init__()\n",
    "        self.data_path = data_path\n",
    "        self.transform = transform\n",
    "        self.pkl_list = glob(os.path.join(self.data_path, '*'))\n",
    "        self.pkl_list.sort()\n",
    "\n",
    "    def __len__(self):\n",
    "        return len(self.pkl_list)\n",
    "    \n",
    "    def __getitem__(self, idx):\n",
    "        pkl_path = self.pkl_list[idx]\n",
    "        \n",
    "        with open(pkl_path, \"rb\") as file:\n",
    "            data = pickle.load(file)\n",
    "        \n",
    "        if self.transform:\n",
    "            data = self.transform(data)\n",
    "        \n",
    "        return data"
   ]
  },
  {
   "cell_type": "code",
   "execution_count": 5,
   "id": "66142053",
   "metadata": {},
   "outputs": [],
   "source": [
    "# initialize datasets\n",
    "train_data = ArgoverseDataset(\"data/new_train\")\n",
    "val_data = ArgoverseDataset(\"data/new_val_in\")"
   ]
  },
  {
   "cell_type": "code",
   "execution_count": 6,
   "id": "f16ec81c",
   "metadata": {},
   "outputs": [
    {
     "name": "stdout",
     "output_type": "stream",
     "text": [
      "TRAIN DATA SEQUENCES: 205942\n",
      "VAL DATA SEQUENCES: 3200\n"
     ]
    }
   ],
   "source": [
    "print(\"TRAIN DATA SEQUENCES:\", train_data.__len__())\n",
    "print(\"VAL DATA SEQUENCES:\", val_data.__len__())"
   ]
  },
  {
   "cell_type": "code",
   "execution_count": null,
   "id": "cf578a32",
   "metadata": {},
   "outputs": [],
   "source": [
    "for key, value in train_data.__getitem__(0).items():\n",
    "    print(key, type(value))"
   ]
  },
  {
   "cell_type": "code",
   "execution_count": null,
   "id": "88e7e82a",
   "metadata": {},
   "outputs": [],
   "source": [
    "# Display keys and values for a pickled object\n",
    "\n",
    "for key, value in train_data.__getitem__(0).items():\n",
    "    if key == \"p_in\" or key == \"v_in\" or key == \"p_out\" or key == \"v_out\":\n",
    "        print(key, value.shape)"
   ]
  },
  {
   "cell_type": "code",
   "execution_count": null,
   "id": "8f878b83",
   "metadata": {},
   "outputs": [],
   "source": [
    "for key, value in train_data.__getitem__(0).items():\n",
    "    if key == \"p_in\":\n",
    "        for i in np.nditer(value):\n",
    "            print(i)"
   ]
  },
  {
   "cell_type": "code",
   "execution_count": null,
   "id": "7c7f6e01",
   "metadata": {},
   "outputs": [],
   "source": [
    "from tqdm import tqdm"
   ]
  },
  {
   "cell_type": "markdown",
   "id": "c7d1d4a2",
   "metadata": {},
   "source": [
    "# Create Distribution"
   ]
  },
  {
   "cell_type": "code",
   "execution_count": null,
   "id": "fecf3691",
   "metadata": {},
   "outputs": [],
   "source": [
    "p_in_x = np.empty([0])\n",
    "for d in tqdm(range(3200)):\n",
    "    for key, value in train_data.__getitem__(d).items():\n",
    "        if key == \"p_in\":\n",
    "            for i in np.nditer(value):\n",
    "                if value[i].all() != 0:\n",
    "                    p_in_x = np.append(p_in_x, value[i][j][0])\n",
    "\n",
    "fig = plt.hist(p_in_x, bins=10)"
   ]
  },
  {
   "cell_type": "code",
   "execution_count": null,
   "id": "49ad8d36",
   "metadata": {},
   "outputs": [],
   "source": [
    "p_in_y = np.empty([0])\n",
    "for d in tqdm(range(3200)):\n",
    "    for key, value in train_data.__getitem__(d).items():\n",
    "        if key == \"p_in\":\n",
    "            for i in range(60):\n",
    "                if value[i].all() != 0:\n",
    "                    for j in range(19):\n",
    "                        p_in_y = np.append(p_in_y, value[i][j][1])\n",
    "                    \n",
    "fig = plt.hist(p_in_y, bins=10)"
   ]
  },
  {
   "cell_type": "code",
   "execution_count": null,
   "id": "4bee2fe2",
   "metadata": {},
   "outputs": [],
   "source": [
    "v_in_x = np.empty([0])\n",
    "for d in tqdm(range(3200)):\n",
    "    for key, value in train_data.__getitem__(d).items():\n",
    "        if key == \"v_in\":\n",
    "            for i in range(60):\n",
    "                if value[i].all() != 0:\n",
    "                    for j in range(19):\n",
    "                        v_in_x = np.append(v_in_x, value[i][j][0])"
   ]
  },
  {
   "cell_type": "code",
   "execution_count": null,
   "id": "1f8a5da0",
   "metadata": {},
   "outputs": [],
   "source": [
    "fig = plt.hist(v_in_x, bins=50)"
   ]
  },
  {
   "cell_type": "code",
   "execution_count": null,
   "id": "6005e087",
   "metadata": {},
   "outputs": [],
   "source": [
    "v_in_y = np.empty([0])\n",
    "for d in tqdm(range(3200)):\n",
    "    for key, value in train_data.__getitem__(d).items():\n",
    "        if key == \"v_in\":\n",
    "            for i in range(60):\n",
    "                if value[i].all() != 0:\n",
    "                    for j in range(19):\n",
    "                        v_in_y = np.append(v_in_y, value[i][j][1])"
   ]
  },
  {
   "cell_type": "code",
   "execution_count": null,
   "id": "dbc6720a",
   "metadata": {},
   "outputs": [],
   "source": [
    "fig = plt.hist(v_in_y, bins=50)"
   ]
  },
  {
   "cell_type": "code",
   "execution_count": null,
   "id": "09f096a2",
   "metadata": {},
   "outputs": [],
   "source": [
    "p_out_x = np.empty([0])\n",
    "for d in tqdm(range(3200)):\n",
    "    for key, value in train_data.__getitem__(d).items():\n",
    "        if key == \"p_out\":\n",
    "            for i in range(60):\n",
    "                if value[i].all() != 0:\n",
    "                    for j in range(30):\n",
    "                        p_out_x = np.append(p_out_x, value[i][j][0])\n",
    "\n",
    "fig = plt.hist(p_out_x, bins=10)"
   ]
  },
  {
   "cell_type": "code",
   "execution_count": null,
   "id": "b4bbffb5",
   "metadata": {},
   "outputs": [],
   "source": [
    "p_out_y = np.empty([0])\n",
    "for d in tqdm(range(3200)):\n",
    "    for key, value in train_data.__getitem__(d).items():\n",
    "        if key == \"p_out\":\n",
    "            for i in range(60):\n",
    "                if value[i].all() != 0:\n",
    "                    for j in range(30):\n",
    "                        p_out_y = np.append(p_out_y, value[i][j][1])\n",
    "\n",
    "fig = plt.hist(p_out_y, bins=10)"
   ]
  },
  {
   "cell_type": "code",
   "execution_count": null,
   "id": "2ba62d10",
   "metadata": {},
   "outputs": [],
   "source": [
    "v_out_x = np.empty([0])\n",
    "for d in tqdm(range(3200)):\n",
    "    for key, value in train_data.__getitem__(d).items():\n",
    "        if key == \"v_out\":\n",
    "            for i in range(60):\n",
    "                if value[i].all() != 0:\n",
    "                    for j in range(30):\n",
    "                        v_out_x = np.append(v_out_x, value[i][j][0])"
   ]
  },
  {
   "cell_type": "code",
   "execution_count": null,
   "id": "9d0e04a5",
   "metadata": {},
   "outputs": [],
   "source": [
    "fig = plt.hist(v_out_x, bins=50)"
   ]
  },
  {
   "cell_type": "code",
   "execution_count": null,
   "id": "d93a9533",
   "metadata": {},
   "outputs": [],
   "source": [
    "v_out_y = np.empty([0])\n",
    "for d in tqdm(range(3200)):\n",
    "    for key, value in train_data.__getitem__(d).items():\n",
    "        if key == \"v_out\":\n",
    "            for i in range(60):\n",
    "                if value[i].all() != 0:\n",
    "                    for j in range(30):\n",
    "                        v_out_y = np.append(v_out_y, value[i][j][1])\n",
    "\n",
    "fig = plt.hist(v_out_y, bins=50)"
   ]
  },
  {
   "cell_type": "code",
   "execution_count": null,
   "id": "5ea462ca",
   "metadata": {},
   "outputs": [],
   "source": [
    "fig = plt.hist(v_out_y, bins=50)"
   ]
  },
  {
   "cell_type": "code",
   "execution_count": null,
   "id": "f27c08b4",
   "metadata": {},
   "outputs": [],
   "source": [
    "euclidean = np.empty([0])\n",
    "for d in tqdm(range(3200)):\n",
    "    for key, value in train_data.__getitem__(d).items():\n",
    "        if key == \"v_out\":\n",
    "            for i in range(60):\n",
    "                if value[i].all() != 0:\n",
    "                    for j in range(30):\n",
    "                        v_out_y = np.append(v_out_y, value[i][j][1])\n",
    "\n",
    "fig = plt.hist(v_out_y, bins=50)"
   ]
  }
 ],
 "metadata": {
  "kernelspec": {
   "display_name": "Python 3",
   "language": "python",
   "name": "python3"
  },
  "language_info": {
   "codemirror_mode": {
    "name": "ipython",
    "version": 3
   },
   "file_extension": ".py",
   "mimetype": "text/x-python",
   "name": "python",
   "nbconvert_exporter": "python",
   "pygments_lexer": "ipython3",
   "version": "3.8.8"
  }
 },
 "nbformat": 4,
 "nbformat_minor": 5
}
